{
 "cells": [
  {
   "cell_type": "code",
   "execution_count": 1,
   "metadata": {},
   "outputs": [],
   "source": [
    "import pandas as pd\n",
    "import numpy as np\n",
    "from scipy import stats\n",
    "import plotly\n",
    "import plotly.graph_objs as go\n",
    "import plotly.express as px\n",
    "from plotly.offline import download_plotlyjs,init_notebook_mode,plot,iplot"
   ]
  },
  {
   "cell_type": "code",
   "execution_count": 2,
   "metadata": {},
   "outputs": [],
   "source": [
    "def make_map(df, metrics):\n",
    "    traces=[]\n",
    "\n",
    "    for metric in metrics:\n",
    "        traces.append(go.Choropleth(locations=df['Country'].tolist(),\n",
    "                                    locationmode='country names',\n",
    "                                    z=df[metric],\n",
    "                                    colorscale='Portland',\n",
    "                                    marker_line_color='darkgray',\n",
    "                                    marker_line_width=0.5,\n",
    "                                    #text= df.Country.tolist(),\n",
    "                                    reversescale=True,\n",
    "                                    colorbar = {'title':metric, 'len':200,'lenmode':'pixels'},\n",
    "                                    visible=True if metric==metrics[0] else False)\n",
    "                     )\n",
    "\n",
    "    updatemenus = []\n",
    "\n",
    "    buttons=[]\n",
    "    for metric in metrics:\n",
    "        # May also need colorbox title?\n",
    "        buttons.append(dict(method='update',\n",
    "                            label=metric,\n",
    "                            args=[{'visible': metrics==metric}])\n",
    "                      )\n",
    "\n",
    "    dropdown = dict(buttons=buttons, direction='down',x = 0.01,xanchor = 'left',\n",
    "                    y = 0.99,yanchor = 'bottom',font = dict(size=11))\n",
    "    updatemenus=[dropdown] # If we want multiple dropdowns, add em to the list!\n",
    "    layout = dict(updatemenus=updatemenus,\n",
    "                  title='Economic and Social Freedoms')\n",
    "\n",
    "    col_map = go.Figure(data = traces,layout = layout)\n",
    "    iplot(col_map)"
   ]
  },
  {
   "cell_type": "code",
   "execution_count": 3,
   "metadata": {},
   "outputs": [],
   "source": [
    "def regional_ttest(df, metrics):\n",
    "    regions = df.Region.unique()\n",
    "    regions_short = ['Asia-Pac', 'Eur', 'ME & NA', 'Sub-Shra', 'Americas']\n",
    "    scores = {}\n",
    "    for col in metrics:\n",
    "        scores_col = {}\n",
    "        for i in range(len(regions)-1):\n",
    "            for j in range(i+1,len(regions)):\n",
    "                p = stats.ttest_ind(df.loc[df.Region==regions[i],col].dropna(),\n",
    "                                    df.loc[df.Region==regions[j],col].dropna())[1]\n",
    "                scores_col[regions_short[i]+' - '+regions_short[j]] = p\n",
    "        scores[col] = scores_col\n",
    "    return scores"
   ]
  },
  {
   "cell_type": "code",
   "execution_count": 4,
   "metadata": {},
   "outputs": [
    {
     "ename": "NameError",
     "evalue": "name 'df' is not defined",
     "output_type": "error",
     "traceback": [
      "\u001b[1;31m---------------------------------------------------------------------------\u001b[0m",
      "\u001b[1;31mNameError\u001b[0m                                 Traceback (most recent call last)",
      "\u001b[1;32m<ipython-input-4-e73907c7ea8f>\u001b[0m in \u001b[0;36m<module>\u001b[1;34m\u001b[0m\n\u001b[1;32m----> 1\u001b[1;33m \u001b[0mdf\u001b[0m\u001b[1;33m.\u001b[0m\u001b[0mCountry\u001b[0m\u001b[1;33m.\u001b[0m\u001b[0mnunique\u001b[0m\u001b[1;33m(\u001b[0m\u001b[1;33m)\u001b[0m\u001b[1;33m\u001b[0m\u001b[1;33m\u001b[0m\u001b[0m\n\u001b[0m",
      "\u001b[1;31mNameError\u001b[0m: name 'df' is not defined"
     ]
    }
   ],
   "source": [
    "df.Country.nunique()"
   ]
  },
  {
   "cell_type": "code",
   "execution_count": null,
   "metadata": {},
   "outputs": [],
   "source": [
    "hdi = pd.read_csv('human_dev_2018.csv',encoding='latin-1')\n",
    "gender_dev = pd.read_csv('gender_dev_2018.csv',encoding='latin-1')\n",
    "gender_ineq = pd.read_csv('gender_dev_2018.csv',encoding='latin-1')\n",
    "econ = pd.read_csv('economic_freedom_2019.csv', encoding='latin-1')\n",
    "\n",
    "df = hdi.merge(gender_dev,on='Country', suffixes=['_hdi','_gdev'])\n",
    "df = df.merge(gender_ineq, on='Country',suffixes=['','_gineq'])\n",
    "df = df.merge(econ, left_on='Country', right_on='Country Name',suffixes=['','_econ'])\n",
    "df.replace('..',np.nan,inplace=True)\n",
    "\n",
    "df.replace(',','', regex=True, inplace=True)\n",
    "df.replace('\\$','', regex=True, inplace=True)\n",
    "df.replace('40.0 (2015 est.)', '40.0', inplace=True)\n",
    "df.replace('6.1 CHF (2014 )', '6.1', inplace=True)\n",
    "df.replace('2.1 (2016)', '2.1', inplace=True)\n",
    "df.replace('38000 ppl.', '38000', inplace=True)\n",
    "df.replace('139100 (2009 est.)', '139100', inplace=True)\n",
    "df.replace('1700 (2015 est.)','1700', inplace=True)\n",
    "df=df.astype({'Population (Millions)': 'float64','GDP (Billions, PPP)': 'float64',\n",
    "              'GDP per Capita (PPP)': 'float64','Unemployment (%)': 'float64',\n",
    "              'FDI Inflow (Millions)': 'float64', 'GDI': 'float64' })\n",
    "df.rename(columns={'Country_x':'Country'}, inplace=True)\n",
    "\n",
    "df['HDI_gender_diff'] = df['HDI_f'].astype('float') - df['HDI_m'].astype('float')\n",
    "df['HDI_delta'] = df['HDI_rank'] - df['HDI_rank_2017']\n",
    "df['Mean_sch_diff'] = df['Mean_sch_f'].astype('float') - df['Mean_sch_m'].astype('float')\n",
    "df['Life_exp_diff'] = df['Life_exp_m'].astype('float') - df['Life_exp_f'].astype('float')\n",
    "\n",
    "df"
   ]
  },
  {
   "cell_type": "code",
   "execution_count": null,
   "metadata": {},
   "outputs": [],
   "source": [
    "to_get_regional = ['HDI','Government Integrity', 'Business Freedom', 'Labor Freedom',\n",
    "             'GDI', 'HDI_gender_diff', 'GDP (Billions, PPP)', 'GDP Growth Rate (%)',\n",
    "             'Unemployment (%)']"
   ]
  },
  {
   "cell_type": "code",
   "execution_count": null,
   "metadata": {},
   "outputs": [],
   "source": [
    "# Getting a bug with .transform so need to use a lambda instead\n",
    "regional = df.groupby('Region')[to_get_regional].mean()\n",
    "regional_col_names = [x+'_regional' for x in to_get_regional]\n",
    "df[regional_col_names]=df.apply(lambda x: regional.loc[x.Region, to_get_regional],axis=1)"
   ]
  },
  {
   "cell_type": "code",
   "execution_count": null,
   "metadata": {},
   "outputs": [],
   "source": [
    "to_plot = np.array(['HDI','Life_exp','Mean_sch','GNI_percap','GDI','Labor Freedom',\n",
    "                   'HDI_gender_diff', 'HDI_delta', 'Life_exp_diff',\n",
    "                   'Mean_sch_diff']+regional_col_names)"
   ]
  },
  {
   "cell_type": "code",
   "execution_count": null,
   "metadata": {},
   "outputs": [],
   "source": [
    "ttests = regional_ttest(df, to_get_regional)\n",
    "for key in ttests[\"Government Integrity\"].keys():\n",
    "    print(f'{key}: {ttests[\"Government Integrity\"][key]:.4f}')\n",
    "#print(np.round(np.array(ttests['Government Integrity'], 4))"
   ]
  },
  {
   "cell_type": "code",
   "execution_count": null,
   "metadata": {},
   "outputs": [],
   "source": [
    "make_map(df, to_plot)"
   ]
  }
 ],
 "metadata": {
  "kernelspec": {
   "display_name": "Python 3",
   "language": "python",
   "name": "python3"
  },
  "language_info": {
   "codemirror_mode": {
    "name": "ipython",
    "version": 3
   },
   "file_extension": ".py",
   "mimetype": "text/x-python",
   "name": "python",
   "nbconvert_exporter": "python",
   "pygments_lexer": "ipython3",
   "version": "3.7.4"
  }
 },
 "nbformat": 4,
 "nbformat_minor": 4
}
