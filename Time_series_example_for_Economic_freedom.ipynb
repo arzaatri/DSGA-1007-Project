{
  "nbformat": 4,
  "nbformat_minor": 0,
  "metadata": {
    "colab": {
      "name": "Time series example for Economic freedom.ipynb",
      "provenance": [],
      "collapsed_sections": []
    },
    "kernelspec": {
      "name": "python3",
      "display_name": "Python 3"
    }
  },
  "cells": [
    {
      "cell_type": "code",
      "metadata": {
        "id": "Yl4pzRo9WdJs",
        "colab": {
          "base_uri": "https://localhost:8080/"
        },
        "outputId": "37ef91b3-56fe-4e40-98c8-5820fc889da6"
      },
      "source": [
        "from google.colab import drive\n",
        "drive.mount('/content/drive')\n"
      ],
      "execution_count": 1,
      "outputs": [
        {
          "output_type": "stream",
          "text": [
            "Mounted at /content/drive\n"
          ],
          "name": "stdout"
        }
      ]
    },
    {
      "cell_type": "code",
      "metadata": {
        "id": "NpZwYMxKXV48"
      },
      "source": [
        "import pandas as pd\n",
        "import numpy as np\n",
        "import plotly.express as px\n",
        "import plotly "
      ],
      "execution_count": 2,
      "outputs": []
    },
    {
      "cell_type": "code",
      "metadata": {
        "id": "Sg-5gv0wU2dV",
        "colab": {
          "base_uri": "https://localhost:8080/",
          "height": 35
        },
        "outputId": "6bcfa6dd-8dd8-40a2-ea26-0f7527d0062f"
      },
      "source": [
        "# Download Life expectancy based on economic freedom with time line\n",
        "\n",
        "'''\n",
        "Life expectancy:\n",
        "https://www.kaggle.com/kumarajarshi/life-expectancy-who\n",
        "\n",
        "Economic freedom \n",
        "https://www.kaggle.com/gsutters/economic-freedom \n",
        "'''"
      ],
      "execution_count": 3,
      "outputs": [
        {
          "output_type": "execute_result",
          "data": {
            "application/vnd.google.colaboratory.intrinsic+json": {
              "type": "string"
            },
            "text/plain": [
              "'\\nLife expectancy:\\nhttps://www.kaggle.com/kumarajarshi/life-expectancy-who\\n\\nEconomic freedom \\nhttps://www.kaggle.com/gsutters/economic-freedom \\n'"
            ]
          },
          "metadata": {
            "tags": []
          },
          "execution_count": 3
        }
      ]
    },
    {
      "cell_type": "code",
      "metadata": {
        "id": "eh9gmBGtXshy"
      },
      "source": [
        "# File location \n",
        "\n",
        "economic_freedom = 'drive/My Drive/NYU/Programming_for_DS/Data/efw_cc.csv'\n",
        "life_expectancy  = 'drive/My Drive/NYU/Programming_for_DS/Data/Life Expectancy Data.csv'"
      ],
      "execution_count": 4,
      "outputs": []
    },
    {
      "cell_type": "code",
      "metadata": {
        "id": "HrlSJVWKXFPh"
      },
      "source": [
        "df_ef = pd.read_csv(economic_freedom)\n",
        "df_le = pd.read_csv(life_expectancy)"
      ],
      "execution_count": 5,
      "outputs": []
    },
    {
      "cell_type": "code",
      "metadata": {
        "colab": {
          "base_uri": "https://localhost:8080/"
        },
        "id": "eMPcwICFOWxK",
        "outputId": "0d53bc03-36f8-4630-bda6-f1a9ea9cf3e6"
      },
      "source": [
        "#Common years between two datasets\n",
        "\n",
        "ef_date = df_ef.year.unique()\n",
        "df_date = df_le.Year.unique()\n",
        "common_years = np.intersect1d(ef_date, df_date)\n",
        "\n",
        "print(common_years)"
      ],
      "execution_count": 6,
      "outputs": [
        {
          "output_type": "stream",
          "text": [
            "[2000 2001 2002 2003 2004 2005 2006 2007 2008 2009 2010 2011 2012 2013\n",
            " 2014 2015]\n"
          ],
          "name": "stdout"
        }
      ]
    },
    {
      "cell_type": "code",
      "metadata": {
        "colab": {
          "base_uri": "https://localhost:8080/",
          "height": 241
        },
        "id": "zUcuXdJ-yoSr",
        "outputId": "3b4d0ad6-4846-4d26-8c19-9b4c39eb70f8"
      },
      "source": [
        "# Economic Freedom\n",
        "\n",
        "df_ef.head()"
      ],
      "execution_count": 7,
      "outputs": [
        {
          "output_type": "execute_result",
          "data": {
            "text/html": [
              "<div>\n",
              "<style scoped>\n",
              "    .dataframe tbody tr th:only-of-type {\n",
              "        vertical-align: middle;\n",
              "    }\n",
              "\n",
              "    .dataframe tbody tr th {\n",
              "        vertical-align: top;\n",
              "    }\n",
              "\n",
              "    .dataframe thead th {\n",
              "        text-align: right;\n",
              "    }\n",
              "</style>\n",
              "<table border=\"1\" class=\"dataframe\">\n",
              "  <thead>\n",
              "    <tr style=\"text-align: right;\">\n",
              "      <th></th>\n",
              "      <th>year</th>\n",
              "      <th>ISO_code</th>\n",
              "      <th>countries</th>\n",
              "      <th>ECONOMIC FREEDOM</th>\n",
              "      <th>rank</th>\n",
              "      <th>quartile</th>\n",
              "      <th>1a_government_consumption</th>\n",
              "      <th>1b_transfers</th>\n",
              "      <th>1c_gov_enterprises</th>\n",
              "      <th>1d_top_marg_tax_rate</th>\n",
              "      <th>1_size_government</th>\n",
              "      <th>2a_judicial_independence</th>\n",
              "      <th>2b_impartial_courts</th>\n",
              "      <th>2c_protection_property_rights</th>\n",
              "      <th>2d_military_interference</th>\n",
              "      <th>2e_integrity_legal_system</th>\n",
              "      <th>2f_legal_enforcement_contracts</th>\n",
              "      <th>2g_restrictions_sale_real_property</th>\n",
              "      <th>2h_reliability_police</th>\n",
              "      <th>2i_business_costs_crime</th>\n",
              "      <th>2j_gender_adjustment</th>\n",
              "      <th>2_property_rights</th>\n",
              "      <th>3a_money_growth</th>\n",
              "      <th>3b_std_inflation</th>\n",
              "      <th>3c_inflation</th>\n",
              "      <th>3d_freedom_own_foreign_currency</th>\n",
              "      <th>3_sound_money</th>\n",
              "      <th>4a_tariffs</th>\n",
              "      <th>4b_regulatory_trade_barriers</th>\n",
              "      <th>4c_black_market</th>\n",
              "      <th>4d_control_movement_capital_ppl</th>\n",
              "      <th>4_trade</th>\n",
              "      <th>5a_credit_market_reg</th>\n",
              "      <th>5b_labor_market_reg</th>\n",
              "      <th>5c_business_reg</th>\n",
              "      <th>5_regulation</th>\n",
              "    </tr>\n",
              "  </thead>\n",
              "  <tbody>\n",
              "    <tr>\n",
              "      <th>0</th>\n",
              "      <td>2016</td>\n",
              "      <td>ALB</td>\n",
              "      <td>Albania</td>\n",
              "      <td>7.54</td>\n",
              "      <td>34.0</td>\n",
              "      <td>1.0</td>\n",
              "      <td>8.232353</td>\n",
              "      <td>7.509902</td>\n",
              "      <td>8.0</td>\n",
              "      <td>8.0</td>\n",
              "      <td>7.935564</td>\n",
              "      <td>2.668222</td>\n",
              "      <td>3.145462</td>\n",
              "      <td>4.512228</td>\n",
              "      <td>8.333333</td>\n",
              "      <td>4.166667</td>\n",
              "      <td>4.387444</td>\n",
              "      <td>6.485287</td>\n",
              "      <td>6.933500</td>\n",
              "      <td>6.215401</td>\n",
              "      <td>0.948718</td>\n",
              "      <td>5.071814</td>\n",
              "      <td>8.986454</td>\n",
              "      <td>9.484575</td>\n",
              "      <td>9.74360</td>\n",
              "      <td>10.0</td>\n",
              "      <td>9.553657</td>\n",
              "      <td>8.963556</td>\n",
              "      <td>7.489905</td>\n",
              "      <td>10.00000</td>\n",
              "      <td>6.406138</td>\n",
              "      <td>8.214900</td>\n",
              "      <td>7.098562</td>\n",
              "      <td>6.916278</td>\n",
              "      <td>6.705863</td>\n",
              "      <td>6.906901</td>\n",
              "    </tr>\n",
              "    <tr>\n",
              "      <th>1</th>\n",
              "      <td>2016</td>\n",
              "      <td>DZA</td>\n",
              "      <td>Algeria</td>\n",
              "      <td>4.99</td>\n",
              "      <td>159.0</td>\n",
              "      <td>4.0</td>\n",
              "      <td>2.150000</td>\n",
              "      <td>7.817129</td>\n",
              "      <td>0.0</td>\n",
              "      <td>4.5</td>\n",
              "      <td>3.616782</td>\n",
              "      <td>4.186704</td>\n",
              "      <td>4.327113</td>\n",
              "      <td>4.689952</td>\n",
              "      <td>4.166667</td>\n",
              "      <td>5.000000</td>\n",
              "      <td>4.507538</td>\n",
              "      <td>6.626692</td>\n",
              "      <td>6.136845</td>\n",
              "      <td>6.737383</td>\n",
              "      <td>0.820513</td>\n",
              "      <td>4.690743</td>\n",
              "      <td>6.955962</td>\n",
              "      <td>8.339152</td>\n",
              "      <td>8.72046</td>\n",
              "      <td>5.0</td>\n",
              "      <td>7.253894</td>\n",
              "      <td>6.872533</td>\n",
              "      <td>2.481294</td>\n",
              "      <td>5.56391</td>\n",
              "      <td>1.590362</td>\n",
              "      <td>4.127025</td>\n",
              "      <td>5.100509</td>\n",
              "      <td>5.029513</td>\n",
              "      <td>5.676956</td>\n",
              "      <td>5.268992</td>\n",
              "    </tr>\n",
              "    <tr>\n",
              "      <th>2</th>\n",
              "      <td>2016</td>\n",
              "      <td>AGO</td>\n",
              "      <td>Angola</td>\n",
              "      <td>5.17</td>\n",
              "      <td>155.0</td>\n",
              "      <td>4.0</td>\n",
              "      <td>7.600000</td>\n",
              "      <td>8.886739</td>\n",
              "      <td>0.0</td>\n",
              "      <td>9.5</td>\n",
              "      <td>6.496685</td>\n",
              "      <td>1.843129</td>\n",
              "      <td>1.974566</td>\n",
              "      <td>2.512364</td>\n",
              "      <td>3.333333</td>\n",
              "      <td>4.166667</td>\n",
              "      <td>2.302200</td>\n",
              "      <td>5.455882</td>\n",
              "      <td>3.016104</td>\n",
              "      <td>4.291197</td>\n",
              "      <td>0.846154</td>\n",
              "      <td>2.963635</td>\n",
              "      <td>9.385679</td>\n",
              "      <td>4.986742</td>\n",
              "      <td>3.05400</td>\n",
              "      <td>5.0</td>\n",
              "      <td>5.606605</td>\n",
              "      <td>6.989244</td>\n",
              "      <td>2.024949</td>\n",
              "      <td>10.00000</td>\n",
              "      <td>2.044823</td>\n",
              "      <td>5.264754</td>\n",
              "      <td>7.064905</td>\n",
              "      <td>4.560325</td>\n",
              "      <td>4.930271</td>\n",
              "      <td>5.518500</td>\n",
              "    </tr>\n",
              "    <tr>\n",
              "      <th>3</th>\n",
              "      <td>2016</td>\n",
              "      <td>ARG</td>\n",
              "      <td>Argentina</td>\n",
              "      <td>4.84</td>\n",
              "      <td>160.0</td>\n",
              "      <td>4.0</td>\n",
              "      <td>5.335294</td>\n",
              "      <td>6.048930</td>\n",
              "      <td>6.0</td>\n",
              "      <td>4.0</td>\n",
              "      <td>5.346056</td>\n",
              "      <td>3.689690</td>\n",
              "      <td>2.930563</td>\n",
              "      <td>4.255995</td>\n",
              "      <td>7.500000</td>\n",
              "      <td>3.333333</td>\n",
              "      <td>3.632872</td>\n",
              "      <td>6.857195</td>\n",
              "      <td>3.385786</td>\n",
              "      <td>4.133832</td>\n",
              "      <td>0.769231</td>\n",
              "      <td>3.904030</td>\n",
              "      <td>5.233264</td>\n",
              "      <td>5.224079</td>\n",
              "      <td>2.00000</td>\n",
              "      <td>10.0</td>\n",
              "      <td>5.614336</td>\n",
              "      <td>6.421600</td>\n",
              "      <td>4.811105</td>\n",
              "      <td>0.00000</td>\n",
              "      <td>4.697482</td>\n",
              "      <td>3.982547</td>\n",
              "      <td>5.419820</td>\n",
              "      <td>5.151405</td>\n",
              "      <td>5.535831</td>\n",
              "      <td>5.369019</td>\n",
              "    </tr>\n",
              "    <tr>\n",
              "      <th>4</th>\n",
              "      <td>2016</td>\n",
              "      <td>ARM</td>\n",
              "      <td>Armenia</td>\n",
              "      <td>7.57</td>\n",
              "      <td>29.0</td>\n",
              "      <td>1.0</td>\n",
              "      <td>7.264706</td>\n",
              "      <td>7.748532</td>\n",
              "      <td>8.0</td>\n",
              "      <td>5.0</td>\n",
              "      <td>7.003310</td>\n",
              "      <td>3.867379</td>\n",
              "      <td>4.197569</td>\n",
              "      <td>5.664317</td>\n",
              "      <td>5.833333</td>\n",
              "      <td>5.000000</td>\n",
              "      <td>5.196693</td>\n",
              "      <td>9.801963</td>\n",
              "      <td>5.714028</td>\n",
              "      <td>7.007654</td>\n",
              "      <td>1.000000</td>\n",
              "      <td>5.809215</td>\n",
              "      <td>9.078264</td>\n",
              "      <td>9.263496</td>\n",
              "      <td>9.74600</td>\n",
              "      <td>10.0</td>\n",
              "      <td>9.521940</td>\n",
              "      <td>8.547556</td>\n",
              "      <td>7.194410</td>\n",
              "      <td>10.00000</td>\n",
              "      <td>6.830998</td>\n",
              "      <td>8.143241</td>\n",
              "      <td>9.102046</td>\n",
              "      <td>6.234630</td>\n",
              "      <td>6.797530</td>\n",
              "      <td>7.378069</td>\n",
              "    </tr>\n",
              "  </tbody>\n",
              "</table>\n",
              "</div>"
            ],
            "text/plain": [
              "   year ISO_code  countries  ...  5b_labor_market_reg  5c_business_reg  5_regulation\n",
              "0  2016      ALB    Albania  ...             6.916278         6.705863      6.906901\n",
              "1  2016      DZA    Algeria  ...             5.029513         5.676956      5.268992\n",
              "2  2016      AGO     Angola  ...             4.560325         4.930271      5.518500\n",
              "3  2016      ARG  Argentina  ...             5.151405         5.535831      5.369019\n",
              "4  2016      ARM    Armenia  ...             6.234630         6.797530      7.378069\n",
              "\n",
              "[5 rows x 36 columns]"
            ]
          },
          "metadata": {
            "tags": []
          },
          "execution_count": 7
        }
      ]
    },
    {
      "cell_type": "code",
      "metadata": {
        "colab": {
          "base_uri": "https://localhost:8080/",
          "height": 238
        },
        "id": "CiXTz4XOpP3n",
        "outputId": "21ef96dc-46d0-4913-cf18-204a7970fe94"
      },
      "source": [
        "# Life Expectancy\n",
        "\n",
        "df_le.head()"
      ],
      "execution_count": 8,
      "outputs": [
        {
          "output_type": "execute_result",
          "data": {
            "text/html": [
              "<div>\n",
              "<style scoped>\n",
              "    .dataframe tbody tr th:only-of-type {\n",
              "        vertical-align: middle;\n",
              "    }\n",
              "\n",
              "    .dataframe tbody tr th {\n",
              "        vertical-align: top;\n",
              "    }\n",
              "\n",
              "    .dataframe thead th {\n",
              "        text-align: right;\n",
              "    }\n",
              "</style>\n",
              "<table border=\"1\" class=\"dataframe\">\n",
              "  <thead>\n",
              "    <tr style=\"text-align: right;\">\n",
              "      <th></th>\n",
              "      <th>Country</th>\n",
              "      <th>Year</th>\n",
              "      <th>Status</th>\n",
              "      <th>Life expectancy</th>\n",
              "      <th>Adult Mortality</th>\n",
              "      <th>infant deaths</th>\n",
              "      <th>Alcohol</th>\n",
              "      <th>percentage expenditure</th>\n",
              "      <th>Hepatitis B</th>\n",
              "      <th>Measles</th>\n",
              "      <th>BMI</th>\n",
              "      <th>under-five deaths</th>\n",
              "      <th>Polio</th>\n",
              "      <th>Total expenditure</th>\n",
              "      <th>Diphtheria</th>\n",
              "      <th>HIV/AIDS</th>\n",
              "      <th>GDP</th>\n",
              "      <th>Population</th>\n",
              "      <th>thinness  1-19 years</th>\n",
              "      <th>thinness 5-9 years</th>\n",
              "      <th>Income composition of resources</th>\n",
              "      <th>Schooling</th>\n",
              "    </tr>\n",
              "  </thead>\n",
              "  <tbody>\n",
              "    <tr>\n",
              "      <th>0</th>\n",
              "      <td>Afghanistan</td>\n",
              "      <td>2015</td>\n",
              "      <td>Developing</td>\n",
              "      <td>65.0</td>\n",
              "      <td>263.0</td>\n",
              "      <td>62</td>\n",
              "      <td>0.01</td>\n",
              "      <td>71.279624</td>\n",
              "      <td>65.0</td>\n",
              "      <td>1154</td>\n",
              "      <td>19.1</td>\n",
              "      <td>83</td>\n",
              "      <td>6.0</td>\n",
              "      <td>8.16</td>\n",
              "      <td>65.0</td>\n",
              "      <td>0.1</td>\n",
              "      <td>584.259210</td>\n",
              "      <td>33736494.0</td>\n",
              "      <td>17.2</td>\n",
              "      <td>17.3</td>\n",
              "      <td>0.479</td>\n",
              "      <td>10.1</td>\n",
              "    </tr>\n",
              "    <tr>\n",
              "      <th>1</th>\n",
              "      <td>Afghanistan</td>\n",
              "      <td>2014</td>\n",
              "      <td>Developing</td>\n",
              "      <td>59.9</td>\n",
              "      <td>271.0</td>\n",
              "      <td>64</td>\n",
              "      <td>0.01</td>\n",
              "      <td>73.523582</td>\n",
              "      <td>62.0</td>\n",
              "      <td>492</td>\n",
              "      <td>18.6</td>\n",
              "      <td>86</td>\n",
              "      <td>58.0</td>\n",
              "      <td>8.18</td>\n",
              "      <td>62.0</td>\n",
              "      <td>0.1</td>\n",
              "      <td>612.696514</td>\n",
              "      <td>327582.0</td>\n",
              "      <td>17.5</td>\n",
              "      <td>17.5</td>\n",
              "      <td>0.476</td>\n",
              "      <td>10.0</td>\n",
              "    </tr>\n",
              "    <tr>\n",
              "      <th>2</th>\n",
              "      <td>Afghanistan</td>\n",
              "      <td>2013</td>\n",
              "      <td>Developing</td>\n",
              "      <td>59.9</td>\n",
              "      <td>268.0</td>\n",
              "      <td>66</td>\n",
              "      <td>0.01</td>\n",
              "      <td>73.219243</td>\n",
              "      <td>64.0</td>\n",
              "      <td>430</td>\n",
              "      <td>18.1</td>\n",
              "      <td>89</td>\n",
              "      <td>62.0</td>\n",
              "      <td>8.13</td>\n",
              "      <td>64.0</td>\n",
              "      <td>0.1</td>\n",
              "      <td>631.744976</td>\n",
              "      <td>31731688.0</td>\n",
              "      <td>17.7</td>\n",
              "      <td>17.7</td>\n",
              "      <td>0.470</td>\n",
              "      <td>9.9</td>\n",
              "    </tr>\n",
              "    <tr>\n",
              "      <th>3</th>\n",
              "      <td>Afghanistan</td>\n",
              "      <td>2012</td>\n",
              "      <td>Developing</td>\n",
              "      <td>59.5</td>\n",
              "      <td>272.0</td>\n",
              "      <td>69</td>\n",
              "      <td>0.01</td>\n",
              "      <td>78.184215</td>\n",
              "      <td>67.0</td>\n",
              "      <td>2787</td>\n",
              "      <td>17.6</td>\n",
              "      <td>93</td>\n",
              "      <td>67.0</td>\n",
              "      <td>8.52</td>\n",
              "      <td>67.0</td>\n",
              "      <td>0.1</td>\n",
              "      <td>669.959000</td>\n",
              "      <td>3696958.0</td>\n",
              "      <td>17.9</td>\n",
              "      <td>18.0</td>\n",
              "      <td>0.463</td>\n",
              "      <td>9.8</td>\n",
              "    </tr>\n",
              "    <tr>\n",
              "      <th>4</th>\n",
              "      <td>Afghanistan</td>\n",
              "      <td>2011</td>\n",
              "      <td>Developing</td>\n",
              "      <td>59.2</td>\n",
              "      <td>275.0</td>\n",
              "      <td>71</td>\n",
              "      <td>0.01</td>\n",
              "      <td>7.097109</td>\n",
              "      <td>68.0</td>\n",
              "      <td>3013</td>\n",
              "      <td>17.2</td>\n",
              "      <td>97</td>\n",
              "      <td>68.0</td>\n",
              "      <td>7.87</td>\n",
              "      <td>68.0</td>\n",
              "      <td>0.1</td>\n",
              "      <td>63.537231</td>\n",
              "      <td>2978599.0</td>\n",
              "      <td>18.2</td>\n",
              "      <td>18.2</td>\n",
              "      <td>0.454</td>\n",
              "      <td>9.5</td>\n",
              "    </tr>\n",
              "  </tbody>\n",
              "</table>\n",
              "</div>"
            ],
            "text/plain": [
              "       Country  Year  ... Income composition of resources  Schooling\n",
              "0  Afghanistan  2015  ...                           0.479       10.1\n",
              "1  Afghanistan  2014  ...                           0.476       10.0\n",
              "2  Afghanistan  2013  ...                           0.470        9.9\n",
              "3  Afghanistan  2012  ...                           0.463        9.8\n",
              "4  Afghanistan  2011  ...                           0.454        9.5\n",
              "\n",
              "[5 rows x 22 columns]"
            ]
          },
          "metadata": {
            "tags": []
          },
          "execution_count": 8
        }
      ]
    },
    {
      "cell_type": "code",
      "metadata": {
        "id": "-UxTlLDZR8aP"
      },
      "source": [
        "#Renaming columns to make year and county column name consistant b/w df's\n",
        "\n",
        "df_ef['Year']      = df_ef['year']\n",
        "df_ef['Country']   = df_ef['countries']\n",
        "df_le['Life expectancy'] = df_le['Life expectancy ']"
      ],
      "execution_count": 9,
      "outputs": []
    },
    {
      "cell_type": "code",
      "metadata": {
        "id": "-2nrtSoVOXaM"
      },
      "source": [
        "# Merging dataframe\n",
        "\n",
        "merged_df = df_ef.merge(df_le, on=['Year', 'Country'])"
      ],
      "execution_count": 10,
      "outputs": []
    },
    {
      "cell_type": "code",
      "metadata": {
        "id": "zjHgqLhCOYKL"
      },
      "source": [
        "# Interested in Life expectancy and ECONOMIC FREEDOM\n",
        "\n",
        "interested_cols = ['Year', 'ISO_code','Country','ECONOMIC FREEDOM', 'Adult Mortality', 'infant deaths', 'Life expectancy']\n",
        "clean_df = merged_df[interested_cols]"
      ],
      "execution_count": 11,
      "outputs": []
    },
    {
      "cell_type": "code",
      "metadata": {
        "colab": {
          "base_uri": "https://localhost:8080/"
        },
        "id": "9ZDQ-FO0OYmj",
        "outputId": "4b9396a4-ad6c-428e-dea2-c97730dda068"
      },
      "source": [
        "# Check if : (all the merged rows)  and (where count is ==16 rows) are same\n",
        "\n",
        "print(clean_df.groupby(by='Country').count()['Year'].shape[0])\n",
        "print(clean_df.groupby(by='Country').count() [ clean_df.groupby(by='Country').count()['Year']==16].shape[0])"
      ],
      "execution_count": 12,
      "outputs": [
        {
          "output_type": "stream",
          "text": [
            "133\n",
            "133\n"
          ],
          "name": "stdout"
        }
      ]
    },
    {
      "cell_type": "code",
      "metadata": {
        "colab": {
          "base_uri": "https://localhost:8080/"
        },
        "id": "0PgRAz-Gr7HC",
        "outputId": "647aeda5-a076-4367-ae7b-d70185b0f9a1"
      },
      "source": [
        "# Checking Unique Years in clean_df\n",
        "\n",
        "clean_df.Year.unique()"
      ],
      "execution_count": 13,
      "outputs": [
        {
          "output_type": "execute_result",
          "data": {
            "text/plain": [
              "array([2015, 2014, 2013, 2012, 2011, 2010, 2009, 2008, 2007, 2006, 2005,\n",
              "       2004, 2003, 2002, 2001, 2000])"
            ]
          },
          "metadata": {
            "tags": []
          },
          "execution_count": 13
        }
      ]
    },
    {
      "cell_type": "code",
      "metadata": {
        "colab": {
          "base_uri": "https://localhost:8080/",
          "height": 542
        },
        "id": "3WWHK0NVOY9-",
        "outputId": "16a8fe8c-4ad2-4b3f-85f4-63c44984738f"
      },
      "source": [
        "# Plotting time series \n",
        "\n",
        "clean_df = clean_df.dropna()\n",
        "data_slider = []\n",
        "steps = []\n",
        "\n",
        "# Popluate data_slider\n",
        "for year in clean_df.Year.unique():\n",
        "    if year !=2000:\n",
        "      df1   = clean_df[clean_df['Year']== year]\n",
        "      df2 = clean_df[clean_df['Year']== 2000]\n",
        "      # Dict with the data for the current year\n",
        "      \n",
        "      temp_Df = df1.merge(df2, on=['ISO_code'])\n",
        "      temp_Df['delta_ef'] = temp_Df[\"ECONOMIC FREEDOM_x\"] - temp_Df[\"ECONOMIC FREEDOM_y\"]\n",
        "      temp_Df['delta_lf'] = temp_Df[\"Life expectancy_x\"]\t- temp_Df[\"Life expectancy_y\"]\n",
        "      temp_Df.dropna()\n",
        "\n",
        "      # Column z: Higher value means more correlation \n",
        "      temp_Df['z'] = abs(temp_Df['delta_ef']*temp_Df['delta_lf'] )\n",
        "\n",
        "      data_one_year = dict(\n",
        "                          type='choropleth',\n",
        "                          locations = temp_Df['ISO_code'],\n",
        "                          z=temp_Df['z'],\n",
        "                          locationmode='ISO-3',\n",
        "                          colorscale = 'Sunsetdark'\n",
        "                          )\n",
        "\n",
        "      data_slider.append(data_one_year) \n",
        "\n",
        "for i in range(len(data_slider)):\n",
        "    step = dict(method='restyle',\n",
        "                args=['visible', [False] * len(data_slider)],\n",
        "                #Label to be displayed for each step (year)\n",
        "                label='Year {}'.format(i + 2001)) \n",
        "    step['args'][1][i] = True\n",
        "    steps.append(step)\n",
        "\n",
        "sliders = [dict(active=0, pad={\"t\": 1}, steps=steps)]  \n",
        "layout = dict(geo=dict(scope='world'), sliders=sliders)\n",
        "fig = dict(data=data_slider, layout=layout) \n",
        "\n",
        "plotly.offline.iplot(fig)"
      ],
      "execution_count": 14,
      "outputs": [
        {
          "output_type": "display_data",
          "data": {
            "text/html": [
              "<html>\n",
              "<head><meta charset=\"utf-8\" /></head>\n",
              "<body>\n",
              "    <div>\n",
              "            <script src=\"https://cdnjs.cloudflare.com/ajax/libs/mathjax/2.7.5/MathJax.js?config=TeX-AMS-MML_SVG\"></script><script type=\"text/javascript\">if (window.MathJax) {MathJax.Hub.Config({SVG: {font: \"STIX-Web\"}});}</script>\n",
              "                <script type=\"text/javascript\">window.PlotlyConfig = {MathJaxConfig: 'local'};</script>\n",
              "        <script src=\"https://cdn.plot.ly/plotly-latest.min.js\"></script>    \n",
              "            <div id=\"abd81489-c4b0-4ebb-a454-bda7dfb780c7\" class=\"plotly-graph-div\" style=\"height:525px; width:100%;\"></div>\n",
              "            <script type=\"text/javascript\">\n",
              "                \n",
              "                    window.PLOTLYENV=window.PLOTLYENV || {};\n",
              "                    \n",
              "                if (document.getElementById(\"abd81489-c4b0-4ebb-a454-bda7dfb780c7\")) {\n",
              "                    Plotly.newPlot(\n",
              "                        'abd81489-c4b0-4ebb-a454-bda7dfb780c7',\n",
              "                        [{\"colorscale\": [[0.0, \"rgb(252, 222, 156)\"], [0.16666666666666666, \"rgb(250, 164, 118)\"], [0.3333333333333333, \"rgb(240, 116, 110)\"], [0.5, \"rgb(227, 79, 111)\"], [0.6666666666666666, \"rgb(220, 57, 119)\"], [0.8333333333333334, \"rgb(185, 37, 122)\"], [1.0, \"rgb(124, 29, 111)\"]], \"locationmode\": \"ISO-3\", \"locations\": [\"ALB\", \"DZA\", \"ARG\", \"AUS\", \"AUT\", \"BHS\", \"BHR\", \"BGD\", \"BRD\", \"BEL\", \"BLZ\", \"BEN\", \"BWA\", \"BRA\", \"BGR\", \"BDI\", \"CMR\", \"CAN\", \"TCD\", \"CHL\", \"CHN\", \"COL\", \"CRI\", \"HRV\", \"CYP\", \"DNK\", \"ECU\", \"EGY\", \"SLV\", \"EST\", \"FJI\", \"FIN\", \"FRA\", \"GAB\", \"DEU\", \"GHA\", \"GRC\", \"GTM\", \"GNB\", \"GUY\", \"HTI\", \"HND\", \"HUN\", \"ISL\", \"IND\", \"IDN\", \"IRL\", \"ISR\", \"ITA\", \"JAM\", \"JPN\", \"JOR\", \"KEN\", \"KWT\", \"LVA\", \"LTU\", \"LUX\", \"MDG\", \"MWI\", \"MYS\", \"MLI\", \"MLT\", \"MUS\", \"MEX\", \"MAR\", \"MMR\", \"NAM\", \"NPL\", \"NLD\", \"NZL\", \"NIC\", \"NER\", \"NGA\", \"NOR\", \"OMN\", \"PAK\", \"PAN\", \"PRY\", \"PER\", \"PHL\", \"POL\", \"PRT\", \"ROU\", \"RWA\", \"SEN\", \"SLE\", \"SGP\", \"SVN\", \"ZAF\", \"ESP\", \"LKA\", \"SWE\", \"CHE\", \"THA\", \"TGO\", \"TUN\", \"TUR\", \"UGA\", \"UKR\", \"URY\", \"ZMB\", \"ZWE\"], \"type\": \"choropleth\", \"z\": [5.200000000000003, 0.3440000000000001, 5.1920000000000055, 0.6269999999999978, 1.0880000000000027, 2.4149999999999983, 0.11999999999999986, 2.7299999999999995, 0.8140000000000013, 1.1550000000000002, 1.134000000000001, 2.438000000000002, 1.611000000000014, 0.0, 6.2900000000000125, 1.712000000000002, 1.061999999999998, 1.1160000000000012, 1.099999999999996, 3.310999999999999, 2.815999999999993, 2.991999999999992, 0.09999999999999964, 2.5079999999999973, 7.245000000000011, 2.821000000000003, 0.7819999999999997, 7.5480000000000045, 2.6100000000000003, 0.1320000000000019, 0.37400000000000033, 0.9720000000000001, 0.4320000000000014, 0.3500000000000014, 0.3899999999999997, 3.6399999999999935, 1.4559999999999973, 3.5280000000000054, 8.703999999999999, 0.05599999999999932, 2.5479999999999974, 1.6199999999999948, 0.7380000000000014, 2.2200000000000006, 2.2620000000000022, 3.1919999999999957, 0.8499999999999996, 2.2679999999999962, 0.924, 1.0080000000000033, 1.2220000000000033, 0.9839999999999969, 0.4600000000000004, 0.5699999999999998, 1.7279999999999955, 1.8800000000000008, 2.2680000000000016, 3.3439999999999968, 10.791999999999996, 1.325999999999999, 1.4280000000000004, 3.107999999999999, 1.7279999999999955, 0.532000000000002, 2.4510000000000045, 7.51499999999999, 0.33600000000000024, 4.824000000000001, 0.8740000000000009, 0.29999999999999893, 0.6479999999999979, 8.496000000000006, 9.027999999999997, 0.9569999999999993, 3.3200000000000003, 1.3320000000000036, 0.08399999999999985, 0.6000000000000005, 0.04100000000000271, 0.7820000000000012, 3.0779999999999994, 0.40499999999999936, 3.9399999999999995, 32.39599999999999, 4.968000000000002, 13.200000000000006, 0.6720000000000024, 6.0, 1.1200000000000012, 0.8879999999999982, 1.0880000000000027, 0.05599999999999904, 1.3320000000000054, 0.7600000000000029, 0.21200000000000008, 0.551999999999999, 1.7999999999999972, 2.6689999999999983, 2.6219999999999994, 0.09500000000000164, 0.3600000000000083, 31.5]}, {\"colorscale\": [[0.0, \"rgb(252, 222, 156)\"], [0.16666666666666666, \"rgb(250, 164, 118)\"], [0.3333333333333333, \"rgb(240, 116, 110)\"], [0.5, \"rgb(227, 79, 111)\"], [0.6666666666666666, \"rgb(220, 57, 119)\"], [0.8333333333333334, \"rgb(185, 37, 122)\"], [1.0, \"rgb(124, 29, 111)\"]], \"locationmode\": \"ISO-3\", \"locations\": [\"ALB\", \"DZA\", \"ARG\", \"AUS\", \"AUT\", \"BHS\", \"BHR\", \"BGD\", \"BRD\", \"BEL\", \"BLZ\", \"BEN\", \"BWA\", \"BRA\", \"BGR\", \"BDI\", \"CMR\", \"CAN\", \"TCD\", \"CHL\", \"CHN\", \"COL\", \"CRI\", \"HRV\", \"CYP\", \"DNK\", \"ECU\", \"EGY\", \"SLV\", \"EST\", \"FJI\", \"FIN\", \"FRA\", \"GAB\", \"DEU\", \"GHA\", \"GRC\", \"GTM\", \"GNB\", \"GUY\", \"HTI\", \"HND\", \"HUN\", \"ISL\", \"IND\", \"IDN\", \"IRL\", \"ISR\", \"ITA\", \"JAM\", \"JPN\", \"JOR\", \"KEN\", \"KWT\", \"LVA\", \"LTU\", \"LUX\", \"MDG\", \"MWI\", \"MYS\", \"MLI\", \"MLT\", \"MUS\", \"MEX\", \"MAR\", \"MMR\", \"NAM\", \"NPL\", \"NLD\", \"NZL\", \"NIC\", \"NER\", \"NGA\", \"NOR\", \"OMN\", \"PAK\", \"PAN\", \"PRY\", \"PER\", \"PHL\", \"POL\", \"PRT\", \"ROU\", \"RWA\", \"SEN\", \"SLE\", \"SGP\", \"SVN\", \"ZAF\", \"ESP\", \"LKA\", \"SWE\", \"CHE\", \"THA\", \"TGO\", \"TUN\", \"TUR\", \"UGA\", \"UKR\", \"URY\", \"ZMB\", \"ZWE\"], \"type\": \"choropleth\", \"z\": [4.6550000000000065, 0.4099999999999994, 5.985000000000023, 0.5440000000000003, 0.924000000000004, 1.8480000000000079, 0.13799999999999893, 2.3790000000000013, 1.0500000000000043, 1.9380000000000002, 0.8670000000000025, 2.9670000000000045, 3.4600000000000026, 0.010000000000000285, 5.824000000000006, 1.2870000000000015, 1.5370000000000015, 0.1449999999999972, 2.3, 2.735999999999999, 2.582999999999996, 2.91199999999999, 0.07600000000000029, 2.2319999999999953, 3.381000000000006, 1.7750000000000048, 0.6400000000000011, 6.7159999999999975, 1.5909999999999993, 0.1330000000000008, 0.040000000000000924, 2.1850000000000045, 0.37399999999999867, 0.6299999999999986, 1.4299999999999988, 2.8909999999999987, 1.568000000000001, 3.200000000000003, 6.614999999999996, 0.14399999999999877, 2.159999999999998, 1.259999999999998, 1.364999999999999, 2.1279999999999974, 0.05500000000000371, 3.016000000000008, 0.19199999999999579, 2.0129999999999995, 1.0539999999999976, 1.2800000000000022, 0.9840000000000027, 1.1039999999999996, 0.32999999999999297, 0.27999999999999853, 1.9380000000000013, 1.7820000000000116, 1.5600000000000003, 4.103999999999999, 12.905000000000008, 1.103999999999996, 1.4400000000000048, 3.198000000000002, 1.5359999999999998, 0.4499999999999993, 1.925000000000003, 7.353000000000009, 0.8499999999999976, 4.756999999999996, 0.7920000000000009, 0.28999999999999954, 0.5849999999999995, 8.778000000000004, 7.865, 0.8059999999999978, 1.5960000000000045, 1.1560000000000015, 0.2469999999999987, 0.4079999999999999, 0.19499999999999887, 0.6880000000000046, 3.167999999999995, 1.7359999999999969, 4.422000000000005, 29.406000000000002, 5.518000000000004, 12.012000000000004, 0.6440000000000038, 4.729999999999997, 0.7990000000000002, 1.1199999999999979, 0.8640000000000022, 0.13499999999999968, 1.4699999999999998, 0.07000000000000162, 0.7139999999999985, 0.8359999999999974, 1.5450000000000004, 2.6819999999999955, 12.600000000000001, 0.06800000000000017, 4.671000000000009, 14.784000000000004]}, {\"colorscale\": [[0.0, \"rgb(252, 222, 156)\"], [0.16666666666666666, \"rgb(250, 164, 118)\"], [0.3333333333333333, \"rgb(240, 116, 110)\"], [0.5, \"rgb(227, 79, 111)\"], [0.6666666666666666, \"rgb(220, 57, 119)\"], [0.8333333333333334, \"rgb(185, 37, 122)\"], [1.0, \"rgb(124, 29, 111)\"]], \"locationmode\": \"ISO-3\", \"locations\": [\"ALB\", \"DZA\", \"ARG\", \"AUS\", \"AUT\", \"BHS\", \"BHR\", \"BGD\", \"BRD\", \"BEL\", \"BLZ\", \"BEN\", \"BWA\", \"BRA\", \"BGR\", \"BDI\", \"CMR\", \"CAN\", \"TCD\", \"CHL\", \"CHN\", \"COL\", \"CRI\", \"HRV\", \"CYP\", \"DNK\", \"ECU\", \"EGY\", \"SLV\", \"EST\", \"FJI\", \"FIN\", \"FRA\", \"GAB\", \"DEU\", \"GHA\", \"GRC\", \"GTM\", \"GNB\", \"GUY\", \"HTI\", \"HND\", \"HUN\", \"ISL\", \"IND\", \"IDN\", \"IRL\", \"ISR\", \"ITA\", \"JAM\", \"JPN\", \"JOR\", \"KEN\", \"KWT\", \"LVA\", \"LTU\", \"LUX\", \"MDG\", \"MWI\", \"MYS\", \"MLI\", \"MLT\", \"MUS\", \"MEX\", \"MAR\", \"MMR\", \"NAM\", \"NPL\", \"NLD\", \"NZL\", \"NIC\", \"NER\", \"NGA\", \"NOR\", \"OMN\", \"PAK\", \"PAN\", \"PRY\", \"PER\", \"PHL\", \"POL\", \"PRT\", \"ROU\", \"RWA\", \"SEN\", \"SLE\", \"SGP\", \"SVN\", \"ZAF\", \"ESP\", \"LKA\", \"SWE\", \"CHE\", \"THA\", \"TGO\", \"TUN\", \"TUR\", \"UGA\", \"UKR\", \"URY\", \"ZMB\", \"ZWE\"], \"type\": \"choropleth\", \"z\": [3.404000000000003, 0.5199999999999996, 4.674000000000014, 0.8099999999999987, 0.9900000000000002, 1.4740000000000018, 0.19799999999999995, 2.622000000000001, 1.0450000000000028, 3.665999999999999, 0.9600000000000009, 4.879000000000003, 2.7880000000000145, 0.02099999999999962, 5.340000000000001, 0.6960000000000017, 1.6999999999999993, 0.6480000000000012, 2.0239999999999982, 1.924, 2.4959999999999933, 3.0, 0.03600000000000106, 1.8600000000000003, 1.247000000000004, 1.558000000000001, 0.0639999999999987, 5.100000000000001, 2.0799999999999983, 0.11000000000000001, 0.39899999999999813, 2.6600000000000024, 0.7679999999999986, 1.0439999999999985, 1.1199999999999974, 3.4309999999999947, 0.7019999999999986, 2.9970000000000043, 4.620000000000003, 0.20500000000000007, 2.869999999999998, 0.7589999999999978, 1.2539999999999993, 2.6190000000000047, 0.7140000000000021, 2.760000000000005, 0.18400000000000402, 1.8559999999999937, 1.159999999999995, 0.6900000000000013, 0.9360000000000015, 1.2980000000000034, 0.5349999999999983, 0.16899999999999948, 1.3639999999999959, 1.1200000000000043, 2.0520000000000027, 4.964, 11.832000000000003, 0.9459999999999964, 0.30000000000000027, 2.447999999999995, 1.7979999999999943, 0.3059999999999994, 2.332000000000007, 6.9700000000000015, 0.17400000000000393, 3.9439999999999986, 1.1220000000000034, 0.26999999999999935, 0.3870000000000022, 12.730000000000015, 7.442, 0.719999999999998, 1.7640000000000018, 1.8880000000000012, 0.4140000000000001, 0.8320000000000012, 0.15599999999999634, 0.7409999999999988, 2.3799999999999946, 0.5639999999999966, 4.560000000000009, 28.054000000000013, 5.014999999999999, 21.600000000000005, 0.26399999999999474, 1.5299999999999994, 0.4680000000000005, 1.3860000000000046, 1.0229999999999984, 0.5290000000000016, 1.6829999999999978, 0.034000000000002355, 2.879999999999997, 0.5, 1.2240000000000035, 5.1, 4.6899999999999995, 0.2720000000000007, 4.416000000000009, 9.48]}, {\"colorscale\": [[0.0, \"rgb(252, 222, 156)\"], [0.16666666666666666, \"rgb(250, 164, 118)\"], [0.3333333333333333, \"rgb(240, 116, 110)\"], [0.5, \"rgb(227, 79, 111)\"], [0.6666666666666666, \"rgb(220, 57, 119)\"], [0.8333333333333334, \"rgb(185, 37, 122)\"], [1.0, \"rgb(124, 29, 111)\"]], \"locationmode\": \"ISO-3\", \"locations\": [\"ALB\", \"DZA\", \"ARG\", \"AUS\", \"AUT\", \"BHS\", \"BHR\", \"BGD\", \"BRD\", \"BEL\", \"BLZ\", \"BEN\", \"BWA\", \"BRA\", \"BGR\", \"BDI\", \"CMR\", \"CAN\", \"TCD\", \"CHL\", \"CHN\", \"COL\", \"CRI\", \"HRV\", \"CYP\", \"DNK\", \"ECU\", \"EGY\", \"SLV\", \"EST\", \"FJI\", \"FIN\", \"FRA\", \"GAB\", \"DEU\", \"GHA\", \"GRC\", \"GTM\", \"GNB\", \"GUY\", \"HTI\", \"HND\", \"HUN\", \"ISL\", \"IND\", \"IDN\", \"IRL\", \"ISR\", \"ITA\", \"JAM\", \"JPN\", \"JOR\", \"KEN\", \"KWT\", \"LVA\", \"LTU\", \"LUX\", \"MDG\", \"MWI\", \"MYS\", \"MLI\", \"MLT\", \"MUS\", \"MEX\", \"MAR\", \"MMR\", \"NAM\", \"NPL\", \"NLD\", \"NZL\", \"NIC\", \"NER\", \"NGA\", \"NOR\", \"OMN\", \"PAK\", \"PAN\", \"PRY\", \"PER\", \"PHL\", \"POL\", \"PRT\", \"ROU\", \"RWA\", \"SEN\", \"SLE\", \"SGP\", \"SVN\", \"ZAF\", \"ESP\", \"LKA\", \"SWE\", \"CHE\", \"THA\", \"TGO\", \"TUN\", \"TUR\", \"UGA\", \"UKR\", \"URY\", \"ZMB\", \"ZWE\"], \"type\": \"choropleth\", \"z\": [2.8810000000000073, 0.15200000000000002, 4.140000000000025, 0.643999999999998, 3.3660000000000005, 1.495000000000006, 0.17999999999999972, 3.861000000000002, 0.9719999999999985, 2.214000000000003, 0.8140000000000065, 1.911, 2.964000000000006, 0.1299999999999999, 5.096000000000021, 0.0, 1.9799999999999978, 0.6999999999999984, 2.9819999999999967, 1.170000000000002, 2.2940000000000023, 3.0449999999999906, 0.11200000000000106, 1.5599999999999932, 1.5770000000000048, 1.5499999999999998, 0.4590000000000003, 1.1840000000000015, 2.5199999999999996, 0.13600000000000034, 0.3229999999999997, 1.1050000000000053, 0.540000000000001, 0.8499999999999996, 1.2800000000000011, 2.7279999999999998, 1.7399999999999982, 2.0159999999999987, 9.13, 0.05999999999999886, 3.921999999999994, 0.8059999999999978, 1.056, 2.9399999999999964, 1.5360000000000005, 2.156000000000002, 0.8599999999999963, 1.507999999999997, 0.9619999999999982, 1.0530000000000026, 0.5939999999999999, 1.0, 0.2039999999999957, 0.04399999999999981, 0.8959999999999974, 0.840000000000003, 2.3759999999999972, 3.9040000000000012, 13.785999999999994, 0.4409999999999987, 0.0, 2.274999999999998, 1.7690000000000043, 0.16500000000000048, 2.0500000000000007, 5.130000000000006, 1.175999999999997, 2.176000000000001, 1.2599999999999998, 0.2749999999999986, 0.4050000000000027, 6.890000000000003, 5.880000000000001, 0.6159999999999987, 1.4620000000000015, 1.7400000000000049, 0.4050000000000007, 0.5399999999999987, 0.3149999999999995, 0.3899999999999989, 2.386999999999997, 0.9600000000000031, 4.5239999999999885, 25.753999999999998, 2.3489999999999984, 17.013, 0.2519999999999948, 1.5599999999999987, 0.1139999999999996, 1.2180000000000022, 1.2600000000000025, 0.3990000000000006, 1.5900000000000034, 0.0639999999999987, 1.3760000000000003, 0.6000000000000014, 0.919999999999997, 2.0100000000000047, 14.535000000000002, 0.3360000000000017, 7.238000000000013, 5.829999999999999]}, {\"colorscale\": [[0.0, \"rgb(252, 222, 156)\"], [0.16666666666666666, \"rgb(250, 164, 118)\"], [0.3333333333333333, \"rgb(240, 116, 110)\"], [0.5, \"rgb(227, 79, 111)\"], [0.6666666666666666, \"rgb(220, 57, 119)\"], [0.8333333333333334, \"rgb(185, 37, 122)\"], [1.0, \"rgb(124, 29, 111)\"]], \"locationmode\": \"ISO-3\", \"locations\": [\"ALB\", \"DZA\", \"ARG\", \"AUS\", \"AUT\", \"BHS\", \"BHR\", \"BGD\", \"BRD\", \"BEL\", \"BLZ\", \"BEN\", \"BWA\", \"BRA\", \"BGR\", \"BDI\", \"CMR\", \"CAN\", \"TCD\", \"CHL\", \"CHN\", \"COL\", \"CRI\", \"HRV\", \"CYP\", \"DNK\", \"ECU\", \"EGY\", \"SLV\", \"EST\", \"FJI\", \"FIN\", \"FRA\", \"GAB\", \"DEU\", \"GHA\", \"GRC\", \"GTM\", \"GNB\", \"GUY\", \"HTI\", \"HND\", \"HUN\", \"ISL\", \"IND\", \"IDN\", \"IRL\", \"ISR\", \"ITA\", \"JAM\", \"JPN\", \"JOR\", \"KEN\", \"KWT\", \"LVA\", \"LTU\", \"LUX\", \"MDG\", \"MWI\", \"MYS\", \"MLI\", \"MLT\", \"MUS\", \"MEX\", \"MAR\", \"MMR\", \"NAM\", \"NPL\", \"NLD\", \"NZL\", \"NIC\", \"NER\", \"NGA\", \"NOR\", \"OMN\", \"PAK\", \"PAN\", \"PRY\", \"PER\", \"PHL\", \"POL\", \"PRT\", \"ROU\", \"RWA\", \"SEN\", \"SLE\", \"SGP\", \"SVN\", \"ZAF\", \"ESP\", \"LKA\", \"SWE\", \"CHE\", \"THA\", \"TGO\", \"TUN\", \"TUR\", \"UGA\", \"UKR\", \"URY\", \"ZMB\", \"ZWE\"], \"type\": \"choropleth\", \"z\": [2.84, 0.5399999999999994, 2.8160000000000145, 0.4499999999999993, 3.0689999999999977, 1.584000000000004, 0.11200000000000006, 3.310999999999999, 0.8000000000000043, 2.0520000000000014, 0.8030000000000067, 2.775000000000002, 3.1680000000000104, 0.42300000000000243, 4.732000000000016, 0.25800000000000095, 1.764000000000001, 0.7680000000000003, 1.8399999999999999, 1.3749999999999996, 1.995000000000001, 3.2199999999999975, 0.15400000000000108, 1.4259999999999984, 1.6480000000000092, 0.9800000000000005, 0.049999999999998934, 1.7160000000000013, 1.7400000000000002, 0.2660000000000019, 0.5849999999999995, 0.6050000000000018, 0.40599999999999986, 0.4859999999999985, 0.8400000000000007, 3.759999999999998, 1.9039999999999948, 1.2579999999999971, 6.600000000000001, 0.027999999999998523, 2.8489999999999953, 1.1020000000000019, 1.1469999999999982, 2.71199999999999, 1.5050000000000012, 2.0199999999999996, 1.8999999999999986, 1.478999999999995, 0.9619999999999982, 1.3780000000000052, 0.6160000000000018, 0.7979999999999979, 1.2089999999999996, 0.040000000000000036, 0.2599999999999985, 0.6960000000000017, 7.139999999999994, 2.005999999999999, 16.169999999999998, 0.4179999999999993, 0.490000000000002, 6.554999999999995, 1.325999999999999, 0.10399999999999987, 2.5380000000000016, 2.764999999999996, 0.2760000000000002, 2.006000000000001, 1.1399999999999997, 1.4059999999999975, 0.5999999999999992, 7.332000000000002, 6.083999999999994, 0.519999999999997, 1.7920000000000003, 1.8360000000000036, 0.7679999999999979, 0.05599999999999875, 0.4339999999999982, 0.3000000000000007, 2.070000000000001, 1.0260000000000031, 4.347000000000003, 26.505, 2.146000000000002, 14.849999999999998, 0.2340000000000023, 0.9499999999999993, 0.12800000000000022, 0.9599999999999982, 1.38, 0.2100000000000001, 1.4499999999999957, 0.02999999999999936, 0.7399999999999998, 1.6529999999999927, 0.5950000000000002, 1.650999999999998, 10.800000000000002, 0.5510000000000017, 8.928000000000004, 3.7379999999999987]}, {\"colorscale\": [[0.0, \"rgb(252, 222, 156)\"], [0.16666666666666666, \"rgb(250, 164, 118)\"], [0.3333333333333333, \"rgb(240, 116, 110)\"], [0.5, \"rgb(227, 79, 111)\"], [0.6666666666666666, \"rgb(220, 57, 119)\"], [0.8333333333333334, \"rgb(185, 37, 122)\"], [1.0, \"rgb(124, 29, 111)\"]], \"locationmode\": \"ISO-3\", \"locations\": [\"ALB\", \"DZA\", \"ARG\", \"AUS\", \"AUT\", \"BHS\", \"BHR\", \"BGD\", \"BRD\", \"BEL\", \"BLZ\", \"BEN\", \"BWA\", \"BRA\", \"BGR\", \"BDI\", \"CMR\", \"CAN\", \"TCD\", \"CHL\", \"CHN\", \"COL\", \"CRI\", \"HRV\", \"CYP\", \"DNK\", \"ECU\", \"EGY\", \"SLV\", \"EST\", \"FJI\", \"FIN\", \"FRA\", \"GAB\", \"DEU\", \"GHA\", \"GRC\", \"GTM\", \"GNB\", \"GUY\", \"HTI\", \"HND\", \"HUN\", \"ISL\", \"IND\", \"IDN\", \"IRL\", \"ISR\", \"ITA\", \"JAM\", \"JPN\", \"JOR\", \"KEN\", \"KWT\", \"LVA\", \"LTU\", \"LUX\", \"MDG\", \"MWI\", \"MYS\", \"MLI\", \"MLT\", \"MUS\", \"MEX\", \"MAR\", \"MMR\", \"NAM\", \"NPL\", \"NLD\", \"NZL\", \"NIC\", \"NER\", \"NGA\", \"NOR\", \"OMN\", \"PAK\", \"PAN\", \"PRY\", \"PER\", \"PHL\", \"POL\", \"PRT\", \"ROU\", \"RWA\", \"SEN\", \"SLE\", \"SGP\", \"SVN\", \"ZAF\", \"ESP\", \"LKA\", \"SWE\", \"CHE\", \"THA\", \"TGO\", \"TUN\", \"TUR\", \"UGA\", \"UKR\", \"URY\", \"ZMB\", \"ZWE\"], \"type\": \"choropleth\", \"z\": [2.952000000000005, 0.5440000000000014, 2.45000000000001, 0.4080000000000008, 2.006000000000001, 1.7280000000000035, 0.07999999999999943, 2.0240000000000014, 0.7000000000000028, 0.8880000000000023, 0.15600000000000025, 2.640000000000003, 5.586000000000013, 0.5760000000000008, 4.02500000000002, 0.45600000000000096, 1.8329999999999984, 0.5460000000000018, 0.03600000000000245, 0.9539999999999973, 1.6829999999999978, 2.3539999999999885, 0.08999999999999986, 0.7599999999999956, 1.5260000000000074, 0.6670000000000013, 0.021999999999999558, 0.19200000000000061, 1.5299999999999994, 0.5280000000000028, 0.39199999999999674, 0.456000000000002, 0.12499999999999956, 0.22099999999999942, 0.6299999999999999, 10.973999999999995, 0.7680000000000002, 2.790000000000006, 3.450000000000001, 0.1200000000000001, 18.954999999999995, 0.8059999999999973, 0.8399999999999986, 3.170999999999991, 0.6630000000000007, 1.781999999999996, 3.935999999999999, 1.3439999999999999, 0.9599999999999953, 1.3440000000000043, 0.6460000000000017, 0.663000000000002, 1.6650000000000043, 0.0159999999999996, 0.01799999999999959, 0.4400000000000061, 5.329999999999997, 2.9159999999999995, 11.955999999999994, 0.35699999999999754, 0.33499999999999897, 3.354999999999997, 1.0119999999999996, 0.05600000000000003, 2.016000000000003, 1.3530000000000006, 1.0639999999999974, 2.3099999999999996, 4.751999999999998, 2.6000000000000014, 0.05400000000000068, 7.298000000000007, 4.654999999999999, 0.2749999999999986, 1.38, 1.4259999999999984, 0.31199999999999933, 0.2899999999999988, 0.36799999999999783, 0.08800000000000076, 1.4819999999999975, 1.38, 5.651999999999989, 21.605000000000004, 2.311999999999998, 14.014000000000003, 0.222000000000002, 0.8400000000000007, 0.00699999999999988, 1.2600000000000031, 0.9600000000000009, 0.17100000000000024, 1.1179999999999968, 0.14000000000000257, 0.2800000000000012, 0.7409999999999978, 0.19800000000000287, 3.658000000000005, 2.7369999999999974, 0.2760000000000012, 8.946, 0.3199999999999988]}, {\"colorscale\": [[0.0, \"rgb(252, 222, 156)\"], [0.16666666666666666, \"rgb(250, 164, 118)\"], [0.3333333333333333, \"rgb(240, 116, 110)\"], [0.5, \"rgb(227, 79, 111)\"], [0.6666666666666666, \"rgb(220, 57, 119)\"], [0.8333333333333334, \"rgb(185, 37, 122)\"], [1.0, \"rgb(124, 29, 111)\"]], \"locationmode\": \"ISO-3\", \"locations\": [\"ALB\", \"DZA\", \"ARG\", \"AUS\", \"AUT\", \"BHS\", \"BHR\", \"BGD\", \"BRD\", \"BEL\", \"BLZ\", \"BEN\", \"BWA\", \"BRA\", \"BGR\", \"BDI\", \"CMR\", \"CAN\", \"TCD\", \"CHL\", \"CHN\", \"COL\", \"CRI\", \"HRV\", \"CYP\", \"DNK\", \"ECU\", \"EGY\", \"SLV\", \"EST\", \"FJI\", \"FIN\", \"FRA\", \"GAB\", \"DEU\", \"GHA\", \"GRC\", \"GTM\", \"GNB\", \"GUY\", \"HTI\", \"HND\", \"HUN\", \"ISL\", \"IND\", \"IDN\", \"IRL\", \"ISR\", \"ITA\", \"JAM\", \"JPN\", \"JOR\", \"KEN\", \"KWT\", \"LVA\", \"LTU\", \"LUX\", \"MDG\", \"MWI\", \"MYS\", \"MLI\", \"MLT\", \"MUS\", \"MEX\", \"MAR\", \"MMR\", \"NAM\", \"NPL\", \"NLD\", \"NZL\", \"NIC\", \"NER\", \"NGA\", \"NOR\", \"OMN\", \"PAK\", \"PAN\", \"PRY\", \"PER\", \"PHL\", \"POL\", \"PRT\", \"ROU\", \"RWA\", \"SEN\", \"SLE\", \"SGP\", \"SVN\", \"ZAF\", \"ESP\", \"LKA\", \"SWE\", \"CHE\", \"THA\", \"TGO\", \"TUN\", \"TUR\", \"UGA\", \"UKR\", \"URY\", \"ZMB\", \"ZWE\"], \"type\": \"choropleth\", \"z\": [2.7299999999999978, 0.837000000000001, 2.2799999999999994, 0.4840000000000001, 1.170000000000001, 1.6600000000000001, 0.19499999999999984, 1.6379999999999997, 0.5589999999999984, 1.0560000000000003, 0.8160000000000026, 2.549999999999999, 7.75200000000001, 0.36400000000000116, 3.6540000000000155, 1.1339999999999981, 0.8159999999999974, 0.49400000000000105, 2.537999999999996, 1.0199999999999996, 1.7920000000000003, 2.265999999999989, 0.14400000000000054, 0.7999999999999972, 1.356000000000003, 0.8000000000000007, 0.13799999999999893, 0.33000000000000235, 0.7680000000000003, 0.3100000000000011, 0.5160000000000009, 0.5940000000000017, 0.09199999999999997, 0.06300000000000015, 0.5, 9.239999999999995, 0.01799999999999959, 2.490000000000005, 3.7379999999999987, 0.08399999999999871, 1.052999999999998, 0.624000000000001, 0.6499999999999995, 2.0709999999999904, 0.5949999999999998, 1.104000000000005, 1.056, 0.7799999999999978, 1.3639999999999932, 0.5670000000000033, 0.7790000000000026, 0.27200000000000035, 1.224, 0.09100000000000029, 0.14399999999999927, 0.37800000000000533, 3.4840000000000013, 2.009, 9.827999999999998, 0.06399999999999983, 0.30999999999999905, 2.9699999999999966, 0.5579999999999984, 0.06299999999999985, 1.2210000000000012, 1.7670000000000003, 1.3999999999999968, 0.40000000000000036, 4.108, 1.9840000000000049, 0.036000000000000455, 4.828000000000006, 3.239999999999999, 1.4699999999999966, 0.9520000000000035, 1.1400000000000006, 0.3959999999999983, 1.3800000000000026, 0.0719999999999982, 0.3720000000000004, 1.2200000000000006, 0.7830000000000009, 6.708000000000009, 14.604999999999997, 2.639999999999997, 12.150000000000002, 0.23800000000000138, 1.3639999999999959, 0.17599999999999918, 1.25, 0.011999999999999896, 0.5040000000000037, 1.1279999999999974, 0.2340000000000027, 0.16800000000000026, 1.0979999999999988, 0.09499999999999462, 2.507000000000004, 2.006000000000003, 0.07499999999999973, 5.576000000000002, 0.03999999999999915]}, {\"colorscale\": [[0.0, \"rgb(252, 222, 156)\"], [0.16666666666666666, \"rgb(250, 164, 118)\"], [0.3333333333333333, \"rgb(240, 116, 110)\"], [0.5, \"rgb(227, 79, 111)\"], [0.6666666666666666, \"rgb(220, 57, 119)\"], [0.8333333333333334, \"rgb(185, 37, 122)\"], [1.0, \"rgb(124, 29, 111)\"]], \"locationmode\": \"ISO-3\", \"locations\": [\"ALB\", \"DZA\", \"ARG\", \"AUS\", \"AUT\", \"BHS\", \"BHR\", \"BGD\", \"BRD\", \"BEL\", \"BLZ\", \"BEN\", \"BWA\", \"BRA\", \"BGR\", \"BDI\", \"CMR\", \"CAN\", \"TCD\", \"CHL\", \"CHN\", \"COL\", \"CRI\", \"HRV\", \"CYP\", \"DNK\", \"ECU\", \"EGY\", \"SLV\", \"EST\", \"FJI\", \"FIN\", \"FRA\", \"GAB\", \"DEU\", \"GHA\", \"GRC\", \"GTM\", \"GNB\", \"GUY\", \"HTI\", \"HND\", \"HUN\", \"ISL\", \"IND\", \"IDN\", \"IRL\", \"ISR\", \"ITA\", \"JAM\", \"JPN\", \"JOR\", \"KEN\", \"KWT\", \"LVA\", \"LTU\", \"LUX\", \"MDG\", \"MWI\", \"MYS\", \"MLI\", \"MLT\", \"MUS\", \"MEX\", \"MAR\", \"MMR\", \"NAM\", \"NPL\", \"NLD\", \"NZL\", \"NIC\", \"NER\", \"NGA\", \"NOR\", \"OMN\", \"PAK\", \"PAN\", \"PRY\", \"PER\", \"PHL\", \"POL\", \"PRT\", \"ROU\", \"RWA\", \"SEN\", \"SLE\", \"SGP\", \"SVN\", \"ZAF\", \"ESP\", \"LKA\", \"SWE\", \"CHE\", \"THA\", \"TGO\", \"TUN\", \"TUR\", \"UGA\", \"UKR\", \"URY\", \"ZMB\", \"ZWE\"], \"type\": \"choropleth\", \"z\": [1.8630000000000007, 0.6999999999999993, 1.8980000000000166, 0.19799999999999868, 1.5340000000000003, 1.748000000000005, 0.0, 0.6080000000000001, 0.09900000000000062, 0.8740000000000026, 1.208999999999998, 1.6280000000000026, 5.723000000000009, 0.5279999999999968, 2.9160000000000186, 0.5670000000000005, 0.11200000000000027, 1.8170000000000046, 1.1799999999999997, 1.0119999999999976, 1.4559999999999973, 1.952999999999994, 0.11700000000000084, 0.5719999999999981, 1.1000000000000005, 0.34199999999999964, 0.2879999999999982, 0.08000000000000007, 0.5129999999999992, 0.6459999999999992, 0.6099999999999994, 0.35700000000000076, 0.5099999999999983, 0.084, 0.5700000000000014, 5.799999999999997, 0.2210000000000002, 4.068000000000002, 1.7849999999999993, 0.044999999999999415, 1.0499999999999994, 0.8360000000000009, 0.4559999999999993, 1.1050000000000024, 0.75, 0.7420000000000021, 0.7139999999999981, 0.7559999999999987, 1.091999999999996, 0.49400000000000277, 0.44800000000000134, 0.1539999999999995, 1.8000000000000043, 0.035999999999999956, 0.252000000000001, 0.26000000000000023, 1.2320000000000007, 0.8800000000000004, 7.727999999999999, 0.04199999999999885, 0.5700000000000033, 1.5249999999999986, 0.7140000000000011, 0.04800000000000023, 0.9280000000000009, 0.6089999999999997, 0.7739999999999996, 1.125, 1.8620000000000017, 0.43200000000000033, 0.10499999999999998, 2.2200000000000006, 10.234000000000002, 2.024999999999997, 1.0140000000000025, 0.7559999999999987, 0.29599999999999904, 1.8269999999999993, 0.049999999999998934, 0.1750000000000007, 0.809999999999999, 0.6000000000000014, 6.2010000000000085, 19.897, 1.3779999999999981, 9.360000000000008, 0.6820000000000038, 1.2470000000000017, 0.6400000000000006, 0.88, 0.039999999999999716, 0.40499999999999936, 1.1269999999999991, 0.48000000000000154, 0.03199999999999935, 1.0439999999999985, 0.5100000000000002, 0.7760000000000004, 0.23200000000000331, 0.026000000000000828, 5.11700000000001, 0.08800000000000019]}, {\"colorscale\": [[0.0, \"rgb(252, 222, 156)\"], [0.16666666666666666, \"rgb(250, 164, 118)\"], [0.3333333333333333, \"rgb(240, 116, 110)\"], [0.5, \"rgb(227, 79, 111)\"], [0.6666666666666666, \"rgb(220, 57, 119)\"], [0.8333333333333334, \"rgb(185, 37, 122)\"], [1.0, \"rgb(124, 29, 111)\"]], \"locationmode\": \"ISO-3\", \"locations\": [\"ALB\", \"DZA\", \"ARG\", \"AUS\", \"AUT\", \"BHS\", \"BHR\", \"BGD\", \"BRD\", \"BEL\", \"BLZ\", \"BEN\", \"BWA\", \"BRA\", \"BGR\", \"BDI\", \"CMR\", \"CAN\", \"TCD\", \"CHL\", \"CHN\", \"COL\", \"CRI\", \"HRV\", \"CYP\", \"DNK\", \"ECU\", \"EGY\", \"SLV\", \"EST\", \"FJI\", \"FIN\", \"FRA\", \"GAB\", \"DEU\", \"GHA\", \"GRC\", \"GTM\", \"GNB\", \"GUY\", \"HTI\", \"HND\", \"HUN\", \"ISL\", \"IND\", \"IDN\", \"IRL\", \"ISR\", \"ITA\", \"JAM\", \"JPN\", \"JOR\", \"KEN\", \"KWT\", \"LVA\", \"LTU\", \"LUX\", \"MDG\", \"MWI\", \"MYS\", \"MLI\", \"MLT\", \"MUS\", \"MEX\", \"MAR\", \"MMR\", \"NAM\", \"NPL\", \"NLD\", \"NZL\", \"NIC\", \"NER\", \"NGA\", \"NOR\", \"OMN\", \"PAK\", \"PAN\", \"PRY\", \"PER\", \"PHL\", \"POL\", \"PRT\", \"ROU\", \"RWA\", \"SEN\", \"SLE\", \"SGP\", \"SVN\", \"ZAF\", \"ESP\", \"LKA\", \"SWE\", \"CHE\", \"THA\", \"TGO\", \"TUN\", \"TUR\", \"UGA\", \"UKR\", \"URY\", \"ZMB\", \"ZWE\"], \"type\": \"choropleth\", \"z\": [2.244000000000007, 1.1250000000000004, 0.8050000000000029, 0.01799999999999959, 0.4350000000000019, 1.6020000000000096, 0.10999999999999904, 0.49499999999999783, 0.008999999999999866, 0.722000000000002, 1.2349999999999974, 1.513000000000002, 2.912000000000003, 0.3229999999999997, 2.3249999999999997, 2.1120000000000023, 0.15399999999999886, 1.0619999999999994, 0.8279999999999986, 0.816000000000004, 1.4310000000000023, 2.078999999999995, 0.16900000000000134, 0.3629999999999982, 0.9040000000000128, 0.13500000000000112, 0.05700000000000064, 0.07200000000000052, 0.19799999999999995, 1.25, 0.49499999999999517, 0.1260000000000003, 0.3060000000000026, 0.05999999999999993, 0.3959999999999989, 2.8619999999999943, 0.42000000000000165, 3.577, 1.3920000000000006, 0.07499999999999929, 1.3759999999999972, 0.9799999999999986, 0.2520000000000006, 0.09600000000000046, 0.8100000000000004, 0.6720000000000012, 0.21700000000000047, 1.9379999999999973, 0.8359999999999953, 0.33600000000000174, 0.2249999999999992, 0.442, 0.14699999999999683, 0.18000000000000016, 2.4499999999999975, 0.24800000000000358, 1.0640000000000025, 1.1600000000000001, 4.319999999999998, 0.3119999999999996, 0.8840000000000001, 1.5959999999999952, 0.6650000000000014, 0.21600000000000125, 0.7840000000000039, 0.19200000000000006, 0.7799999999999999, 1.6399999999999955, 1.2480000000000029, 0.4559999999999999, 0.18999999999999995, 1.1960000000000028, 9.242999999999999, 2.4050000000000007, 0.6670000000000034, 0.8640000000000047, 0.03500000000000064, 2.7299999999999995, 0.23400000000000143, 0.07699999999999992, 0.49599999999999905, 0.1259999999999997, 7.543999999999989, 8.136000000000001, 1.3799999999999997, 7.811999999999998, 0.7280000000000036, 0.8509999999999992, 0.4200000000000006, 2.3759999999999946, 0.26400000000000057, 2.2560000000000033, 0.6000000000000014, 0.5060000000000016, 0.27299999999999935, 1.1049999999999933, 0.5599999999999982, 0.0889999999999981, 0.0, 0.0060000000000001, 3.608000000000003, 0.7800000000000017]}, {\"colorscale\": [[0.0, \"rgb(252, 222, 156)\"], [0.16666666666666666, \"rgb(250, 164, 118)\"], [0.3333333333333333, \"rgb(240, 116, 110)\"], [0.5, \"rgb(227, 79, 111)\"], [0.6666666666666666, \"rgb(220, 57, 119)\"], [0.8333333333333334, \"rgb(185, 37, 122)\"], [1.0, \"rgb(124, 29, 111)\"]], \"locationmode\": \"ISO-3\", \"locations\": [\"ALB\", \"DZA\", \"ARG\", \"AUS\", \"AUT\", \"BHS\", \"BHR\", \"BGD\", \"BRD\", \"BEL\", \"BLZ\", \"BEN\", \"BWA\", \"BRA\", \"BGR\", \"BDI\", \"CMR\", \"CAN\", \"TCD\", \"CHL\", \"CHN\", \"COL\", \"CRI\", \"HRV\", \"CYP\", \"DNK\", \"ECU\", \"EGY\", \"SLV\", \"EST\", \"FJI\", \"FIN\", \"FRA\", \"GAB\", \"DEU\", \"GHA\", \"GRC\", \"GTM\", \"GNB\", \"GUY\", \"HTI\", \"HND\", \"HUN\", \"ISL\", \"IND\", \"IDN\", \"IRL\", \"ISR\", \"ITA\", \"JAM\", \"JPN\", \"JOR\", \"KEN\", \"KWT\", \"LVA\", \"LTU\", \"LUX\", \"MDG\", \"MWI\", \"MYS\", \"MLI\", \"MLT\", \"MUS\", \"MEX\", \"MAR\", \"MMR\", \"NAM\", \"NPL\", \"NLD\", \"NZL\", \"NIC\", \"NER\", \"NGA\", \"NOR\", \"OMN\", \"PAK\", \"PAN\", \"PRY\", \"PER\", \"PHL\", \"POL\", \"PRT\", \"ROU\", \"RWA\", \"SEN\", \"SLE\", \"SGP\", \"SVN\", \"ZAF\", \"ESP\", \"LKA\", \"SWE\", \"CHE\", \"THA\", \"TGO\", \"TUN\", \"TUR\", \"UGA\", \"UKR\", \"URY\", \"ZMB\", \"ZWE\"], \"type\": \"choropleth\", \"z\": [0.9760000000000043, 1.6170000000000058, 1.3860000000000106, 0.08499999999999833, 0.18700000000000086, 1.2800000000000065, 0.07000000000000028, 0.7830000000000003, 0.024000000000000115, 0.6660000000000044, 0.9680000000000074, 1.4419999999999988, 3.1500000000000012, 0.33999999999999986, 1.6830000000000134, 2.8470000000000004, 0.36099999999999877, 0.8259999999999936, 0.23399999999999943, 0.6400000000000026, 1.0250000000000004, 1.4279999999999902, 0.12000000000000163, 0.3120000000000005, 0.6020000000000026, 0.10799999999999987, 0.20800000000000093, 0.07699999999999992, 0.8999999999999968, 1.8500000000000005, 0.3839999999999983, 0.17000000000000118, 1.0799999999999965, 0.07199999999999963, 0.15999999999999887, 2.4199999999999946, 0.44999999999999973, 0.9600000000000009, 1.7249999999999979, 0.09000000000000132, 0.8749999999999991, 0.8099999999999974, 0.20400000000000051, 0.12599999999999903, 0.6899999999999987, 0.54, 0.07799999999999817, 1.9890000000000008, 0.6119999999999988, 0.042000000000000516, 0.10400000000000101, 0.17599999999999924, 0.13600000000000007, 0.08799999999999839, 2.0799999999999983, 2.3760000000000034, 0.928000000000005, 0.4549999999999996, 2.039999999999999, 0.19199999999999834, 0.4499999999999984, 0.7019999999999983, 0.13599999999999945, 0.27000000000000046, 0.5040000000000011, 1.3860000000000003, 0.008000000000000156, 2.8349999999999986, 0.5100000000000006, 0.41600000000000403, 0.0, 1.3500000000000032, 3.6719999999999953, 1.2649999999999975, 1.071000000000004, 0.8540000000000039, 0.06000000000000005, 2.5460000000000003, 0.1960000000000006, 0.040000000000000036, 0.5850000000000009, 0.09499999999999995, 5.85, 5.952, 0.7599999999999967, 5.034999999999998, 2.4360000000000106, 0.8399999999999985, 0.16499999999999926, 1.779999999999995, 0.7130000000000003, 1.764000000000001, 0.558, 0.49400000000000277, 0.24200000000000005, 0.9900000000000002, 0.7200000000000023, 0.1659999999999964, 0.24800000000000358, 0.11000000000000046, 4.686000000000002, 0.930000000000002]}, {\"colorscale\": [[0.0, \"rgb(252, 222, 156)\"], [0.16666666666666666, \"rgb(250, 164, 118)\"], [0.3333333333333333, \"rgb(240, 116, 110)\"], [0.5, \"rgb(227, 79, 111)\"], [0.6666666666666666, \"rgb(220, 57, 119)\"], [0.8333333333333334, \"rgb(185, 37, 122)\"], [1.0, \"rgb(124, 29, 111)\"]], \"locationmode\": \"ISO-3\", \"locations\": [\"ALB\", \"DZA\", \"ARG\", \"AUS\", \"AUT\", \"BHS\", \"BHR\", \"BGD\", \"BRD\", \"BEL\", \"BLZ\", \"BEN\", \"BWA\", \"BRA\", \"BGR\", \"BDI\", \"CMR\", \"CAN\", \"TCD\", \"CHL\", \"CHN\", \"COL\", \"CRI\", \"HRV\", \"CYP\", \"DNK\", \"ECU\", \"EGY\", \"SLV\", \"EST\", \"FJI\", \"FIN\", \"FRA\", \"GAB\", \"DEU\", \"GHA\", \"GRC\", \"GTM\", \"GNB\", \"GUY\", \"HTI\", \"HND\", \"HUN\", \"ISL\", \"IND\", \"IDN\", \"IRL\", \"ISR\", \"ITA\", \"JAM\", \"JPN\", \"JOR\", \"KEN\", \"KWT\", \"LVA\", \"LTU\", \"LUX\", \"MDG\", \"MWI\", \"MYS\", \"MLI\", \"MLT\", \"MUS\", \"MEX\", \"MAR\", \"MMR\", \"NAM\", \"NPL\", \"NLD\", \"NZL\", \"NIC\", \"NER\", \"NGA\", \"NOR\", \"OMN\", \"PAK\", \"PAN\", \"PRY\", \"PER\", \"PHL\", \"POL\", \"PRT\", \"ROU\", \"RWA\", \"SEN\", \"SLE\", \"SGP\", \"SVN\", \"ZAF\", \"ESP\", \"LKA\", \"SWE\", \"CHE\", \"THA\", \"TGO\", \"TUN\", \"TUR\", \"UGA\", \"UKR\", \"URY\", \"ZMB\", \"ZWE\"], \"type\": \"choropleth\", \"z\": [0.3870000000000022, 1.1520000000000057, 1.0800000000000152, 0.17999999999999883, 0.14300000000000165, 1.0799999999999996, 0.4239999999999987, 0.2749999999999986, 0.10800000000000136, 0.4550000000000035, 0.686000000000003, 0.8250000000000011, 1.365000000000004, 0.4599999999999978, 1.4000000000000004, 1.1959999999999993, 0.055999999999999994, 0.28500000000000153, 0.2599999999999998, 0.41800000000000315, 0.7040000000000015, 1.1389999999999922, 0.09999999999999964, 0.09499999999999975, 0.5520000000000078, 0.20399999999999904, 0.11200000000000056, 0.13200000000000173, 0.5, 1.8720000000000028, 0.40199999999999614, 0.16800000000000084, 0.35200000000000076, 0.0, 0.05999999999999993, 1.019999999999997, 0.45099999999999785, 0.5550000000000002, 0.8999999999999986, 0.24000000000000363, 2.559999999999996, 0.19499999999999984, 0.228000000000001, 0.18200000000000033, 0.9310000000000032, 0.44100000000000217, 0.3220000000000009, 0.5059999999999973, 1.8919999999999966, 0.01800000000000053, 0.09000000000000025, 0.16800000000000084, 0.17600000000000038, 0.04399999999999919, 1.8999999999999995, 2.880000000000004, 0.5800000000000001, 2.1090000000000044, 0.9280000000000004, 0.20000000000000018, 0.6460000000000005, 0.8549999999999991, 0.010999999999999708, 0.11500000000000021, 2.9400000000000066, 0.6119999999999995, 0.0, 1.8270000000000033, 0.29900000000000204, 0.18200000000000233, 0.4319999999999997, 0.07399999999999848, 1.6380000000000017, 0.9250000000000003, 0.40799999999999953, 0.05400000000000077, 0.003999999999999776, 2.138999999999999, 0.12600000000000028, 0.010000000000000106, 0.44199999999999884, 0.23100000000000176, 7.700999999999991, 1.0499999999999963, 1.124999999999996, 3.827, 0.7770000000000038, 0.4950000000000001, 0.245000000000001, 0.28499999999999986, 0.3510000000000025, 0.9180000000000006, 0.5039999999999987, 0.16800000000000084, 0.01599999999999996, 0.3509999999999998, 0.9439999999999964, 1.253999999999997, 0.5499999999999998, 0.030000000000000318, 0.4400000000000004, 2.211999999999997]}, {\"colorscale\": [[0.0, \"rgb(252, 222, 156)\"], [0.16666666666666666, \"rgb(250, 164, 118)\"], [0.3333333333333333, \"rgb(240, 116, 110)\"], [0.5, \"rgb(227, 79, 111)\"], [0.6666666666666666, \"rgb(220, 57, 119)\"], [0.8333333333333334, \"rgb(185, 37, 122)\"], [1.0, \"rgb(124, 29, 111)\"]], \"locationmode\": \"ISO-3\", \"locations\": [\"ALB\", \"DZA\", \"ARG\", \"AUS\", \"AUT\", \"BHS\", \"BHR\", \"BGD\", \"BRD\", \"BEL\", \"BLZ\", \"BEN\", \"BWA\", \"BRA\", \"BGR\", \"BDI\", \"CMR\", \"CAN\", \"TCD\", \"CHL\", \"CHN\", \"COL\", \"CRI\", \"HRV\", \"CYP\", \"DNK\", \"ECU\", \"EGY\", \"SLV\", \"EST\", \"FJI\", \"FIN\", \"FRA\", \"GAB\", \"DEU\", \"GHA\", \"GRC\", \"GTM\", \"GNB\", \"GUY\", \"HTI\", \"HND\", \"HUN\", \"ISL\", \"IND\", \"IDN\", \"IRL\", \"ISR\", \"ITA\", \"JAM\", \"JPN\", \"JOR\", \"KEN\", \"KWT\", \"LVA\", \"LTU\", \"LUX\", \"MDG\", \"MWI\", \"MYS\", \"MLI\", \"MLT\", \"MUS\", \"MEX\", \"MAR\", \"MMR\", \"NAM\", \"NPL\", \"NLD\", \"NZL\", \"NIC\", \"NER\", \"NGA\", \"NOR\", \"OMN\", \"PAK\", \"PAN\", \"PRY\", \"PER\", \"PHL\", \"POL\", \"PRT\", \"ROU\", \"RWA\", \"SEN\", \"SLE\", \"SGP\", \"SVN\", \"ZAF\", \"ESP\", \"LKA\", \"SWE\", \"CHE\", \"THA\", \"TGO\", \"TUN\", \"TUR\", \"UGA\", \"UKR\", \"URY\", \"ZMB\", \"ZWE\"], \"type\": \"choropleth\", \"z\": [0.1760000000000023, 0.1299999999999999, 0.6060000000000085, 1.1699999999999982, 0.0719999999999997, 0.624000000000001, 0.28000000000000136, 0.3800000000000008, 0.0, 0.34800000000000086, 0.25200000000000355, 0.46200000000000196, 0.10200000000000167, 0.5099999999999998, 1.3860000000000106, 0.4320000000000003, 0.1260000000000003, 0.09000000000000025, 0.0, 0.24500000000000074, 0.4140000000000001, 0.9519999999999939, 0.02400000000000207, 0.0419999999999999, 0.5050000000000003, 0.04800000000000023, 0.2880000000000025, 0.10600000000000138, 0.08000000000000007, 2.1660000000000057, 0.03199999999999935, 0.1320000000000007, 0.2879999999999998, 0.025999999999999388, 0.10999999999999904, 0.8029999999999954, 0.29000000000000004, 0.7029999999999971, 0.7559999999999992, 0.20700000000000796, 0.03300000000000039, 0.0719999999999997, 0.25200000000000056, 0.5810000000000022, 0.18000000000000016, 0.17999999999999972, 0.09500000000000092, 0.818999999999999, 2.879999999999997, 0.01399999999999976, 0.16000000000000014, 0.11199999999999935, 0.36300000000000054, 0.03599999999999969, 0.0, 0.0, 0.1800000000000005, 0.8539999999999982, 1.700000000000001, 0.039999999999999716, 0.9900000000000002, 0.28799999999999987, 0.441000000000003, 0.14400000000000218, 0.34000000000000236, 0.19599999999999998, 0.3239999999999998, 0.4180000000000014, 0.23100000000000176, 0.03600000000000081, 0.08000000000000007, 0.46399999999999764, 0.601999999999999, 0.33799999999999897, 0.2660000000000004, 0.11700000000000065, 0.006999999999999631, 2.413999999999997, 0.040000000000000424, 0.08499999999999996, 0.3120000000000005, 0.02799999999999952, 4.769999999999994, 0.35700000000000154, 0.19799999999999995, 2.0459999999999985, 0.14000000000000257, 0.36000000000000065, 0.21599999999999825, 0.056999999999998954, 0.21600000000000016, 0.6800000000000017, 0.2989999999999999, 0.08499999999999996, 0.0, 0.17599999999999924, 0.9000000000000004, 1.316, 0.08099999999999535, 0.009000000000000416, 0.3280000000000004, 2.142000000000003]}, {\"colorscale\": [[0.0, \"rgb(252, 222, 156)\"], [0.16666666666666666, \"rgb(250, 164, 118)\"], [0.3333333333333333, \"rgb(240, 116, 110)\"], [0.5, \"rgb(227, 79, 111)\"], [0.6666666666666666, \"rgb(220, 57, 119)\"], [0.8333333333333334, \"rgb(185, 37, 122)\"], [1.0, \"rgb(124, 29, 111)\"]], \"locationmode\": \"ISO-3\", \"locations\": [\"ALB\", \"DZA\", \"ARG\", \"AUS\", \"AUT\", \"BHS\", \"BHR\", \"BGD\", \"BRD\", \"BEL\", \"BLZ\", \"BEN\", \"BWA\", \"BRA\", \"BGR\", \"BDI\", \"CMR\", \"CAN\", \"TCD\", \"CHL\", \"CHN\", \"COL\", \"CRI\", \"HRV\", \"CYP\", \"DNK\", \"ECU\", \"EGY\", \"SLV\", \"EST\", \"FJI\", \"FIN\", \"FRA\", \"GAB\", \"DEU\", \"GHA\", \"GRC\", \"GTM\", \"GNB\", \"GUY\", \"HTI\", \"HND\", \"HUN\", \"ISL\", \"IND\", \"IDN\", \"IRL\", \"ISR\", \"ITA\", \"JAM\", \"JPN\", \"JOR\", \"KEN\", \"KWT\", \"LVA\", \"LTU\", \"LUX\", \"MDG\", \"MWI\", \"MYS\", \"MLI\", \"MLT\", \"MUS\", \"MEX\", \"MAR\", \"MMR\", \"NAM\", \"NPL\", \"NLD\", \"NZL\", \"NIC\", \"NER\", \"NGA\", \"NOR\", \"OMN\", \"PAK\", \"PAN\", \"PRY\", \"PER\", \"PHL\", \"POL\", \"PRT\", \"ROU\", \"RWA\", \"SEN\", \"SLE\", \"SGP\", \"SVN\", \"ZAF\", \"ESP\", \"LKA\", \"SWE\", \"CHE\", \"THA\", \"TGO\", \"TUN\", \"TUR\", \"UGA\", \"UKR\", \"URY\", \"ZMB\", \"ZWE\"], \"type\": \"choropleth\", \"z\": [0.16800000000000237, 0.016000000000000243, 0.0, 0.4549999999999965, 0.01399999999999976, 0.24600000000000358, 0.10999999999999988, 0.1349999999999998, 0.12000000000000163, 0.14700000000000057, 0.01700000000000144, 0.311999999999999, 0.5460000000000003, 0.3199999999999992, 1.134000000000007, 0.12200000000000284, 0.055999999999999675, 0.0660000000000006, 0.11999999999999986, 0.2400000000000031, 0.5599999999999971, 0.7300000000000004, 0.024000000000000184, 0.0, 0.14800000000000216, 0.019999999999999858, 0.6240000000000028, 0.12800000000000175, 0.1530000000000009, 1.464, 0.03599999999999969, 0.07200000000000052, 0.06999999999999984, 0.3119999999999996, 0.020000000000000018, 0.4759999999999969, 0.33299999999999697, 0.34000000000000086, 0.5759999999999996, 0.02200000000000185, 0.4180000000000004, 0.01799999999999973, 0.06399999999999983, 0.29199999999999365, 0.18000000000000085, 0.15600000000000208, 0.08000000000000085, 0.32799999999999896, 0.19999999999999973, 0.03500000000000014, 0.06400000000000097, 0.04199999999999924, 0.07000000000000028, 0.10800000000000154, 2.0999999999999988, 0.0, 0.16799999999999937, 0.2599999999999998, 1.6050000000000004, 0.15399999999999733, 0.08800000000000019, 0.46000000000000085, 0.16500000000000004, 0.02400000000000036, 0.14300000000000165, 0.22, 0.16799999999999846, 0.23399999999999943, 0.14400000000000218, 0.04499999999999993, 0.2400000000000002, 0.5459999999999999, 0.34999999999999964, 0.27000000000000157, 0.10000000000000053, 0.05600000000000028, 0.01200000000000027, 1.8979999999999977, 0.048999999999999405, 0.01200000000000027, 0.05999999999999961, 0.0490000000000004, 4.484000000000003, 1.2949999999999997, 0.06000000000000005, 1.7000000000000015, 0.030000000000001137, 0.1499999999999999, 0.264, 0.0120000000000002, 0.19200000000000061, 0.1439999999999994, 0.9009999999999991, 0.07800000000000158, 0.016000000000000153, 0.07200000000000034, 0.7680000000000025, 0.9239999999999996, 0.05899999999999663, 0.02700000000000098, 0.18200000000000083, 1.035]}, {\"colorscale\": [[0.0, \"rgb(252, 222, 156)\"], [0.16666666666666666, \"rgb(250, 164, 118)\"], [0.3333333333333333, \"rgb(240, 116, 110)\"], [0.5, \"rgb(227, 79, 111)\"], [0.6666666666666666, \"rgb(220, 57, 119)\"], [0.8333333333333334, \"rgb(185, 37, 122)\"], [1.0, \"rgb(124, 29, 111)\"]], \"locationmode\": \"ISO-3\", \"locations\": [\"ALB\", \"DZA\", \"ARG\", \"AUS\", \"AUT\", \"BHS\", \"BHR\", \"BGD\", \"BRD\", \"BEL\", \"BLZ\", \"BEN\", \"BWA\", \"BRA\", \"BGR\", \"BDI\", \"CMR\", \"CAN\", \"TCD\", \"CHL\", \"CHN\", \"COL\", \"CRI\", \"HRV\", \"CYP\", \"DNK\", \"ECU\", \"EGY\", \"SLV\", \"EST\", \"FJI\", \"FIN\", \"FRA\", \"GAB\", \"DEU\", \"GHA\", \"GRC\", \"GTM\", \"GNB\", \"GUY\", \"HTI\", \"HND\", \"HUN\", \"ISL\", \"IND\", \"IDN\", \"IRL\", \"ISR\", \"ITA\", \"JAM\", \"JPN\", \"JOR\", \"KEN\", \"KWT\", \"LVA\", \"LTU\", \"LUX\", \"MDG\", \"MWI\", \"MYS\", \"MLI\", \"MLT\", \"MUS\", \"MEX\", \"MAR\", \"MMR\", \"NAM\", \"NPL\", \"NLD\", \"NZL\", \"NIC\", \"NER\", \"NGA\", \"NOR\", \"OMN\", \"PAK\", \"PAN\", \"PRY\", \"PER\", \"PHL\", \"POL\", \"PRT\", \"ROU\", \"RWA\", \"SEN\", \"SLE\", \"SGP\", \"SVN\", \"ZAF\", \"ESP\", \"LKA\", \"SWE\", \"CHE\", \"THA\", \"TGO\", \"TUN\", \"TUR\", \"UGA\", \"UKR\", \"URY\", \"ZMB\", \"ZWE\"], \"type\": \"choropleth\", \"z\": [0.22400000000000048, 0.008999999999999989, 0.0, 0.05600000000000031, 0.09600000000000145, 0.029999999999999805, 0.036000000000000455, 0.020000000000000462, 0.016000000000000243, 0.09600000000000145, 0.020000000000000392, 0.15800000000000225, 0.3960000000000005, 0.8999999999999986, 0.7210000000000031, 1.3649999999999998, 0.014000000000000078, 0.08400000000000082, 0.1200000000000001, 0.11999999999999966, 0.33999999999999986, 0.23999999999999475, 0.19600000000000098, 0.003999999999999776, 0.1440000000000056, 0.017999999999999038, 0.3119999999999986, 0.051999999999997, 0.8000000000000007, 0.8160000000000004, 0.016000000000000243, 0.047999999999999585, 0.060000000000000636, 0.40299999999999864, 0.0520000000000007, 0.18799999999999922, 0.03199999999999992, 0.16000000000000028, 0.4409999999999972, 0.011000000000000969, 0.35699999999999765, 0.017999999999999978, 0.0079999999999998, 0.8170000000000012, 0.039999999999999716, 0.02400000000000054, 0.23000000000000043, 0.1559999999999969, 0.0539999999999994, 0.06800000000000093, 0.29400000000000115, 0.02399999999999933, 0.044000000000000754, 0.050999999999997166, 0.9000000000000004, 0.051999999999997, 0.125, 0.013999999999999688, 0.5939999999999992, 0.1499999999999999, 0.686000000000003, 0.07000000000000066, 0.125, 0.026000000000000526, 0.026999999999999594, 0.21699999999999872, 0.051000000000000295, 0.05400000000000004, 0.0720000000000028, 0.012000000000000946, 0.03999999999999915, 0.29399999999999965, 0.2160000000000007, 0.08800000000000151, 0.03500000000000002, 0.12000000000000163, 0.0, 1.5000000000000013, 0.07199999999999991, 0.0, 0.03199999999999992, 0.036000000000000275, 0.0, 4.958999999999996, 0.11699999999999972, 3.419999999999999, 0.06300000000000015, 0.11399999999999862, 0.143999999999999, 0.10800000000000136, 0.1319999999999993, 0.042000000000001494, 0.3869999999999991, 0.021000000000000883, 0.038000000000000526, 0.05399999999999994, 0.22399999999999998, 0.461999999999999, 0.06899999999999612, 0.02700000000000125, 0.34000000000000086, 0.9240000000000017]}, {\"colorscale\": [[0.0, \"rgb(252, 222, 156)\"], [0.16666666666666666, \"rgb(250, 164, 118)\"], [0.3333333333333333, \"rgb(240, 116, 110)\"], [0.5, \"rgb(227, 79, 111)\"], [0.6666666666666666, \"rgb(220, 57, 119)\"], [0.8333333333333334, \"rgb(185, 37, 122)\"], [1.0, \"rgb(124, 29, 111)\"]], \"locationmode\": \"ISO-3\", \"locations\": [\"ALB\", \"DZA\", \"ARG\", \"AUS\", \"AUT\", \"BHS\", \"BHR\", \"BGD\", \"BRD\", \"BEL\", \"BLZ\", \"BEN\", \"BWA\", \"BRA\", \"BGR\", \"BDI\", \"CMR\", \"CAN\", \"TCD\", \"CHL\", \"CHN\", \"COL\", \"CRI\", \"HRV\", \"CYP\", \"DNK\", \"ECU\", \"EGY\", \"SLV\", \"EST\", \"FJI\", \"FIN\", \"FRA\", \"GAB\", \"DEU\", \"GHA\", \"GRC\", \"GTM\", \"GNB\", \"GUY\", \"HTI\", \"HND\", \"HUN\", \"ISL\", \"IND\", \"IDN\", \"IRL\", \"ISR\", \"ITA\", \"JAM\", \"JPN\", \"JOR\", \"KEN\", \"KWT\", \"LVA\", \"LTU\", \"LUX\", \"MDG\", \"MWI\", \"MYS\", \"MLI\", \"MLT\", \"MUS\", \"MEX\", \"MAR\", \"MMR\", \"NAM\", \"NPL\", \"NLD\", \"NZL\", \"NIC\", \"NER\", \"NGA\", \"NOR\", \"OMN\", \"PAK\", \"PAN\", \"PRY\", \"PER\", \"PHL\", \"POL\", \"PRT\", \"ROU\", \"RWA\", \"SEN\", \"SLE\", \"SGP\", \"SVN\", \"ZAF\", \"ESP\", \"LKA\", \"SWE\", \"CHE\", \"THA\", \"TGO\", \"TUN\", \"TUR\", \"UGA\", \"UKR\", \"URY\", \"ZMB\", \"ZWE\"], \"type\": \"choropleth\", \"z\": [0.0699999999999994, 0.008000000000000689, 0.04999999999999716, 0.04800000000000037, 0.06000000000000005, 0.02700000000000098, 0.018000000000000228, 0.050000000000000266, 0.002000000000000217, 0.14000000000000185, 0.010999999999999318, 0.032000000000000486, 0.26399999999999885, 0.0, 0.28000000000000025, 1.809000000000004, 0.017000000000000234, 0.021000000000000883, 0.0039999999999999, 0.0, 0.04499999999999993, 0.055999999999996865, 0.013999999999999173, 0.05600000000000085, 0.0010000000000001527, 0.017999999999999038, 0.06000000000000117, 0.04200000000000059, 0.01299999999999925, 0.0, 0.013999999999999261, 0.040000000000000036, 0.04800000000000055, 0.18000000000000085, 0.044999999999999415, 0.011999999999999665, 0.04499999999999993, 0.02800000000000014, 0.22799999999999931, 0.0, 0.17699999999999827, 0.04499999999999968, 0.2279999999999978, 0.023999999999999792, 0.04799999999999987, 0.060000000000001, 0.07199999999999938, 0.011999999999999844, 0.04799999999999902, 0.013000000000001097, 0.11200000000000133, 0.03400000000000047, 0.0, 0.0, 0.3189999999999984, 0.019999999999999504, 0.0, 0.24000000000000113, 0.21999999999999914, 0.0959999999999989, 2.4960000000000035, 0.0, 0.04499999999999993, 0.012000000000000092, 0.060000000000000636, 0.028000000000000014, 0.22499999999999964, 0.01399999999999976, 0.04200000000000059, 0.009999999999999397, 0.0, 1.799999999999999, 0.008999999999999989, 0.029999999999999874, 0.012000000000000465, 0.01200000000000027, 0.01200000000000027, 0.546000000000002, 0.0, 0.0, 0.040000000000000036, 0.03000000000000103, 0.03999999999999915, 0.06600000000000086, 0.028000000000000014, 0.47999999999999865, 0.011999999999999915, 0.04600000000000056, 0.026000000000000544, 0.05400000000000196, 0.03599999999999932, 0.04600000000000056, 0.4139999999999988, 0.0, 0.0, 0.017999999999999978, 0.8399999999999999, 0.044000000000000095, 0.04200000000000059, 0.006000000000000473, 0.15200000000000113, 0.4480000000000016]}],\n",
              "                        {\"geo\": {\"scope\": \"world\"}, \"sliders\": [{\"active\": 0, \"pad\": {\"t\": 1}, \"steps\": [{\"args\": [\"visible\", [true, false, false, false, false, false, false, false, false, false, false, false, false, false, false]], \"label\": \"Year 2001\", \"method\": \"restyle\"}, {\"args\": [\"visible\", [false, true, false, false, false, false, false, false, false, false, false, false, false, false, false]], \"label\": \"Year 2002\", \"method\": \"restyle\"}, {\"args\": [\"visible\", [false, false, true, false, false, false, false, false, false, false, false, false, false, false, false]], \"label\": \"Year 2003\", \"method\": \"restyle\"}, {\"args\": [\"visible\", [false, false, false, true, false, false, false, false, false, false, false, false, false, false, false]], \"label\": \"Year 2004\", \"method\": \"restyle\"}, {\"args\": [\"visible\", [false, false, false, false, true, false, false, false, false, false, false, false, false, false, false]], \"label\": \"Year 2005\", \"method\": \"restyle\"}, {\"args\": [\"visible\", [false, false, false, false, false, true, false, false, false, false, false, false, false, false, false]], \"label\": \"Year 2006\", \"method\": \"restyle\"}, {\"args\": [\"visible\", [false, false, false, false, false, false, true, false, false, false, false, false, false, false, false]], \"label\": \"Year 2007\", \"method\": \"restyle\"}, {\"args\": [\"visible\", [false, false, false, false, false, false, false, true, false, false, false, false, false, false, false]], \"label\": \"Year 2008\", \"method\": \"restyle\"}, {\"args\": [\"visible\", [false, false, false, false, false, false, false, false, true, false, false, false, false, false, false]], \"label\": \"Year 2009\", \"method\": \"restyle\"}, {\"args\": [\"visible\", [false, false, false, false, false, false, false, false, false, true, false, false, false, false, false]], \"label\": \"Year 2010\", \"method\": \"restyle\"}, {\"args\": [\"visible\", [false, false, false, false, false, false, false, false, false, false, true, false, false, false, false]], \"label\": \"Year 2011\", \"method\": \"restyle\"}, {\"args\": [\"visible\", [false, false, false, false, false, false, false, false, false, false, false, true, false, false, false]], \"label\": \"Year 2012\", \"method\": \"restyle\"}, {\"args\": [\"visible\", [false, false, false, false, false, false, false, false, false, false, false, false, true, false, false]], \"label\": \"Year 2013\", \"method\": \"restyle\"}, {\"args\": [\"visible\", [false, false, false, false, false, false, false, false, false, false, false, false, false, true, false]], \"label\": \"Year 2014\", \"method\": \"restyle\"}, {\"args\": [\"visible\", [false, false, false, false, false, false, false, false, false, false, false, false, false, false, true]], \"label\": \"Year 2015\", \"method\": \"restyle\"}]}], \"template\": {\"data\": {\"bar\": [{\"error_x\": {\"color\": \"#2a3f5f\"}, \"error_y\": {\"color\": \"#2a3f5f\"}, \"marker\": {\"line\": {\"color\": \"#E5ECF6\", \"width\": 0.5}}, \"type\": \"bar\"}], \"barpolar\": [{\"marker\": {\"line\": {\"color\": \"#E5ECF6\", \"width\": 0.5}}, \"type\": \"barpolar\"}], \"carpet\": [{\"aaxis\": {\"endlinecolor\": \"#2a3f5f\", \"gridcolor\": \"white\", \"linecolor\": \"white\", \"minorgridcolor\": \"white\", \"startlinecolor\": \"#2a3f5f\"}, \"baxis\": {\"endlinecolor\": \"#2a3f5f\", \"gridcolor\": \"white\", \"linecolor\": \"white\", \"minorgridcolor\": \"white\", \"startlinecolor\": \"#2a3f5f\"}, \"type\": \"carpet\"}], \"choropleth\": [{\"colorbar\": {\"outlinewidth\": 0, \"ticks\": \"\"}, \"type\": \"choropleth\"}], \"contour\": [{\"colorbar\": {\"outlinewidth\": 0, \"ticks\": \"\"}, \"colorscale\": [[0.0, \"#0d0887\"], [0.1111111111111111, \"#46039f\"], [0.2222222222222222, \"#7201a8\"], [0.3333333333333333, \"#9c179e\"], [0.4444444444444444, \"#bd3786\"], [0.5555555555555556, \"#d8576b\"], [0.6666666666666666, \"#ed7953\"], [0.7777777777777778, \"#fb9f3a\"], [0.8888888888888888, \"#fdca26\"], [1.0, \"#f0f921\"]], \"type\": \"contour\"}], \"contourcarpet\": [{\"colorbar\": {\"outlinewidth\": 0, \"ticks\": \"\"}, \"type\": \"contourcarpet\"}], \"heatmap\": [{\"colorbar\": {\"outlinewidth\": 0, \"ticks\": \"\"}, \"colorscale\": [[0.0, \"#0d0887\"], [0.1111111111111111, \"#46039f\"], [0.2222222222222222, \"#7201a8\"], [0.3333333333333333, \"#9c179e\"], [0.4444444444444444, \"#bd3786\"], [0.5555555555555556, \"#d8576b\"], [0.6666666666666666, \"#ed7953\"], [0.7777777777777778, \"#fb9f3a\"], [0.8888888888888888, \"#fdca26\"], [1.0, \"#f0f921\"]], \"type\": \"heatmap\"}], \"heatmapgl\": [{\"colorbar\": {\"outlinewidth\": 0, \"ticks\": \"\"}, \"colorscale\": [[0.0, \"#0d0887\"], [0.1111111111111111, \"#46039f\"], [0.2222222222222222, \"#7201a8\"], [0.3333333333333333, \"#9c179e\"], [0.4444444444444444, \"#bd3786\"], [0.5555555555555556, \"#d8576b\"], [0.6666666666666666, \"#ed7953\"], [0.7777777777777778, \"#fb9f3a\"], [0.8888888888888888, \"#fdca26\"], [1.0, \"#f0f921\"]], \"type\": \"heatmapgl\"}], \"histogram\": [{\"marker\": {\"colorbar\": {\"outlinewidth\": 0, \"ticks\": \"\"}}, \"type\": \"histogram\"}], \"histogram2d\": [{\"colorbar\": {\"outlinewidth\": 0, \"ticks\": \"\"}, \"colorscale\": [[0.0, \"#0d0887\"], [0.1111111111111111, \"#46039f\"], [0.2222222222222222, \"#7201a8\"], [0.3333333333333333, \"#9c179e\"], [0.4444444444444444, \"#bd3786\"], [0.5555555555555556, \"#d8576b\"], [0.6666666666666666, \"#ed7953\"], [0.7777777777777778, \"#fb9f3a\"], [0.8888888888888888, \"#fdca26\"], [1.0, \"#f0f921\"]], \"type\": \"histogram2d\"}], \"histogram2dcontour\": [{\"colorbar\": {\"outlinewidth\": 0, \"ticks\": \"\"}, \"colorscale\": [[0.0, \"#0d0887\"], [0.1111111111111111, \"#46039f\"], [0.2222222222222222, \"#7201a8\"], [0.3333333333333333, \"#9c179e\"], [0.4444444444444444, \"#bd3786\"], [0.5555555555555556, \"#d8576b\"], [0.6666666666666666, \"#ed7953\"], [0.7777777777777778, \"#fb9f3a\"], [0.8888888888888888, \"#fdca26\"], [1.0, \"#f0f921\"]], \"type\": \"histogram2dcontour\"}], \"mesh3d\": [{\"colorbar\": {\"outlinewidth\": 0, \"ticks\": \"\"}, \"type\": \"mesh3d\"}], \"parcoords\": [{\"line\": {\"colorbar\": {\"outlinewidth\": 0, \"ticks\": \"\"}}, \"type\": \"parcoords\"}], \"pie\": [{\"automargin\": true, \"type\": \"pie\"}], \"scatter\": [{\"marker\": {\"colorbar\": {\"outlinewidth\": 0, \"ticks\": \"\"}}, \"type\": \"scatter\"}], \"scatter3d\": [{\"line\": {\"colorbar\": {\"outlinewidth\": 0, \"ticks\": \"\"}}, \"marker\": {\"colorbar\": {\"outlinewidth\": 0, \"ticks\": \"\"}}, \"type\": \"scatter3d\"}], \"scattercarpet\": [{\"marker\": {\"colorbar\": {\"outlinewidth\": 0, \"ticks\": \"\"}}, \"type\": \"scattercarpet\"}], \"scattergeo\": [{\"marker\": {\"colorbar\": {\"outlinewidth\": 0, \"ticks\": \"\"}}, \"type\": \"scattergeo\"}], \"scattergl\": [{\"marker\": {\"colorbar\": {\"outlinewidth\": 0, \"ticks\": \"\"}}, \"type\": \"scattergl\"}], \"scattermapbox\": [{\"marker\": {\"colorbar\": {\"outlinewidth\": 0, \"ticks\": \"\"}}, \"type\": \"scattermapbox\"}], \"scatterpolar\": [{\"marker\": {\"colorbar\": {\"outlinewidth\": 0, \"ticks\": \"\"}}, \"type\": \"scatterpolar\"}], \"scatterpolargl\": [{\"marker\": {\"colorbar\": {\"outlinewidth\": 0, \"ticks\": \"\"}}, \"type\": \"scatterpolargl\"}], \"scatterternary\": [{\"marker\": {\"colorbar\": {\"outlinewidth\": 0, \"ticks\": \"\"}}, \"type\": \"scatterternary\"}], \"surface\": [{\"colorbar\": {\"outlinewidth\": 0, \"ticks\": \"\"}, \"colorscale\": [[0.0, \"#0d0887\"], [0.1111111111111111, \"#46039f\"], [0.2222222222222222, \"#7201a8\"], [0.3333333333333333, \"#9c179e\"], [0.4444444444444444, \"#bd3786\"], [0.5555555555555556, \"#d8576b\"], [0.6666666666666666, \"#ed7953\"], [0.7777777777777778, \"#fb9f3a\"], [0.8888888888888888, \"#fdca26\"], [1.0, \"#f0f921\"]], \"type\": \"surface\"}], \"table\": [{\"cells\": {\"fill\": {\"color\": \"#EBF0F8\"}, \"line\": {\"color\": \"white\"}}, \"header\": {\"fill\": {\"color\": \"#C8D4E3\"}, \"line\": {\"color\": \"white\"}}, \"type\": \"table\"}]}, \"layout\": {\"annotationdefaults\": {\"arrowcolor\": \"#2a3f5f\", \"arrowhead\": 0, \"arrowwidth\": 1}, \"coloraxis\": {\"colorbar\": {\"outlinewidth\": 0, \"ticks\": \"\"}}, \"colorscale\": {\"diverging\": [[0, \"#8e0152\"], [0.1, \"#c51b7d\"], [0.2, \"#de77ae\"], [0.3, \"#f1b6da\"], [0.4, \"#fde0ef\"], [0.5, \"#f7f7f7\"], [0.6, \"#e6f5d0\"], [0.7, \"#b8e186\"], [0.8, \"#7fbc41\"], [0.9, \"#4d9221\"], [1, \"#276419\"]], \"sequential\": [[0.0, \"#0d0887\"], [0.1111111111111111, \"#46039f\"], [0.2222222222222222, \"#7201a8\"], [0.3333333333333333, \"#9c179e\"], [0.4444444444444444, \"#bd3786\"], [0.5555555555555556, \"#d8576b\"], [0.6666666666666666, \"#ed7953\"], [0.7777777777777778, \"#fb9f3a\"], [0.8888888888888888, \"#fdca26\"], [1.0, \"#f0f921\"]], \"sequentialminus\": [[0.0, \"#0d0887\"], [0.1111111111111111, \"#46039f\"], [0.2222222222222222, \"#7201a8\"], [0.3333333333333333, \"#9c179e\"], [0.4444444444444444, \"#bd3786\"], [0.5555555555555556, \"#d8576b\"], [0.6666666666666666, \"#ed7953\"], [0.7777777777777778, \"#fb9f3a\"], [0.8888888888888888, \"#fdca26\"], [1.0, \"#f0f921\"]]}, \"colorway\": [\"#636efa\", \"#EF553B\", \"#00cc96\", \"#ab63fa\", \"#FFA15A\", \"#19d3f3\", \"#FF6692\", \"#B6E880\", \"#FF97FF\", \"#FECB52\"], \"font\": {\"color\": \"#2a3f5f\"}, \"geo\": {\"bgcolor\": \"white\", \"lakecolor\": \"white\", \"landcolor\": \"#E5ECF6\", \"showlakes\": true, \"showland\": true, \"subunitcolor\": \"white\"}, \"hoverlabel\": {\"align\": \"left\"}, \"hovermode\": \"closest\", \"mapbox\": {\"style\": \"light\"}, \"paper_bgcolor\": \"white\", \"plot_bgcolor\": \"#E5ECF6\", \"polar\": {\"angularaxis\": {\"gridcolor\": \"white\", \"linecolor\": \"white\", \"ticks\": \"\"}, \"bgcolor\": \"#E5ECF6\", \"radialaxis\": {\"gridcolor\": \"white\", \"linecolor\": \"white\", \"ticks\": \"\"}}, \"scene\": {\"xaxis\": {\"backgroundcolor\": \"#E5ECF6\", \"gridcolor\": \"white\", \"gridwidth\": 2, \"linecolor\": \"white\", \"showbackground\": true, \"ticks\": \"\", \"zerolinecolor\": \"white\"}, \"yaxis\": {\"backgroundcolor\": \"#E5ECF6\", \"gridcolor\": \"white\", \"gridwidth\": 2, \"linecolor\": \"white\", \"showbackground\": true, \"ticks\": \"\", \"zerolinecolor\": \"white\"}, \"zaxis\": {\"backgroundcolor\": \"#E5ECF6\", \"gridcolor\": \"white\", \"gridwidth\": 2, \"linecolor\": \"white\", \"showbackground\": true, \"ticks\": \"\", \"zerolinecolor\": \"white\"}}, \"shapedefaults\": {\"line\": {\"color\": \"#2a3f5f\"}}, \"ternary\": {\"aaxis\": {\"gridcolor\": \"white\", \"linecolor\": \"white\", \"ticks\": \"\"}, \"baxis\": {\"gridcolor\": \"white\", \"linecolor\": \"white\", \"ticks\": \"\"}, \"bgcolor\": \"#E5ECF6\", \"caxis\": {\"gridcolor\": \"white\", \"linecolor\": \"white\", \"ticks\": \"\"}}, \"title\": {\"x\": 0.05}, \"xaxis\": {\"automargin\": true, \"gridcolor\": \"white\", \"linecolor\": \"white\", \"ticks\": \"\", \"title\": {\"standoff\": 15}, \"zerolinecolor\": \"white\", \"zerolinewidth\": 2}, \"yaxis\": {\"automargin\": true, \"gridcolor\": \"white\", \"linecolor\": \"white\", \"ticks\": \"\", \"title\": {\"standoff\": 15}, \"zerolinecolor\": \"white\", \"zerolinewidth\": 2}}}},\n",
              "                        {\"responsive\": true}\n",
              "                    ).then(function(){\n",
              "                            \n",
              "var gd = document.getElementById('abd81489-c4b0-4ebb-a454-bda7dfb780c7');\n",
              "var x = new MutationObserver(function (mutations, observer) {{\n",
              "        var display = window.getComputedStyle(gd).display;\n",
              "        if (!display || display === 'none') {{\n",
              "            console.log([gd, 'removed!']);\n",
              "            Plotly.purge(gd);\n",
              "            observer.disconnect();\n",
              "        }}\n",
              "}});\n",
              "\n",
              "// Listen for the removal of the full notebook cells\n",
              "var notebookContainer = gd.closest('#notebook-container');\n",
              "if (notebookContainer) {{\n",
              "    x.observe(notebookContainer, {childList: true});\n",
              "}}\n",
              "\n",
              "// Listen for the clearing of the current output cell\n",
              "var outputEl = gd.closest('.output');\n",
              "if (outputEl) {{\n",
              "    x.observe(outputEl, {childList: true});\n",
              "}}\n",
              "\n",
              "                        })\n",
              "                };\n",
              "                \n",
              "            </script>\n",
              "        </div>\n",
              "</body>\n",
              "</html>"
            ]
          },
          "metadata": {
            "tags": []
          }
        }
      ]
    }
  ]
}