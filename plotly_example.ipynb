{
 "cells": [
  {
   "cell_type": "code",
   "execution_count": 1,
   "metadata": {},
   "outputs": [
    {
     "data": {
      "text/html": [
       "<div>\n",
       "<style scoped>\n",
       "    .dataframe tbody tr th:only-of-type {\n",
       "        vertical-align: middle;\n",
       "    }\n",
       "\n",
       "    .dataframe tbody tr th {\n",
       "        vertical-align: top;\n",
       "    }\n",
       "\n",
       "    .dataframe thead th {\n",
       "        text-align: right;\n",
       "    }\n",
       "</style>\n",
       "<table border=\"1\" class=\"dataframe\">\n",
       "  <thead>\n",
       "    <tr style=\"text-align: right;\">\n",
       "      <th></th>\n",
       "      <th>HDI_rank</th>\n",
       "      <th>Country</th>\n",
       "      <th>HDI</th>\n",
       "      <th>Life_exp</th>\n",
       "      <th>Exp_sch</th>\n",
       "      <th>Mean_sch</th>\n",
       "      <th>GNI_percap</th>\n",
       "      <th>GNI_HDI_rank_diff</th>\n",
       "      <th>HDI_rank_2017</th>\n",
       "    </tr>\n",
       "  </thead>\n",
       "  <tbody>\n",
       "    <tr>\n",
       "      <th>0</th>\n",
       "      <td>1.0</td>\n",
       "      <td>Norway</td>\n",
       "      <td>0.954</td>\n",
       "      <td>82.3</td>\n",
       "      <td>18.1</td>\n",
       "      <td>12.6</td>\n",
       "      <td>68,059</td>\n",
       "      <td>5.0</td>\n",
       "      <td>1.0</td>\n",
       "    </tr>\n",
       "    <tr>\n",
       "      <th>1</th>\n",
       "      <td>2.0</td>\n",
       "      <td>Switzerland</td>\n",
       "      <td>0.946</td>\n",
       "      <td>83.6</td>\n",
       "      <td>16.2</td>\n",
       "      <td>13.4</td>\n",
       "      <td>59,375</td>\n",
       "      <td>8.0</td>\n",
       "      <td>2.0</td>\n",
       "    </tr>\n",
       "    <tr>\n",
       "      <th>2</th>\n",
       "      <td>3.0</td>\n",
       "      <td>Ireland</td>\n",
       "      <td>0.942</td>\n",
       "      <td>82.1</td>\n",
       "      <td>18.8</td>\n",
       "      <td>12.5</td>\n",
       "      <td>55,660</td>\n",
       "      <td>9.0</td>\n",
       "      <td>3.0</td>\n",
       "    </tr>\n",
       "    <tr>\n",
       "      <th>3</th>\n",
       "      <td>4.0</td>\n",
       "      <td>Germany</td>\n",
       "      <td>0.939</td>\n",
       "      <td>81.2</td>\n",
       "      <td>17.1</td>\n",
       "      <td>14.1</td>\n",
       "      <td>46,946</td>\n",
       "      <td>15.0</td>\n",
       "      <td>4.0</td>\n",
       "    </tr>\n",
       "    <tr>\n",
       "      <th>4</th>\n",
       "      <td>4.0</td>\n",
       "      <td>Hong Kong, China (SAR)</td>\n",
       "      <td>0.939</td>\n",
       "      <td>84.7</td>\n",
       "      <td>16.5</td>\n",
       "      <td>12.0</td>\n",
       "      <td>60,221</td>\n",
       "      <td>5.0</td>\n",
       "      <td>6.0</td>\n",
       "    </tr>\n",
       "    <tr>\n",
       "      <th>...</th>\n",
       "      <td>...</td>\n",
       "      <td>...</td>\n",
       "      <td>...</td>\n",
       "      <td>...</td>\n",
       "      <td>...</td>\n",
       "      <td>...</td>\n",
       "      <td>...</td>\n",
       "      <td>...</td>\n",
       "      <td>...</td>\n",
       "    </tr>\n",
       "    <tr>\n",
       "      <th>190</th>\n",
       "      <td>188.0</td>\n",
       "      <td>Monaco</td>\n",
       "      <td>NaN</td>\n",
       "      <td>NaN</td>\n",
       "      <td>..</td>\n",
       "      <td>NaN</td>\n",
       "      <td>NaN</td>\n",
       "      <td>NaN</td>\n",
       "      <td>NaN</td>\n",
       "    </tr>\n",
       "    <tr>\n",
       "      <th>191</th>\n",
       "      <td>189.0</td>\n",
       "      <td>Nauru</td>\n",
       "      <td>NaN</td>\n",
       "      <td>NaN</td>\n",
       "      <td>11.3</td>\n",
       "      <td>NaN</td>\n",
       "      <td>17,313</td>\n",
       "      <td>NaN</td>\n",
       "      <td>NaN</td>\n",
       "    </tr>\n",
       "    <tr>\n",
       "      <th>192</th>\n",
       "      <td>NaN</td>\n",
       "      <td>San Marino</td>\n",
       "      <td>NaN</td>\n",
       "      <td>NaN</td>\n",
       "      <td>15.1</td>\n",
       "      <td>NaN</td>\n",
       "      <td>NaN</td>\n",
       "      <td>NaN</td>\n",
       "      <td>NaN</td>\n",
       "    </tr>\n",
       "    <tr>\n",
       "      <th>193</th>\n",
       "      <td>NaN</td>\n",
       "      <td>Somalia</td>\n",
       "      <td>NaN</td>\n",
       "      <td>57.1</td>\n",
       "      <td>NaN</td>\n",
       "      <td>NaN</td>\n",
       "      <td>NaN</td>\n",
       "      <td>NaN</td>\n",
       "      <td>NaN</td>\n",
       "    </tr>\n",
       "    <tr>\n",
       "      <th>194</th>\n",
       "      <td>NaN</td>\n",
       "      <td>Tuvalu</td>\n",
       "      <td>NaN</td>\n",
       "      <td>NaN</td>\n",
       "      <td>12.3</td>\n",
       "      <td>NaN</td>\n",
       "      <td>5,409</td>\n",
       "      <td>NaN</td>\n",
       "      <td>NaN</td>\n",
       "    </tr>\n",
       "  </tbody>\n",
       "</table>\n",
       "<p>195 rows × 9 columns</p>\n",
       "</div>"
      ],
      "text/plain": [
       "     HDI_rank                 Country    HDI  Life_exp Exp_sch  Mean_sch  \\\n",
       "0         1.0                  Norway  0.954      82.3    18.1      12.6   \n",
       "1         2.0             Switzerland  0.946      83.6    16.2      13.4   \n",
       "2         3.0                 Ireland  0.942      82.1    18.8      12.5   \n",
       "3         4.0                 Germany  0.939      81.2    17.1      14.1   \n",
       "4         4.0  Hong Kong, China (SAR)  0.939      84.7    16.5      12.0   \n",
       "..        ...                     ...    ...       ...     ...       ...   \n",
       "190     188.0                  Monaco    NaN       NaN      ..       NaN   \n",
       "191     189.0                   Nauru    NaN       NaN    11.3       NaN   \n",
       "192       NaN              San Marino    NaN       NaN    15.1       NaN   \n",
       "193       NaN                 Somalia    NaN      57.1     NaN       NaN   \n",
       "194       NaN                  Tuvalu    NaN       NaN    12.3       NaN   \n",
       "\n",
       "    GNI_percap  GNI_HDI_rank_diff  HDI_rank_2017  \n",
       "0       68,059                5.0            1.0  \n",
       "1       59,375                8.0            2.0  \n",
       "2       55,660                9.0            3.0  \n",
       "3       46,946               15.0            4.0  \n",
       "4       60,221                5.0            6.0  \n",
       "..         ...                ...            ...  \n",
       "190        NaN                NaN            NaN  \n",
       "191     17,313                NaN            NaN  \n",
       "192        NaN                NaN            NaN  \n",
       "193        NaN                NaN            NaN  \n",
       "194      5,409                NaN            NaN  \n",
       "\n",
       "[195 rows x 9 columns]"
      ]
     },
     "execution_count": 1,
     "metadata": {},
     "output_type": "execute_result"
    }
   ],
   "source": [
    "import pandas as pd\n",
    "import plotly\n",
    "import plotly.graph_objs as go\n",
    "import plotly.express as px\n",
    "from plotly.offline import download_plotlyjs,init_notebook_mode,plot,iplot\n",
    "import numpy as np\n",
    "\n",
    "hdi = pd.read_csv('human_dev_2018.csv',encoding='latin-1')\n",
    "hdi"
   ]
  },
  {
   "cell_type": "code",
   "execution_count": 39,
   "metadata": {
    "scrolled": true
   },
   "outputs": [
    {
     "data": {
      "application/vnd.plotly.v1+json": {
       "config": {
        "linkText": "Export to plot.ly",
        "plotlyServerURL": "https://plot.ly",
        "showLink": false
       },
       "data": [
        {
         "colorbar": {
          "len": 200,
          "lenmode": "pixels",
          "title": {
           "text": "HDI"
          }
         },
         "colorscale": [
          [
           0,
           "rgb(12,51,131)"
          ],
          [
           0.25,
           "rgb(10,136,186)"
          ],
          [
           0.5,
           "rgb(242,211,56)"
          ],
          [
           0.75,
           "rgb(242,143,56)"
          ],
          [
           1,
           "rgb(217,30,30)"
          ]
         ],
         "locationmode": "country names",
         "locations": [
          "Norway",
          "Switzerland",
          "Ireland",
          "Germany",
          "Hong Kong, China (SAR)",
          "Australia",
          "Iceland",
          "Sweden",
          "Singapore",
          "Netherlands",
          "Denmark",
          "Finland",
          "Canada",
          "New Zealand",
          "United Kingdom",
          "United States",
          "Belgium",
          "Liechtenstein",
          "Japan",
          "Austria",
          "Luxembourg",
          "Israel",
          "Korea (Republic of)",
          "Slovenia",
          "Spain",
          "Czechia",
          "France",
          "Malta",
          "Italy",
          "Estonia",
          "Cyprus",
          "Greece",
          "Poland",
          "Lithuania",
          "United Arab Emirates",
          "Andorra",
          "Saudi Arabia",
          "Slovakia",
          "Latvia",
          "Portugal",
          "Qatar",
          "Chile",
          "Brunei Darussalam",
          "Hungary",
          "Bahrain",
          "Croatia",
          "Oman",
          "Argentina",
          "Russian Federation",
          "Belarus",
          "Kazakhstan",
          "Bulgaria",
          "Montenegro",
          "Romania",
          "Palau",
          "Barbados",
          "Kuwait",
          "Uruguay",
          "Turkey",
          "Bahamas",
          "Malaysia",
          "Seychelles",
          "Serbia",
          "Trinidad and Tobago",
          "Iran (Islamic Republic of)",
          "Mauritius",
          "Panama",
          "Costa Rica",
          "Albania",
          "Georgia",
          "Sri Lanka",
          "Cuba",
          "Saint Kitts and Nevis",
          "Antigua and Barbuda",
          "Bosnia and Herzegovina",
          "Mexico",
          "Thailand",
          "Grenada",
          "Brazil",
          "Colombia",
          "Armenia",
          "Algeria",
          "North Macedonia",
          "Peru",
          "China",
          "Ecuador",
          "Azerbaijan",
          "Ukraine",
          "Dominican Republic",
          "Saint Lucia",
          "Tunisia",
          "Mongolia",
          "Lebanon",
          "Botswana",
          "Saint Vincent and the Grenadines",
          "Jamaica",
          "Venezuela (Bolivarian Republic of)",
          "Dominica",
          "Fiji",
          "Paraguay",
          "Suriname",
          "Jordan",
          "Belize",
          "Maldives",
          "Tonga",
          "Philippines",
          "Moldova (Republic of)",
          "Turkmenistan",
          "Uzbekistan",
          "Libya",
          "Indonesia",
          "Samoa",
          "South Africa",
          "Bolivia (Plurinational State of)",
          "Gabon",
          "Egypt",
          "Marshall Islands",
          "Viet Nam",
          "Palestine, State of",
          "Iraq",
          "Morocco",
          "Kyrgyzstan",
          "Guyana",
          "El Salvador",
          "Tajikistan",
          "Cabo Verde",
          "Guatemala",
          "Nicaragua",
          "India",
          "Namibia",
          "Timor-Leste",
          "Honduras",
          "Kiribati",
          "Bhutan",
          "Bangladesh",
          "Micronesia (Federated States of)",
          "Sao Tome and Principe",
          "Congo",
          "Eswatini (Kingdom of)",
          "Lao People's Democratic Republic",
          "Vanuatu",
          "Ghana",
          "Zambia",
          "Equatorial Guinea",
          "Myanmar",
          "Cambodia",
          "Kenya",
          "Nepal",
          "Angola",
          "Cameroon",
          "Zimbabwe",
          "Pakistan",
          "Solomon Islands",
          "Syrian Arab Republic",
          "Papua New Guinea",
          "Comoros",
          "Rwanda",
          "Nigeria",
          "Tanzania (United Republic of)",
          "Uganda",
          "Mauritania",
          "Madagascar",
          "Benin",
          "Lesotho",
          "Côte d'Ivoire",
          "Senegal",
          "Togo",
          "Sudan",
          "Haiti",
          "Afghanistan",
          "Djibouti",
          "Malawi",
          "Ethiopia",
          "Gambia",
          "Guinea",
          "Liberia",
          "Yemen",
          "Guinea-Bissau",
          "Congo (Democratic Republic of the)",
          "Mozambique",
          "Sierra Leone",
          "Burkina Faso",
          "Eritrea",
          "Mali",
          "Burundi",
          "South Sudan",
          "Chad",
          "Central African Republic",
          "Niger",
          "Korea (Democratic People's Rep. of)",
          "Monaco",
          "Nauru",
          "San Marino",
          "Somalia",
          "Tuvalu"
         ],
         "text": [
          "Norway",
          "Switzerland",
          "Ireland",
          "Germany",
          "Hong Kong, China (SAR)",
          "Australia",
          "Iceland",
          "Sweden",
          "Singapore",
          "Netherlands",
          "Denmark",
          "Finland",
          "Canada",
          "New Zealand",
          "United Kingdom",
          "United States",
          "Belgium",
          "Liechtenstein",
          "Japan",
          "Austria",
          "Luxembourg",
          "Israel",
          "Korea (Republic of)",
          "Slovenia",
          "Spain",
          "Czechia",
          "France",
          "Malta",
          "Italy",
          "Estonia",
          "Cyprus",
          "Greece",
          "Poland",
          "Lithuania",
          "United Arab Emirates",
          "Andorra",
          "Saudi Arabia",
          "Slovakia",
          "Latvia",
          "Portugal",
          "Qatar",
          "Chile",
          "Brunei Darussalam",
          "Hungary",
          "Bahrain",
          "Croatia",
          "Oman",
          "Argentina",
          "Russian Federation",
          "Belarus",
          "Kazakhstan",
          "Bulgaria",
          "Montenegro",
          "Romania",
          "Palau",
          "Barbados",
          "Kuwait",
          "Uruguay",
          "Turkey",
          "Bahamas",
          "Malaysia",
          "Seychelles",
          "Serbia",
          "Trinidad and Tobago",
          "Iran (Islamic Republic of)",
          "Mauritius",
          "Panama",
          "Costa Rica",
          "Albania",
          "Georgia",
          "Sri Lanka",
          "Cuba",
          "Saint Kitts and Nevis",
          "Antigua and Barbuda",
          "Bosnia and Herzegovina",
          "Mexico",
          "Thailand",
          "Grenada",
          "Brazil",
          "Colombia",
          "Armenia",
          "Algeria",
          "North Macedonia",
          "Peru",
          "China",
          "Ecuador",
          "Azerbaijan",
          "Ukraine",
          "Dominican Republic",
          "Saint Lucia",
          "Tunisia",
          "Mongolia",
          "Lebanon",
          "Botswana",
          "Saint Vincent and the Grenadines",
          "Jamaica",
          "Venezuela (Bolivarian Republic of)",
          "Dominica",
          "Fiji",
          "Paraguay",
          "Suriname",
          "Jordan",
          "Belize",
          "Maldives",
          "Tonga",
          "Philippines",
          "Moldova (Republic of)",
          "Turkmenistan",
          "Uzbekistan",
          "Libya",
          "Indonesia",
          "Samoa",
          "South Africa",
          "Bolivia (Plurinational State of)",
          "Gabon",
          "Egypt",
          "Marshall Islands",
          "Viet Nam",
          "Palestine, State of",
          "Iraq",
          "Morocco",
          "Kyrgyzstan",
          "Guyana",
          "El Salvador",
          "Tajikistan",
          "Cabo Verde",
          "Guatemala",
          "Nicaragua",
          "India",
          "Namibia",
          "Timor-Leste",
          "Honduras",
          "Kiribati",
          "Bhutan",
          "Bangladesh",
          "Micronesia (Federated States of)",
          "Sao Tome and Principe",
          "Congo",
          "Eswatini (Kingdom of)",
          "Lao People's Democratic Republic",
          "Vanuatu",
          "Ghana",
          "Zambia",
          "Equatorial Guinea",
          "Myanmar",
          "Cambodia",
          "Kenya",
          "Nepal",
          "Angola",
          "Cameroon",
          "Zimbabwe",
          "Pakistan",
          "Solomon Islands",
          "Syrian Arab Republic",
          "Papua New Guinea",
          "Comoros",
          "Rwanda",
          "Nigeria",
          "Tanzania (United Republic of)",
          "Uganda",
          "Mauritania",
          "Madagascar",
          "Benin",
          "Lesotho",
          "Côte d'Ivoire",
          "Senegal",
          "Togo",
          "Sudan",
          "Haiti",
          "Afghanistan",
          "Djibouti",
          "Malawi",
          "Ethiopia",
          "Gambia",
          "Guinea",
          "Liberia",
          "Yemen",
          "Guinea-Bissau",
          "Congo (Democratic Republic of the)",
          "Mozambique",
          "Sierra Leone",
          "Burkina Faso",
          "Eritrea",
          "Mali",
          "Burundi",
          "South Sudan",
          "Chad",
          "Central African Republic",
          "Niger",
          "Korea (Democratic People's Rep. of)",
          "Monaco",
          "Nauru",
          "San Marino",
          "Somalia",
          "Tuvalu"
         ],
         "type": "choropleth",
         "z": [
          0.9540000000000001,
          0.946,
          0.9420000000000001,
          0.9390000000000001,
          0.9390000000000001,
          0.938,
          0.938,
          0.937,
          0.935,
          0.9329999999999999,
          0.93,
          0.925,
          0.922,
          0.9209999999999999,
          0.92,
          0.92,
          0.919,
          0.917,
          0.915,
          0.914,
          0.909,
          0.9059999999999999,
          0.9059999999999999,
          0.902,
          0.893,
          0.8909999999999999,
          0.8909999999999999,
          0.885,
          0.883,
          0.882,
          0.873,
          0.872,
          0.872,
          0.8690000000000001,
          0.866,
          0.857,
          0.857,
          0.857,
          0.8540000000000001,
          0.85,
          0.848,
          0.847,
          0.845,
          0.845,
          0.838,
          0.8370000000000001,
          0.8340000000000001,
          0.83,
          0.8240000000000001,
          0.8170000000000001,
          0.8170000000000001,
          0.816,
          0.816,
          0.816,
          0.8140000000000001,
          0.813,
          0.8079999999999999,
          0.8079999999999999,
          0.8059999999999999,
          0.805,
          0.804,
          0.8009999999999999,
          0.799,
          0.799,
          0.797,
          0.7959999999999999,
          0.795,
          0.794,
          0.7909999999999999,
          0.7859999999999999,
          0.78,
          0.778,
          0.777,
          0.7759999999999999,
          0.769,
          0.767,
          0.765,
          0.763,
          0.7609999999999999,
          0.7609999999999999,
          0.76,
          0.759,
          0.759,
          0.759,
          0.758,
          0.758,
          0.754,
          0.75,
          0.745,
          0.745,
          0.7390000000000001,
          0.735,
          0.73,
          0.728,
          0.728,
          0.726,
          0.726,
          0.7240000000000001,
          0.7240000000000001,
          0.7240000000000001,
          0.7240000000000001,
          0.723,
          0.72,
          0.7190000000000001,
          0.7170000000000001,
          0.7120000000000001,
          0.711,
          0.71,
          0.71,
          0.708,
          0.7070000000000001,
          0.7070000000000001,
          0.705,
          0.703,
          0.7020000000000001,
          0.7,
          0.698,
          0.693,
          0.69,
          0.6890000000000001,
          0.6759999999999999,
          0.674,
          0.67,
          0.667,
          0.6559999999999999,
          0.6509999999999999,
          0.6509999999999999,
          0.6509999999999999,
          0.647,
          0.645,
          0.626,
          0.623,
          0.623,
          0.617,
          0.614,
          0.614,
          0.609,
          0.608,
          0.608,
          0.604,
          0.597,
          0.596,
          0.591,
          0.588,
          0.584,
          0.581,
          0.579,
          0.579,
          0.574,
          0.563,
          0.563,
          0.56,
          0.557,
          0.5489999999999999,
          0.5429999999999999,
          0.5379999999999999,
          0.536,
          0.534,
          0.528,
          0.528,
          0.527,
          0.521,
          0.52,
          0.518,
          0.516,
          0.514,
          0.513,
          0.507,
          0.503,
          0.496,
          0.495,
          0.485,
          0.47,
          0.466,
          0.466,
          0.465,
          0.46299999999999997,
          0.461,
          0.45899999999999996,
          0.446,
          0.43799999999999994,
          0.434,
          0.434,
          0.42700000000000005,
          0.423,
          0.413,
          0.401,
          0.381,
          0.377,
          null,
          null,
          null,
          null,
          null,
          null
         ]
        }
       ],
       "layout": {
        "geo": {
         "scope": "world"
        },
        "template": {
         "data": {
          "bar": [
           {
            "error_x": {
             "color": "#2a3f5f"
            },
            "error_y": {
             "color": "#2a3f5f"
            },
            "marker": {
             "line": {
              "color": "#E5ECF6",
              "width": 0.5
             }
            },
            "type": "bar"
           }
          ],
          "barpolar": [
           {
            "marker": {
             "line": {
              "color": "#E5ECF6",
              "width": 0.5
             }
            },
            "type": "barpolar"
           }
          ],
          "carpet": [
           {
            "aaxis": {
             "endlinecolor": "#2a3f5f",
             "gridcolor": "white",
             "linecolor": "white",
             "minorgridcolor": "white",
             "startlinecolor": "#2a3f5f"
            },
            "baxis": {
             "endlinecolor": "#2a3f5f",
             "gridcolor": "white",
             "linecolor": "white",
             "minorgridcolor": "white",
             "startlinecolor": "#2a3f5f"
            },
            "type": "carpet"
           }
          ],
          "choropleth": [
           {
            "colorbar": {
             "outlinewidth": 0,
             "ticks": ""
            },
            "type": "choropleth"
           }
          ],
          "contour": [
           {
            "colorbar": {
             "outlinewidth": 0,
             "ticks": ""
            },
            "colorscale": [
             [
              0,
              "#0d0887"
             ],
             [
              0.1111111111111111,
              "#46039f"
             ],
             [
              0.2222222222222222,
              "#7201a8"
             ],
             [
              0.3333333333333333,
              "#9c179e"
             ],
             [
              0.4444444444444444,
              "#bd3786"
             ],
             [
              0.5555555555555556,
              "#d8576b"
             ],
             [
              0.6666666666666666,
              "#ed7953"
             ],
             [
              0.7777777777777778,
              "#fb9f3a"
             ],
             [
              0.8888888888888888,
              "#fdca26"
             ],
             [
              1,
              "#f0f921"
             ]
            ],
            "type": "contour"
           }
          ],
          "contourcarpet": [
           {
            "colorbar": {
             "outlinewidth": 0,
             "ticks": ""
            },
            "type": "contourcarpet"
           }
          ],
          "heatmap": [
           {
            "colorbar": {
             "outlinewidth": 0,
             "ticks": ""
            },
            "colorscale": [
             [
              0,
              "#0d0887"
             ],
             [
              0.1111111111111111,
              "#46039f"
             ],
             [
              0.2222222222222222,
              "#7201a8"
             ],
             [
              0.3333333333333333,
              "#9c179e"
             ],
             [
              0.4444444444444444,
              "#bd3786"
             ],
             [
              0.5555555555555556,
              "#d8576b"
             ],
             [
              0.6666666666666666,
              "#ed7953"
             ],
             [
              0.7777777777777778,
              "#fb9f3a"
             ],
             [
              0.8888888888888888,
              "#fdca26"
             ],
             [
              1,
              "#f0f921"
             ]
            ],
            "type": "heatmap"
           }
          ],
          "heatmapgl": [
           {
            "colorbar": {
             "outlinewidth": 0,
             "ticks": ""
            },
            "colorscale": [
             [
              0,
              "#0d0887"
             ],
             [
              0.1111111111111111,
              "#46039f"
             ],
             [
              0.2222222222222222,
              "#7201a8"
             ],
             [
              0.3333333333333333,
              "#9c179e"
             ],
             [
              0.4444444444444444,
              "#bd3786"
             ],
             [
              0.5555555555555556,
              "#d8576b"
             ],
             [
              0.6666666666666666,
              "#ed7953"
             ],
             [
              0.7777777777777778,
              "#fb9f3a"
             ],
             [
              0.8888888888888888,
              "#fdca26"
             ],
             [
              1,
              "#f0f921"
             ]
            ],
            "type": "heatmapgl"
           }
          ],
          "histogram": [
           {
            "marker": {
             "colorbar": {
              "outlinewidth": 0,
              "ticks": ""
             }
            },
            "type": "histogram"
           }
          ],
          "histogram2d": [
           {
            "colorbar": {
             "outlinewidth": 0,
             "ticks": ""
            },
            "colorscale": [
             [
              0,
              "#0d0887"
             ],
             [
              0.1111111111111111,
              "#46039f"
             ],
             [
              0.2222222222222222,
              "#7201a8"
             ],
             [
              0.3333333333333333,
              "#9c179e"
             ],
             [
              0.4444444444444444,
              "#bd3786"
             ],
             [
              0.5555555555555556,
              "#d8576b"
             ],
             [
              0.6666666666666666,
              "#ed7953"
             ],
             [
              0.7777777777777778,
              "#fb9f3a"
             ],
             [
              0.8888888888888888,
              "#fdca26"
             ],
             [
              1,
              "#f0f921"
             ]
            ],
            "type": "histogram2d"
           }
          ],
          "histogram2dcontour": [
           {
            "colorbar": {
             "outlinewidth": 0,
             "ticks": ""
            },
            "colorscale": [
             [
              0,
              "#0d0887"
             ],
             [
              0.1111111111111111,
              "#46039f"
             ],
             [
              0.2222222222222222,
              "#7201a8"
             ],
             [
              0.3333333333333333,
              "#9c179e"
             ],
             [
              0.4444444444444444,
              "#bd3786"
             ],
             [
              0.5555555555555556,
              "#d8576b"
             ],
             [
              0.6666666666666666,
              "#ed7953"
             ],
             [
              0.7777777777777778,
              "#fb9f3a"
             ],
             [
              0.8888888888888888,
              "#fdca26"
             ],
             [
              1,
              "#f0f921"
             ]
            ],
            "type": "histogram2dcontour"
           }
          ],
          "mesh3d": [
           {
            "colorbar": {
             "outlinewidth": 0,
             "ticks": ""
            },
            "type": "mesh3d"
           }
          ],
          "parcoords": [
           {
            "line": {
             "colorbar": {
              "outlinewidth": 0,
              "ticks": ""
             }
            },
            "type": "parcoords"
           }
          ],
          "pie": [
           {
            "automargin": true,
            "type": "pie"
           }
          ],
          "scatter": [
           {
            "marker": {
             "colorbar": {
              "outlinewidth": 0,
              "ticks": ""
             }
            },
            "type": "scatter"
           }
          ],
          "scatter3d": [
           {
            "line": {
             "colorbar": {
              "outlinewidth": 0,
              "ticks": ""
             }
            },
            "marker": {
             "colorbar": {
              "outlinewidth": 0,
              "ticks": ""
             }
            },
            "type": "scatter3d"
           }
          ],
          "scattercarpet": [
           {
            "marker": {
             "colorbar": {
              "outlinewidth": 0,
              "ticks": ""
             }
            },
            "type": "scattercarpet"
           }
          ],
          "scattergeo": [
           {
            "marker": {
             "colorbar": {
              "outlinewidth": 0,
              "ticks": ""
             }
            },
            "type": "scattergeo"
           }
          ],
          "scattergl": [
           {
            "marker": {
             "colorbar": {
              "outlinewidth": 0,
              "ticks": ""
             }
            },
            "type": "scattergl"
           }
          ],
          "scattermapbox": [
           {
            "marker": {
             "colorbar": {
              "outlinewidth": 0,
              "ticks": ""
             }
            },
            "type": "scattermapbox"
           }
          ],
          "scatterpolar": [
           {
            "marker": {
             "colorbar": {
              "outlinewidth": 0,
              "ticks": ""
             }
            },
            "type": "scatterpolar"
           }
          ],
          "scatterpolargl": [
           {
            "marker": {
             "colorbar": {
              "outlinewidth": 0,
              "ticks": ""
             }
            },
            "type": "scatterpolargl"
           }
          ],
          "scatterternary": [
           {
            "marker": {
             "colorbar": {
              "outlinewidth": 0,
              "ticks": ""
             }
            },
            "type": "scatterternary"
           }
          ],
          "surface": [
           {
            "colorbar": {
             "outlinewidth": 0,
             "ticks": ""
            },
            "colorscale": [
             [
              0,
              "#0d0887"
             ],
             [
              0.1111111111111111,
              "#46039f"
             ],
             [
              0.2222222222222222,
              "#7201a8"
             ],
             [
              0.3333333333333333,
              "#9c179e"
             ],
             [
              0.4444444444444444,
              "#bd3786"
             ],
             [
              0.5555555555555556,
              "#d8576b"
             ],
             [
              0.6666666666666666,
              "#ed7953"
             ],
             [
              0.7777777777777778,
              "#fb9f3a"
             ],
             [
              0.8888888888888888,
              "#fdca26"
             ],
             [
              1,
              "#f0f921"
             ]
            ],
            "type": "surface"
           }
          ],
          "table": [
           {
            "cells": {
             "fill": {
              "color": "#EBF0F8"
             },
             "line": {
              "color": "white"
             }
            },
            "header": {
             "fill": {
              "color": "#C8D4E3"
             },
             "line": {
              "color": "white"
             }
            },
            "type": "table"
           }
          ]
         },
         "layout": {
          "annotationdefaults": {
           "arrowcolor": "#2a3f5f",
           "arrowhead": 0,
           "arrowwidth": 1
          },
          "coloraxis": {
           "colorbar": {
            "outlinewidth": 0,
            "ticks": ""
           }
          },
          "colorscale": {
           "diverging": [
            [
             0,
             "#8e0152"
            ],
            [
             0.1,
             "#c51b7d"
            ],
            [
             0.2,
             "#de77ae"
            ],
            [
             0.3,
             "#f1b6da"
            ],
            [
             0.4,
             "#fde0ef"
            ],
            [
             0.5,
             "#f7f7f7"
            ],
            [
             0.6,
             "#e6f5d0"
            ],
            [
             0.7,
             "#b8e186"
            ],
            [
             0.8,
             "#7fbc41"
            ],
            [
             0.9,
             "#4d9221"
            ],
            [
             1,
             "#276419"
            ]
           ],
           "sequential": [
            [
             0,
             "#0d0887"
            ],
            [
             0.1111111111111111,
             "#46039f"
            ],
            [
             0.2222222222222222,
             "#7201a8"
            ],
            [
             0.3333333333333333,
             "#9c179e"
            ],
            [
             0.4444444444444444,
             "#bd3786"
            ],
            [
             0.5555555555555556,
             "#d8576b"
            ],
            [
             0.6666666666666666,
             "#ed7953"
            ],
            [
             0.7777777777777778,
             "#fb9f3a"
            ],
            [
             0.8888888888888888,
             "#fdca26"
            ],
            [
             1,
             "#f0f921"
            ]
           ],
           "sequentialminus": [
            [
             0,
             "#0d0887"
            ],
            [
             0.1111111111111111,
             "#46039f"
            ],
            [
             0.2222222222222222,
             "#7201a8"
            ],
            [
             0.3333333333333333,
             "#9c179e"
            ],
            [
             0.4444444444444444,
             "#bd3786"
            ],
            [
             0.5555555555555556,
             "#d8576b"
            ],
            [
             0.6666666666666666,
             "#ed7953"
            ],
            [
             0.7777777777777778,
             "#fb9f3a"
            ],
            [
             0.8888888888888888,
             "#fdca26"
            ],
            [
             1,
             "#f0f921"
            ]
           ]
          },
          "colorway": [
           "#636efa",
           "#EF553B",
           "#00cc96",
           "#ab63fa",
           "#FFA15A",
           "#19d3f3",
           "#FF6692",
           "#B6E880",
           "#FF97FF",
           "#FECB52"
          ],
          "font": {
           "color": "#2a3f5f"
          },
          "geo": {
           "bgcolor": "white",
           "lakecolor": "white",
           "landcolor": "#E5ECF6",
           "showlakes": true,
           "showland": true,
           "subunitcolor": "white"
          },
          "hoverlabel": {
           "align": "left"
          },
          "hovermode": "closest",
          "mapbox": {
           "style": "light"
          },
          "paper_bgcolor": "white",
          "plot_bgcolor": "#E5ECF6",
          "polar": {
           "angularaxis": {
            "gridcolor": "white",
            "linecolor": "white",
            "ticks": ""
           },
           "bgcolor": "#E5ECF6",
           "radialaxis": {
            "gridcolor": "white",
            "linecolor": "white",
            "ticks": ""
           }
          },
          "scene": {
           "xaxis": {
            "backgroundcolor": "#E5ECF6",
            "gridcolor": "white",
            "gridwidth": 2,
            "linecolor": "white",
            "showbackground": true,
            "ticks": "",
            "zerolinecolor": "white"
           },
           "yaxis": {
            "backgroundcolor": "#E5ECF6",
            "gridcolor": "white",
            "gridwidth": 2,
            "linecolor": "white",
            "showbackground": true,
            "ticks": "",
            "zerolinecolor": "white"
           },
           "zaxis": {
            "backgroundcolor": "#E5ECF6",
            "gridcolor": "white",
            "gridwidth": 2,
            "linecolor": "white",
            "showbackground": true,
            "ticks": "",
            "zerolinecolor": "white"
           }
          },
          "shapedefaults": {
           "line": {
            "color": "#2a3f5f"
           }
          },
          "ternary": {
           "aaxis": {
            "gridcolor": "white",
            "linecolor": "white",
            "ticks": ""
           },
           "baxis": {
            "gridcolor": "white",
            "linecolor": "white",
            "ticks": ""
           },
           "bgcolor": "#E5ECF6",
           "caxis": {
            "gridcolor": "white",
            "linecolor": "white",
            "ticks": ""
           }
          },
          "title": {
           "x": 0.05
          },
          "xaxis": {
           "automargin": true,
           "gridcolor": "white",
           "linecolor": "white",
           "ticks": "",
           "title": {
            "standoff": 15
           },
           "zerolinecolor": "white",
           "zerolinewidth": 2
          },
          "yaxis": {
           "automargin": true,
           "gridcolor": "white",
           "linecolor": "white",
           "ticks": "",
           "title": {
            "standoff": 15
           },
           "zerolinecolor": "white",
           "zerolinewidth": 2
          }
         }
        },
        "title": {
         "text": "Human Development Index"
        }
       }
      },
      "text/html": [
       "<div>                            <div id=\"14f50cc1-75d0-4b9e-877a-9ff048593ea9\" class=\"plotly-graph-div\" style=\"height:525px; width:100%;\"></div>            <script type=\"text/javascript\">                require([\"plotly\"], function(Plotly) {                    window.PLOTLYENV=window.PLOTLYENV || {};                                    if (document.getElementById(\"14f50cc1-75d0-4b9e-877a-9ff048593ea9\")) {                    Plotly.newPlot(                        \"14f50cc1-75d0-4b9e-877a-9ff048593ea9\",                        [{\"colorbar\": {\"len\": 200, \"lenmode\": \"pixels\", \"title\": {\"text\": \"HDI\"}}, \"colorscale\": [[0.0, \"rgb(12,51,131)\"], [0.25, \"rgb(10,136,186)\"], [0.5, \"rgb(242,211,56)\"], [0.75, \"rgb(242,143,56)\"], [1.0, \"rgb(217,30,30)\"]], \"locationmode\": \"country names\", \"locations\": [\"Norway\", \"Switzerland\", \"Ireland\", \"Germany\", \"Hong Kong, China (SAR)\", \"Australia\", \"Iceland\", \"Sweden\", \"Singapore\", \"Netherlands\", \"Denmark\", \"Finland\", \"Canada\", \"New Zealand\", \"United Kingdom\", \"United States\", \"Belgium\", \"Liechtenstein\", \"Japan\", \"Austria\", \"Luxembourg\", \"Israel\", \"Korea (Republic of)\", \"Slovenia\", \"Spain\", \"Czechia\", \"France\", \"Malta\", \"Italy\", \"Estonia\", \"Cyprus\", \"Greece\", \"Poland\", \"Lithuania\", \"United Arab Emirates\", \"Andorra\", \"Saudi Arabia\", \"Slovakia\", \"Latvia\", \"Portugal\", \"Qatar\", \"Chile\", \"Brunei Darussalam\", \"Hungary\", \"Bahrain\", \"Croatia\", \"Oman\", \"Argentina\", \"Russian Federation\", \"Belarus\", \"Kazakhstan\", \"Bulgaria\", \"Montenegro\", \"Romania\", \"Palau\", \"Barbados\", \"Kuwait\", \"Uruguay\", \"Turkey\", \"Bahamas\", \"Malaysia\", \"Seychelles\", \"Serbia\", \"Trinidad and Tobago\", \"Iran (Islamic Republic of)\", \"Mauritius\", \"Panama\", \"Costa Rica\", \"Albania\", \"Georgia\", \"Sri Lanka\", \"Cuba\", \"Saint Kitts and Nevis\", \"Antigua and Barbuda\", \"Bosnia and Herzegovina\", \"Mexico\", \"Thailand\", \"Grenada\", \"Brazil\", \"Colombia\", \"Armenia\", \"Algeria\", \"North Macedonia\", \"Peru\", \"China\", \"Ecuador\", \"Azerbaijan\", \"Ukraine\", \"Dominican Republic\", \"Saint Lucia\", \"Tunisia\", \"Mongolia\", \"Lebanon\", \"Botswana\", \"Saint Vincent and the Grenadines\", \"Jamaica\", \"Venezuela (Bolivarian Republic of)\", \"Dominica\", \"Fiji\", \"Paraguay\", \"Suriname\", \"Jordan\", \"Belize\", \"Maldives\", \"Tonga\", \"Philippines\", \"Moldova (Republic of)\", \"Turkmenistan\", \"Uzbekistan\", \"Libya\", \"Indonesia\", \"Samoa\", \"South Africa\", \"Bolivia (Plurinational State of)\", \"Gabon\", \"Egypt\", \"Marshall Islands\", \"Viet Nam\", \"Palestine, State of\", \"Iraq\", \"Morocco\", \"Kyrgyzstan\", \"Guyana\", \"El Salvador\", \"Tajikistan\", \"Cabo Verde\", \"Guatemala\", \"Nicaragua\", \"India\", \"Namibia\", \"Timor-Leste\", \"Honduras\", \"Kiribati\", \"Bhutan\", \"Bangladesh\", \"Micronesia (Federated States of)\", \"Sao Tome and Principe\", \"Congo\", \"Eswatini (Kingdom of)\", \"Lao People's Democratic Republic\", \"Vanuatu\", \"Ghana\", \"Zambia\", \"Equatorial Guinea\", \"Myanmar\", \"Cambodia\", \"Kenya\", \"Nepal\", \"Angola\", \"Cameroon\", \"Zimbabwe\", \"Pakistan\", \"Solomon Islands\", \"Syrian Arab Republic\", \"Papua New Guinea\", \"Comoros\", \"Rwanda\", \"Nigeria\", \"Tanzania (United Republic of)\", \"Uganda\", \"Mauritania\", \"Madagascar\", \"Benin\", \"Lesotho\", \"C\\u00f4te d'Ivoire\", \"Senegal\", \"Togo\", \"Sudan\", \"Haiti\", \"Afghanistan\", \"Djibouti\", \"Malawi\", \"Ethiopia\", \"Gambia\", \"Guinea\", \"Liberia\", \"Yemen\", \"Guinea-Bissau\", \"Congo (Democratic Republic of the)\", \"Mozambique\", \"Sierra Leone\", \"Burkina Faso\", \"Eritrea\", \"Mali\", \"Burundi\", \"South Sudan\", \"Chad\", \"Central African Republic\", \"Niger\", \"Korea (Democratic People's Rep. of)\", \"Monaco\", \"Nauru\", \"San Marino\", \"Somalia\", \"Tuvalu\"], \"text\": [\"Norway\", \"Switzerland\", \"Ireland\", \"Germany\", \"Hong Kong, China (SAR)\", \"Australia\", \"Iceland\", \"Sweden\", \"Singapore\", \"Netherlands\", \"Denmark\", \"Finland\", \"Canada\", \"New Zealand\", \"United Kingdom\", \"United States\", \"Belgium\", \"Liechtenstein\", \"Japan\", \"Austria\", \"Luxembourg\", \"Israel\", \"Korea (Republic of)\", \"Slovenia\", \"Spain\", \"Czechia\", \"France\", \"Malta\", \"Italy\", \"Estonia\", \"Cyprus\", \"Greece\", \"Poland\", \"Lithuania\", \"United Arab Emirates\", \"Andorra\", \"Saudi Arabia\", \"Slovakia\", \"Latvia\", \"Portugal\", \"Qatar\", \"Chile\", \"Brunei Darussalam\", \"Hungary\", \"Bahrain\", \"Croatia\", \"Oman\", \"Argentina\", \"Russian Federation\", \"Belarus\", \"Kazakhstan\", \"Bulgaria\", \"Montenegro\", \"Romania\", \"Palau\", \"Barbados\", \"Kuwait\", \"Uruguay\", \"Turkey\", \"Bahamas\", \"Malaysia\", \"Seychelles\", \"Serbia\", \"Trinidad and Tobago\", \"Iran (Islamic Republic of)\", \"Mauritius\", \"Panama\", \"Costa Rica\", \"Albania\", \"Georgia\", \"Sri Lanka\", \"Cuba\", \"Saint Kitts and Nevis\", \"Antigua and Barbuda\", \"Bosnia and Herzegovina\", \"Mexico\", \"Thailand\", \"Grenada\", \"Brazil\", \"Colombia\", \"Armenia\", \"Algeria\", \"North Macedonia\", \"Peru\", \"China\", \"Ecuador\", \"Azerbaijan\", \"Ukraine\", \"Dominican Republic\", \"Saint Lucia\", \"Tunisia\", \"Mongolia\", \"Lebanon\", \"Botswana\", \"Saint Vincent and the Grenadines\", \"Jamaica\", \"Venezuela (Bolivarian Republic of)\", \"Dominica\", \"Fiji\", \"Paraguay\", \"Suriname\", \"Jordan\", \"Belize\", \"Maldives\", \"Tonga\", \"Philippines\", \"Moldova (Republic of)\", \"Turkmenistan\", \"Uzbekistan\", \"Libya\", \"Indonesia\", \"Samoa\", \"South Africa\", \"Bolivia (Plurinational State of)\", \"Gabon\", \"Egypt\", \"Marshall Islands\", \"Viet Nam\", \"Palestine, State of\", \"Iraq\", \"Morocco\", \"Kyrgyzstan\", \"Guyana\", \"El Salvador\", \"Tajikistan\", \"Cabo Verde\", \"Guatemala\", \"Nicaragua\", \"India\", \"Namibia\", \"Timor-Leste\", \"Honduras\", \"Kiribati\", \"Bhutan\", \"Bangladesh\", \"Micronesia (Federated States of)\", \"Sao Tome and Principe\", \"Congo\", \"Eswatini (Kingdom of)\", \"Lao People's Democratic Republic\", \"Vanuatu\", \"Ghana\", \"Zambia\", \"Equatorial Guinea\", \"Myanmar\", \"Cambodia\", \"Kenya\", \"Nepal\", \"Angola\", \"Cameroon\", \"Zimbabwe\", \"Pakistan\", \"Solomon Islands\", \"Syrian Arab Republic\", \"Papua New Guinea\", \"Comoros\", \"Rwanda\", \"Nigeria\", \"Tanzania (United Republic of)\", \"Uganda\", \"Mauritania\", \"Madagascar\", \"Benin\", \"Lesotho\", \"C\\u00f4te d'Ivoire\", \"Senegal\", \"Togo\", \"Sudan\", \"Haiti\", \"Afghanistan\", \"Djibouti\", \"Malawi\", \"Ethiopia\", \"Gambia\", \"Guinea\", \"Liberia\", \"Yemen\", \"Guinea-Bissau\", \"Congo (Democratic Republic of the)\", \"Mozambique\", \"Sierra Leone\", \"Burkina Faso\", \"Eritrea\", \"Mali\", \"Burundi\", \"South Sudan\", \"Chad\", \"Central African Republic\", \"Niger\", \"Korea (Democratic People's Rep. of)\", \"Monaco\", \"Nauru\", \"San Marino\", \"Somalia\", \"Tuvalu\"], \"type\": \"choropleth\", \"z\": [0.9540000000000001, 0.946, 0.9420000000000001, 0.9390000000000001, 0.9390000000000001, 0.938, 0.938, 0.937, 0.935, 0.9329999999999999, 0.93, 0.925, 0.922, 0.9209999999999999, 0.92, 0.92, 0.919, 0.917, 0.915, 0.914, 0.909, 0.9059999999999999, 0.9059999999999999, 0.902, 0.893, 0.8909999999999999, 0.8909999999999999, 0.885, 0.883, 0.882, 0.873, 0.872, 0.872, 0.8690000000000001, 0.866, 0.857, 0.857, 0.857, 0.8540000000000001, 0.85, 0.848, 0.847, 0.845, 0.845, 0.838, 0.8370000000000001, 0.8340000000000001, 0.83, 0.8240000000000001, 0.8170000000000001, 0.8170000000000001, 0.816, 0.816, 0.816, 0.8140000000000001, 0.813, 0.8079999999999999, 0.8079999999999999, 0.8059999999999999, 0.805, 0.804, 0.8009999999999999, 0.799, 0.799, 0.797, 0.7959999999999999, 0.795, 0.794, 0.7909999999999999, 0.7859999999999999, 0.78, 0.778, 0.777, 0.7759999999999999, 0.769, 0.767, 0.765, 0.763, 0.7609999999999999, 0.7609999999999999, 0.76, 0.759, 0.759, 0.759, 0.758, 0.758, 0.754, 0.75, 0.745, 0.745, 0.7390000000000001, 0.735, 0.73, 0.728, 0.728, 0.726, 0.726, 0.7240000000000001, 0.7240000000000001, 0.7240000000000001, 0.7240000000000001, 0.723, 0.72, 0.7190000000000001, 0.7170000000000001, 0.7120000000000001, 0.711, 0.71, 0.71, 0.708, 0.7070000000000001, 0.7070000000000001, 0.705, 0.703, 0.7020000000000001, 0.7, 0.698, 0.693, 0.69, 0.6890000000000001, 0.6759999999999999, 0.674, 0.67, 0.667, 0.6559999999999999, 0.6509999999999999, 0.6509999999999999, 0.6509999999999999, 0.647, 0.645, 0.626, 0.623, 0.623, 0.617, 0.614, 0.614, 0.609, 0.608, 0.608, 0.604, 0.597, 0.596, 0.591, 0.588, 0.584, 0.581, 0.579, 0.579, 0.574, 0.563, 0.563, 0.56, 0.557, 0.5489999999999999, 0.5429999999999999, 0.5379999999999999, 0.536, 0.534, 0.528, 0.528, 0.527, 0.521, 0.52, 0.518, 0.516, 0.514, 0.513, 0.507, 0.503, 0.496, 0.495, 0.485, 0.47, 0.466, 0.466, 0.465, 0.46299999999999997, 0.461, 0.45899999999999996, 0.446, 0.43799999999999994, 0.434, 0.434, 0.42700000000000005, 0.423, 0.413, 0.401, 0.381, 0.377, null, null, null, null, null, null]}],                        {\"geo\": {\"scope\": \"world\"}, \"template\": {\"data\": {\"bar\": [{\"error_x\": {\"color\": \"#2a3f5f\"}, \"error_y\": {\"color\": \"#2a3f5f\"}, \"marker\": {\"line\": {\"color\": \"#E5ECF6\", \"width\": 0.5}}, \"type\": \"bar\"}], \"barpolar\": [{\"marker\": {\"line\": {\"color\": \"#E5ECF6\", \"width\": 0.5}}, \"type\": \"barpolar\"}], \"carpet\": [{\"aaxis\": {\"endlinecolor\": \"#2a3f5f\", \"gridcolor\": \"white\", \"linecolor\": \"white\", \"minorgridcolor\": \"white\", \"startlinecolor\": \"#2a3f5f\"}, \"baxis\": {\"endlinecolor\": \"#2a3f5f\", \"gridcolor\": \"white\", \"linecolor\": \"white\", \"minorgridcolor\": \"white\", \"startlinecolor\": \"#2a3f5f\"}, \"type\": \"carpet\"}], \"choropleth\": [{\"colorbar\": {\"outlinewidth\": 0, \"ticks\": \"\"}, \"type\": \"choropleth\"}], \"contour\": [{\"colorbar\": {\"outlinewidth\": 0, \"ticks\": \"\"}, \"colorscale\": [[0.0, \"#0d0887\"], [0.1111111111111111, \"#46039f\"], [0.2222222222222222, \"#7201a8\"], [0.3333333333333333, \"#9c179e\"], [0.4444444444444444, \"#bd3786\"], [0.5555555555555556, \"#d8576b\"], [0.6666666666666666, \"#ed7953\"], [0.7777777777777778, \"#fb9f3a\"], [0.8888888888888888, \"#fdca26\"], [1.0, \"#f0f921\"]], \"type\": \"contour\"}], \"contourcarpet\": [{\"colorbar\": {\"outlinewidth\": 0, \"ticks\": \"\"}, \"type\": \"contourcarpet\"}], \"heatmap\": [{\"colorbar\": {\"outlinewidth\": 0, \"ticks\": \"\"}, \"colorscale\": [[0.0, \"#0d0887\"], [0.1111111111111111, \"#46039f\"], [0.2222222222222222, \"#7201a8\"], [0.3333333333333333, \"#9c179e\"], [0.4444444444444444, \"#bd3786\"], [0.5555555555555556, \"#d8576b\"], [0.6666666666666666, \"#ed7953\"], [0.7777777777777778, \"#fb9f3a\"], [0.8888888888888888, \"#fdca26\"], [1.0, \"#f0f921\"]], \"type\": \"heatmap\"}], \"heatmapgl\": [{\"colorbar\": {\"outlinewidth\": 0, \"ticks\": \"\"}, \"colorscale\": [[0.0, \"#0d0887\"], [0.1111111111111111, \"#46039f\"], [0.2222222222222222, \"#7201a8\"], [0.3333333333333333, \"#9c179e\"], [0.4444444444444444, \"#bd3786\"], [0.5555555555555556, \"#d8576b\"], [0.6666666666666666, \"#ed7953\"], [0.7777777777777778, \"#fb9f3a\"], [0.8888888888888888, \"#fdca26\"], [1.0, \"#f0f921\"]], \"type\": \"heatmapgl\"}], \"histogram\": [{\"marker\": {\"colorbar\": {\"outlinewidth\": 0, \"ticks\": \"\"}}, \"type\": \"histogram\"}], \"histogram2d\": [{\"colorbar\": {\"outlinewidth\": 0, \"ticks\": \"\"}, \"colorscale\": [[0.0, \"#0d0887\"], [0.1111111111111111, \"#46039f\"], [0.2222222222222222, \"#7201a8\"], [0.3333333333333333, \"#9c179e\"], [0.4444444444444444, \"#bd3786\"], [0.5555555555555556, \"#d8576b\"], [0.6666666666666666, \"#ed7953\"], [0.7777777777777778, \"#fb9f3a\"], [0.8888888888888888, \"#fdca26\"], [1.0, \"#f0f921\"]], \"type\": \"histogram2d\"}], \"histogram2dcontour\": [{\"colorbar\": {\"outlinewidth\": 0, \"ticks\": \"\"}, \"colorscale\": [[0.0, \"#0d0887\"], [0.1111111111111111, \"#46039f\"], [0.2222222222222222, \"#7201a8\"], [0.3333333333333333, \"#9c179e\"], [0.4444444444444444, \"#bd3786\"], [0.5555555555555556, \"#d8576b\"], [0.6666666666666666, \"#ed7953\"], [0.7777777777777778, \"#fb9f3a\"], [0.8888888888888888, \"#fdca26\"], [1.0, \"#f0f921\"]], \"type\": \"histogram2dcontour\"}], \"mesh3d\": [{\"colorbar\": {\"outlinewidth\": 0, \"ticks\": \"\"}, \"type\": \"mesh3d\"}], \"parcoords\": [{\"line\": {\"colorbar\": {\"outlinewidth\": 0, \"ticks\": \"\"}}, \"type\": \"parcoords\"}], \"pie\": [{\"automargin\": true, \"type\": \"pie\"}], \"scatter\": [{\"marker\": {\"colorbar\": {\"outlinewidth\": 0, \"ticks\": \"\"}}, \"type\": \"scatter\"}], \"scatter3d\": [{\"line\": {\"colorbar\": {\"outlinewidth\": 0, \"ticks\": \"\"}}, \"marker\": {\"colorbar\": {\"outlinewidth\": 0, \"ticks\": \"\"}}, \"type\": \"scatter3d\"}], \"scattercarpet\": [{\"marker\": {\"colorbar\": {\"outlinewidth\": 0, \"ticks\": \"\"}}, \"type\": \"scattercarpet\"}], \"scattergeo\": [{\"marker\": {\"colorbar\": {\"outlinewidth\": 0, \"ticks\": \"\"}}, \"type\": \"scattergeo\"}], \"scattergl\": [{\"marker\": {\"colorbar\": {\"outlinewidth\": 0, \"ticks\": \"\"}}, \"type\": \"scattergl\"}], \"scattermapbox\": [{\"marker\": {\"colorbar\": {\"outlinewidth\": 0, \"ticks\": \"\"}}, \"type\": \"scattermapbox\"}], \"scatterpolar\": [{\"marker\": {\"colorbar\": {\"outlinewidth\": 0, \"ticks\": \"\"}}, \"type\": \"scatterpolar\"}], \"scatterpolargl\": [{\"marker\": {\"colorbar\": {\"outlinewidth\": 0, \"ticks\": \"\"}}, \"type\": \"scatterpolargl\"}], \"scatterternary\": [{\"marker\": {\"colorbar\": {\"outlinewidth\": 0, \"ticks\": \"\"}}, \"type\": \"scatterternary\"}], \"surface\": [{\"colorbar\": {\"outlinewidth\": 0, \"ticks\": \"\"}, \"colorscale\": [[0.0, \"#0d0887\"], [0.1111111111111111, \"#46039f\"], [0.2222222222222222, \"#7201a8\"], [0.3333333333333333, \"#9c179e\"], [0.4444444444444444, \"#bd3786\"], [0.5555555555555556, \"#d8576b\"], [0.6666666666666666, \"#ed7953\"], [0.7777777777777778, \"#fb9f3a\"], [0.8888888888888888, \"#fdca26\"], [1.0, \"#f0f921\"]], \"type\": \"surface\"}], \"table\": [{\"cells\": {\"fill\": {\"color\": \"#EBF0F8\"}, \"line\": {\"color\": \"white\"}}, \"header\": {\"fill\": {\"color\": \"#C8D4E3\"}, \"line\": {\"color\": \"white\"}}, \"type\": \"table\"}]}, \"layout\": {\"annotationdefaults\": {\"arrowcolor\": \"#2a3f5f\", \"arrowhead\": 0, \"arrowwidth\": 1}, \"coloraxis\": {\"colorbar\": {\"outlinewidth\": 0, \"ticks\": \"\"}}, \"colorscale\": {\"diverging\": [[0, \"#8e0152\"], [0.1, \"#c51b7d\"], [0.2, \"#de77ae\"], [0.3, \"#f1b6da\"], [0.4, \"#fde0ef\"], [0.5, \"#f7f7f7\"], [0.6, \"#e6f5d0\"], [0.7, \"#b8e186\"], [0.8, \"#7fbc41\"], [0.9, \"#4d9221\"], [1, \"#276419\"]], \"sequential\": [[0.0, \"#0d0887\"], [0.1111111111111111, \"#46039f\"], [0.2222222222222222, \"#7201a8\"], [0.3333333333333333, \"#9c179e\"], [0.4444444444444444, \"#bd3786\"], [0.5555555555555556, \"#d8576b\"], [0.6666666666666666, \"#ed7953\"], [0.7777777777777778, \"#fb9f3a\"], [0.8888888888888888, \"#fdca26\"], [1.0, \"#f0f921\"]], \"sequentialminus\": [[0.0, \"#0d0887\"], [0.1111111111111111, \"#46039f\"], [0.2222222222222222, \"#7201a8\"], [0.3333333333333333, \"#9c179e\"], [0.4444444444444444, \"#bd3786\"], [0.5555555555555556, \"#d8576b\"], [0.6666666666666666, \"#ed7953\"], [0.7777777777777778, \"#fb9f3a\"], [0.8888888888888888, \"#fdca26\"], [1.0, \"#f0f921\"]]}, \"colorway\": [\"#636efa\", \"#EF553B\", \"#00cc96\", \"#ab63fa\", \"#FFA15A\", \"#19d3f3\", \"#FF6692\", \"#B6E880\", \"#FF97FF\", \"#FECB52\"], \"font\": {\"color\": \"#2a3f5f\"}, \"geo\": {\"bgcolor\": \"white\", \"lakecolor\": \"white\", \"landcolor\": \"#E5ECF6\", \"showlakes\": true, \"showland\": true, \"subunitcolor\": \"white\"}, \"hoverlabel\": {\"align\": \"left\"}, \"hovermode\": \"closest\", \"mapbox\": {\"style\": \"light\"}, \"paper_bgcolor\": \"white\", \"plot_bgcolor\": \"#E5ECF6\", \"polar\": {\"angularaxis\": {\"gridcolor\": \"white\", \"linecolor\": \"white\", \"ticks\": \"\"}, \"bgcolor\": \"#E5ECF6\", \"radialaxis\": {\"gridcolor\": \"white\", \"linecolor\": \"white\", \"ticks\": \"\"}}, \"scene\": {\"xaxis\": {\"backgroundcolor\": \"#E5ECF6\", \"gridcolor\": \"white\", \"gridwidth\": 2, \"linecolor\": \"white\", \"showbackground\": true, \"ticks\": \"\", \"zerolinecolor\": \"white\"}, \"yaxis\": {\"backgroundcolor\": \"#E5ECF6\", \"gridcolor\": \"white\", \"gridwidth\": 2, \"linecolor\": \"white\", \"showbackground\": true, \"ticks\": \"\", \"zerolinecolor\": \"white\"}, \"zaxis\": {\"backgroundcolor\": \"#E5ECF6\", \"gridcolor\": \"white\", \"gridwidth\": 2, \"linecolor\": \"white\", \"showbackground\": true, \"ticks\": \"\", \"zerolinecolor\": \"white\"}}, \"shapedefaults\": {\"line\": {\"color\": \"#2a3f5f\"}}, \"ternary\": {\"aaxis\": {\"gridcolor\": \"white\", \"linecolor\": \"white\", \"ticks\": \"\"}, \"baxis\": {\"gridcolor\": \"white\", \"linecolor\": \"white\", \"ticks\": \"\"}, \"bgcolor\": \"#E5ECF6\", \"caxis\": {\"gridcolor\": \"white\", \"linecolor\": \"white\", \"ticks\": \"\"}}, \"title\": {\"x\": 0.05}, \"xaxis\": {\"automargin\": true, \"gridcolor\": \"white\", \"linecolor\": \"white\", \"ticks\": \"\", \"title\": {\"standoff\": 15}, \"zerolinecolor\": \"white\", \"zerolinewidth\": 2}, \"yaxis\": {\"automargin\": true, \"gridcolor\": \"white\", \"linecolor\": \"white\", \"ticks\": \"\", \"title\": {\"standoff\": 15}, \"zerolinecolor\": \"white\", \"zerolinewidth\": 2}}}, \"title\": {\"text\": \"Human Development Index\"}},                        {\"responsive\": true}                    ).then(function(){\n",
       "                            \n",
       "var gd = document.getElementById('14f50cc1-75d0-4b9e-877a-9ff048593ea9');\n",
       "var x = new MutationObserver(function (mutations, observer) {{\n",
       "        var display = window.getComputedStyle(gd).display;\n",
       "        if (!display || display === 'none') {{\n",
       "            console.log([gd, 'removed!']);\n",
       "            Plotly.purge(gd);\n",
       "            observer.disconnect();\n",
       "        }}\n",
       "}});\n",
       "\n",
       "// Listen for the removal of the full notebook cells\n",
       "var notebookContainer = gd.closest('#notebook-container');\n",
       "if (notebookContainer) {{\n",
       "    x.observe(notebookContainer, {childList: true});\n",
       "}}\n",
       "\n",
       "// Listen for the clearing of the current output cell\n",
       "var outputEl = gd.closest('.output');\n",
       "if (outputEl) {{\n",
       "    x.observe(outputEl, {childList: true});\n",
       "}}\n",
       "\n",
       "                        })                };                });            </script>        </div>"
      ]
     },
     "metadata": {},
     "output_type": "display_data"
    }
   ],
   "source": [
    "data = dict(type = 'choropleth',\n",
    "            locations = hdi.Country.tolist(),\n",
    "            locationmode = 'country names',\n",
    "            colorscale= 'Portland',\n",
    "            text= hdi.Country.tolist(),\n",
    "            z=hdi.HDI.tolist(),\n",
    "            colorbar = {'title':'HDI', 'len':200,'lenmode':'pixels' })\n",
    "\n",
    "layout = dict(geo = {'scope':'world'}, title = 'Human Development Index')\n",
    "col_map = go.Figure(data = [data],layout = layout)\n",
    "iplot(col_map)"
   ]
  },
  {
   "cell_type": "code",
   "execution_count": 4,
   "metadata": {},
   "outputs": [
    {
     "data": {
      "application/vnd.plotly.v1+json": {
       "config": {
        "linkText": "Export to plot.ly",
        "plotlyServerURL": "https://plot.ly",
        "showLink": false
       },
       "data": [
        {
         "colorbar": {
          "len": 200,
          "lenmode": "pixels",
          "title": {
           "text": "HDI"
          }
         },
         "colorscale": [
          [
           0,
           "rgb(12,51,131)"
          ],
          [
           0.25,
           "rgb(10,136,186)"
          ],
          [
           0.5,
           "rgb(242,211,56)"
          ],
          [
           0.75,
           "rgb(242,143,56)"
          ],
          [
           1,
           "rgb(217,30,30)"
          ]
         ],
         "locationmode": "country names",
         "locations": [
          "Norway",
          "Switzerland",
          "Ireland",
          "Germany",
          "Hong Kong, China (SAR)",
          "Australia",
          "Iceland",
          "Sweden",
          "Singapore",
          "Netherlands",
          "Denmark",
          "Finland",
          "Canada",
          "New Zealand",
          "United Kingdom",
          "United States",
          "Belgium",
          "Liechtenstein",
          "Japan",
          "Austria",
          "Luxembourg",
          "Israel",
          "Korea (Republic of)",
          "Slovenia",
          "Spain",
          "Czechia",
          "France",
          "Malta",
          "Italy",
          "Estonia",
          "Cyprus",
          "Greece",
          "Poland",
          "Lithuania",
          "United Arab Emirates",
          "Andorra",
          "Saudi Arabia",
          "Slovakia",
          "Latvia",
          "Portugal",
          "Qatar",
          "Chile",
          "Brunei Darussalam",
          "Hungary",
          "Bahrain",
          "Croatia",
          "Oman",
          "Argentina",
          "Russian Federation",
          "Belarus",
          "Kazakhstan",
          "Bulgaria",
          "Montenegro",
          "Romania",
          "Palau",
          "Barbados",
          "Kuwait",
          "Uruguay",
          "Turkey",
          "Bahamas",
          "Malaysia",
          "Seychelles",
          "Serbia",
          "Trinidad and Tobago",
          "Iran (Islamic Republic of)",
          "Mauritius",
          "Panama",
          "Costa Rica",
          "Albania",
          "Georgia",
          "Sri Lanka",
          "Cuba",
          "Saint Kitts and Nevis",
          "Antigua and Barbuda",
          "Bosnia and Herzegovina",
          "Mexico",
          "Thailand",
          "Grenada",
          "Brazil",
          "Colombia",
          "Armenia",
          "Algeria",
          "North Macedonia",
          "Peru",
          "China",
          "Ecuador",
          "Azerbaijan",
          "Ukraine",
          "Dominican Republic",
          "Saint Lucia",
          "Tunisia",
          "Mongolia",
          "Lebanon",
          "Botswana",
          "Saint Vincent and the Grenadines",
          "Jamaica",
          "Venezuela (Bolivarian Republic of)",
          "Dominica",
          "Fiji",
          "Paraguay",
          "Suriname",
          "Jordan",
          "Belize",
          "Maldives",
          "Tonga",
          "Philippines",
          "Moldova (Republic of)",
          "Turkmenistan",
          "Uzbekistan",
          "Libya",
          "Indonesia",
          "Samoa",
          "South Africa",
          "Bolivia (Plurinational State of)",
          "Gabon",
          "Egypt",
          "Marshall Islands",
          "Viet Nam",
          "Palestine, State of",
          "Iraq",
          "Morocco",
          "Kyrgyzstan",
          "Guyana",
          "El Salvador",
          "Tajikistan",
          "Cabo Verde",
          "Guatemala",
          "Nicaragua",
          "India",
          "Namibia",
          "Timor-Leste",
          "Honduras",
          "Kiribati",
          "Bhutan",
          "Bangladesh",
          "Micronesia (Federated States of)",
          "Sao Tome and Principe",
          "Congo",
          "Eswatini (Kingdom of)",
          "Lao People's Democratic Republic",
          "Vanuatu",
          "Ghana",
          "Zambia",
          "Equatorial Guinea",
          "Myanmar",
          "Cambodia",
          "Kenya",
          "Nepal",
          "Angola",
          "Cameroon",
          "Zimbabwe",
          "Pakistan",
          "Solomon Islands",
          "Syrian Arab Republic",
          "Papua New Guinea",
          "Comoros",
          "Rwanda",
          "Nigeria",
          "Tanzania (United Republic of)",
          "Uganda",
          "Mauritania",
          "Madagascar",
          "Benin",
          "Lesotho",
          "Côte d'Ivoire",
          "Senegal",
          "Togo",
          "Sudan",
          "Haiti",
          "Afghanistan",
          "Djibouti",
          "Malawi",
          "Ethiopia",
          "Gambia",
          "Guinea",
          "Liberia",
          "Yemen",
          "Guinea-Bissau",
          "Congo (Democratic Republic of the)",
          "Mozambique",
          "Sierra Leone",
          "Burkina Faso",
          "Eritrea",
          "Mali",
          "Burundi",
          "South Sudan",
          "Chad",
          "Central African Republic",
          "Niger",
          "Korea (Democratic People's Rep. of)",
          "Monaco",
          "Nauru",
          "San Marino",
          "Somalia",
          "Tuvalu"
         ],
         "marker": {
          "line": {
           "color": "darkgray",
           "width": 0.5
          }
         },
         "reversescale": true,
         "text": [
          "Norway",
          "Switzerland",
          "Ireland",
          "Germany",
          "Hong Kong, China (SAR)",
          "Australia",
          "Iceland",
          "Sweden",
          "Singapore",
          "Netherlands",
          "Denmark",
          "Finland",
          "Canada",
          "New Zealand",
          "United Kingdom",
          "United States",
          "Belgium",
          "Liechtenstein",
          "Japan",
          "Austria",
          "Luxembourg",
          "Israel",
          "Korea (Republic of)",
          "Slovenia",
          "Spain",
          "Czechia",
          "France",
          "Malta",
          "Italy",
          "Estonia",
          "Cyprus",
          "Greece",
          "Poland",
          "Lithuania",
          "United Arab Emirates",
          "Andorra",
          "Saudi Arabia",
          "Slovakia",
          "Latvia",
          "Portugal",
          "Qatar",
          "Chile",
          "Brunei Darussalam",
          "Hungary",
          "Bahrain",
          "Croatia",
          "Oman",
          "Argentina",
          "Russian Federation",
          "Belarus",
          "Kazakhstan",
          "Bulgaria",
          "Montenegro",
          "Romania",
          "Palau",
          "Barbados",
          "Kuwait",
          "Uruguay",
          "Turkey",
          "Bahamas",
          "Malaysia",
          "Seychelles",
          "Serbia",
          "Trinidad and Tobago",
          "Iran (Islamic Republic of)",
          "Mauritius",
          "Panama",
          "Costa Rica",
          "Albania",
          "Georgia",
          "Sri Lanka",
          "Cuba",
          "Saint Kitts and Nevis",
          "Antigua and Barbuda",
          "Bosnia and Herzegovina",
          "Mexico",
          "Thailand",
          "Grenada",
          "Brazil",
          "Colombia",
          "Armenia",
          "Algeria",
          "North Macedonia",
          "Peru",
          "China",
          "Ecuador",
          "Azerbaijan",
          "Ukraine",
          "Dominican Republic",
          "Saint Lucia",
          "Tunisia",
          "Mongolia",
          "Lebanon",
          "Botswana",
          "Saint Vincent and the Grenadines",
          "Jamaica",
          "Venezuela (Bolivarian Republic of)",
          "Dominica",
          "Fiji",
          "Paraguay",
          "Suriname",
          "Jordan",
          "Belize",
          "Maldives",
          "Tonga",
          "Philippines",
          "Moldova (Republic of)",
          "Turkmenistan",
          "Uzbekistan",
          "Libya",
          "Indonesia",
          "Samoa",
          "South Africa",
          "Bolivia (Plurinational State of)",
          "Gabon",
          "Egypt",
          "Marshall Islands",
          "Viet Nam",
          "Palestine, State of",
          "Iraq",
          "Morocco",
          "Kyrgyzstan",
          "Guyana",
          "El Salvador",
          "Tajikistan",
          "Cabo Verde",
          "Guatemala",
          "Nicaragua",
          "India",
          "Namibia",
          "Timor-Leste",
          "Honduras",
          "Kiribati",
          "Bhutan",
          "Bangladesh",
          "Micronesia (Federated States of)",
          "Sao Tome and Principe",
          "Congo",
          "Eswatini (Kingdom of)",
          "Lao People's Democratic Republic",
          "Vanuatu",
          "Ghana",
          "Zambia",
          "Equatorial Guinea",
          "Myanmar",
          "Cambodia",
          "Kenya",
          "Nepal",
          "Angola",
          "Cameroon",
          "Zimbabwe",
          "Pakistan",
          "Solomon Islands",
          "Syrian Arab Republic",
          "Papua New Guinea",
          "Comoros",
          "Rwanda",
          "Nigeria",
          "Tanzania (United Republic of)",
          "Uganda",
          "Mauritania",
          "Madagascar",
          "Benin",
          "Lesotho",
          "Côte d'Ivoire",
          "Senegal",
          "Togo",
          "Sudan",
          "Haiti",
          "Afghanistan",
          "Djibouti",
          "Malawi",
          "Ethiopia",
          "Gambia",
          "Guinea",
          "Liberia",
          "Yemen",
          "Guinea-Bissau",
          "Congo (Democratic Republic of the)",
          "Mozambique",
          "Sierra Leone",
          "Burkina Faso",
          "Eritrea",
          "Mali",
          "Burundi",
          "South Sudan",
          "Chad",
          "Central African Republic",
          "Niger",
          "Korea (Democratic People's Rep. of)",
          "Monaco",
          "Nauru",
          "San Marino",
          "Somalia",
          "Tuvalu"
         ],
         "type": "choropleth",
         "visible": true,
         "z": [
          0.9540000000000001,
          0.946,
          0.9420000000000001,
          0.9390000000000001,
          0.9390000000000001,
          0.938,
          0.938,
          0.937,
          0.935,
          0.9329999999999999,
          0.93,
          0.925,
          0.922,
          0.9209999999999999,
          0.92,
          0.92,
          0.919,
          0.917,
          0.915,
          0.914,
          0.909,
          0.9059999999999999,
          0.9059999999999999,
          0.902,
          0.893,
          0.8909999999999999,
          0.8909999999999999,
          0.885,
          0.883,
          0.882,
          0.873,
          0.872,
          0.872,
          0.8690000000000001,
          0.866,
          0.857,
          0.857,
          0.857,
          0.8540000000000001,
          0.85,
          0.848,
          0.847,
          0.845,
          0.845,
          0.838,
          0.8370000000000001,
          0.8340000000000001,
          0.83,
          0.8240000000000001,
          0.8170000000000001,
          0.8170000000000001,
          0.816,
          0.816,
          0.816,
          0.8140000000000001,
          0.813,
          0.8079999999999999,
          0.8079999999999999,
          0.8059999999999999,
          0.805,
          0.804,
          0.8009999999999999,
          0.799,
          0.799,
          0.797,
          0.7959999999999999,
          0.795,
          0.794,
          0.7909999999999999,
          0.7859999999999999,
          0.78,
          0.778,
          0.777,
          0.7759999999999999,
          0.769,
          0.767,
          0.765,
          0.763,
          0.7609999999999999,
          0.7609999999999999,
          0.76,
          0.759,
          0.759,
          0.759,
          0.758,
          0.758,
          0.754,
          0.75,
          0.745,
          0.745,
          0.7390000000000001,
          0.735,
          0.73,
          0.728,
          0.728,
          0.726,
          0.726,
          0.7240000000000001,
          0.7240000000000001,
          0.7240000000000001,
          0.7240000000000001,
          0.723,
          0.72,
          0.7190000000000001,
          0.7170000000000001,
          0.7120000000000001,
          0.711,
          0.71,
          0.71,
          0.708,
          0.7070000000000001,
          0.7070000000000001,
          0.705,
          0.703,
          0.7020000000000001,
          0.7,
          0.698,
          0.693,
          0.69,
          0.6890000000000001,
          0.6759999999999999,
          0.674,
          0.67,
          0.667,
          0.6559999999999999,
          0.6509999999999999,
          0.6509999999999999,
          0.6509999999999999,
          0.647,
          0.645,
          0.626,
          0.623,
          0.623,
          0.617,
          0.614,
          0.614,
          0.609,
          0.608,
          0.608,
          0.604,
          0.597,
          0.596,
          0.591,
          0.588,
          0.584,
          0.581,
          0.579,
          0.579,
          0.574,
          0.563,
          0.563,
          0.56,
          0.557,
          0.5489999999999999,
          0.5429999999999999,
          0.5379999999999999,
          0.536,
          0.534,
          0.528,
          0.528,
          0.527,
          0.521,
          0.52,
          0.518,
          0.516,
          0.514,
          0.513,
          0.507,
          0.503,
          0.496,
          0.495,
          0.485,
          0.47,
          0.466,
          0.466,
          0.465,
          0.46299999999999997,
          0.461,
          0.45899999999999996,
          0.446,
          0.43799999999999994,
          0.434,
          0.434,
          0.42700000000000005,
          0.423,
          0.413,
          0.401,
          0.381,
          0.377,
          null,
          null,
          null,
          null,
          null,
          null
         ]
        },
        {
         "colorbar": {
          "len": 200,
          "lenmode": "pixels",
          "title": {
           "text": "Life_exp"
          }
         },
         "colorscale": [
          [
           0,
           "rgb(12,51,131)"
          ],
          [
           0.25,
           "rgb(10,136,186)"
          ],
          [
           0.5,
           "rgb(242,211,56)"
          ],
          [
           0.75,
           "rgb(242,143,56)"
          ],
          [
           1,
           "rgb(217,30,30)"
          ]
         ],
         "locationmode": "country names",
         "locations": [
          "Norway",
          "Switzerland",
          "Ireland",
          "Germany",
          "Hong Kong, China (SAR)",
          "Australia",
          "Iceland",
          "Sweden",
          "Singapore",
          "Netherlands",
          "Denmark",
          "Finland",
          "Canada",
          "New Zealand",
          "United Kingdom",
          "United States",
          "Belgium",
          "Liechtenstein",
          "Japan",
          "Austria",
          "Luxembourg",
          "Israel",
          "Korea (Republic of)",
          "Slovenia",
          "Spain",
          "Czechia",
          "France",
          "Malta",
          "Italy",
          "Estonia",
          "Cyprus",
          "Greece",
          "Poland",
          "Lithuania",
          "United Arab Emirates",
          "Andorra",
          "Saudi Arabia",
          "Slovakia",
          "Latvia",
          "Portugal",
          "Qatar",
          "Chile",
          "Brunei Darussalam",
          "Hungary",
          "Bahrain",
          "Croatia",
          "Oman",
          "Argentina",
          "Russian Federation",
          "Belarus",
          "Kazakhstan",
          "Bulgaria",
          "Montenegro",
          "Romania",
          "Palau",
          "Barbados",
          "Kuwait",
          "Uruguay",
          "Turkey",
          "Bahamas",
          "Malaysia",
          "Seychelles",
          "Serbia",
          "Trinidad and Tobago",
          "Iran (Islamic Republic of)",
          "Mauritius",
          "Panama",
          "Costa Rica",
          "Albania",
          "Georgia",
          "Sri Lanka",
          "Cuba",
          "Saint Kitts and Nevis",
          "Antigua and Barbuda",
          "Bosnia and Herzegovina",
          "Mexico",
          "Thailand",
          "Grenada",
          "Brazil",
          "Colombia",
          "Armenia",
          "Algeria",
          "North Macedonia",
          "Peru",
          "China",
          "Ecuador",
          "Azerbaijan",
          "Ukraine",
          "Dominican Republic",
          "Saint Lucia",
          "Tunisia",
          "Mongolia",
          "Lebanon",
          "Botswana",
          "Saint Vincent and the Grenadines",
          "Jamaica",
          "Venezuela (Bolivarian Republic of)",
          "Dominica",
          "Fiji",
          "Paraguay",
          "Suriname",
          "Jordan",
          "Belize",
          "Maldives",
          "Tonga",
          "Philippines",
          "Moldova (Republic of)",
          "Turkmenistan",
          "Uzbekistan",
          "Libya",
          "Indonesia",
          "Samoa",
          "South Africa",
          "Bolivia (Plurinational State of)",
          "Gabon",
          "Egypt",
          "Marshall Islands",
          "Viet Nam",
          "Palestine, State of",
          "Iraq",
          "Morocco",
          "Kyrgyzstan",
          "Guyana",
          "El Salvador",
          "Tajikistan",
          "Cabo Verde",
          "Guatemala",
          "Nicaragua",
          "India",
          "Namibia",
          "Timor-Leste",
          "Honduras",
          "Kiribati",
          "Bhutan",
          "Bangladesh",
          "Micronesia (Federated States of)",
          "Sao Tome and Principe",
          "Congo",
          "Eswatini (Kingdom of)",
          "Lao People's Democratic Republic",
          "Vanuatu",
          "Ghana",
          "Zambia",
          "Equatorial Guinea",
          "Myanmar",
          "Cambodia",
          "Kenya",
          "Nepal",
          "Angola",
          "Cameroon",
          "Zimbabwe",
          "Pakistan",
          "Solomon Islands",
          "Syrian Arab Republic",
          "Papua New Guinea",
          "Comoros",
          "Rwanda",
          "Nigeria",
          "Tanzania (United Republic of)",
          "Uganda",
          "Mauritania",
          "Madagascar",
          "Benin",
          "Lesotho",
          "Côte d'Ivoire",
          "Senegal",
          "Togo",
          "Sudan",
          "Haiti",
          "Afghanistan",
          "Djibouti",
          "Malawi",
          "Ethiopia",
          "Gambia",
          "Guinea",
          "Liberia",
          "Yemen",
          "Guinea-Bissau",
          "Congo (Democratic Republic of the)",
          "Mozambique",
          "Sierra Leone",
          "Burkina Faso",
          "Eritrea",
          "Mali",
          "Burundi",
          "South Sudan",
          "Chad",
          "Central African Republic",
          "Niger",
          "Korea (Democratic People's Rep. of)",
          "Monaco",
          "Nauru",
          "San Marino",
          "Somalia",
          "Tuvalu"
         ],
         "marker": {
          "line": {
           "color": "darkgray",
           "width": 0.5
          }
         },
         "reversescale": true,
         "text": [
          "Norway",
          "Switzerland",
          "Ireland",
          "Germany",
          "Hong Kong, China (SAR)",
          "Australia",
          "Iceland",
          "Sweden",
          "Singapore",
          "Netherlands",
          "Denmark",
          "Finland",
          "Canada",
          "New Zealand",
          "United Kingdom",
          "United States",
          "Belgium",
          "Liechtenstein",
          "Japan",
          "Austria",
          "Luxembourg",
          "Israel",
          "Korea (Republic of)",
          "Slovenia",
          "Spain",
          "Czechia",
          "France",
          "Malta",
          "Italy",
          "Estonia",
          "Cyprus",
          "Greece",
          "Poland",
          "Lithuania",
          "United Arab Emirates",
          "Andorra",
          "Saudi Arabia",
          "Slovakia",
          "Latvia",
          "Portugal",
          "Qatar",
          "Chile",
          "Brunei Darussalam",
          "Hungary",
          "Bahrain",
          "Croatia",
          "Oman",
          "Argentina",
          "Russian Federation",
          "Belarus",
          "Kazakhstan",
          "Bulgaria",
          "Montenegro",
          "Romania",
          "Palau",
          "Barbados",
          "Kuwait",
          "Uruguay",
          "Turkey",
          "Bahamas",
          "Malaysia",
          "Seychelles",
          "Serbia",
          "Trinidad and Tobago",
          "Iran (Islamic Republic of)",
          "Mauritius",
          "Panama",
          "Costa Rica",
          "Albania",
          "Georgia",
          "Sri Lanka",
          "Cuba",
          "Saint Kitts and Nevis",
          "Antigua and Barbuda",
          "Bosnia and Herzegovina",
          "Mexico",
          "Thailand",
          "Grenada",
          "Brazil",
          "Colombia",
          "Armenia",
          "Algeria",
          "North Macedonia",
          "Peru",
          "China",
          "Ecuador",
          "Azerbaijan",
          "Ukraine",
          "Dominican Republic",
          "Saint Lucia",
          "Tunisia",
          "Mongolia",
          "Lebanon",
          "Botswana",
          "Saint Vincent and the Grenadines",
          "Jamaica",
          "Venezuela (Bolivarian Republic of)",
          "Dominica",
          "Fiji",
          "Paraguay",
          "Suriname",
          "Jordan",
          "Belize",
          "Maldives",
          "Tonga",
          "Philippines",
          "Moldova (Republic of)",
          "Turkmenistan",
          "Uzbekistan",
          "Libya",
          "Indonesia",
          "Samoa",
          "South Africa",
          "Bolivia (Plurinational State of)",
          "Gabon",
          "Egypt",
          "Marshall Islands",
          "Viet Nam",
          "Palestine, State of",
          "Iraq",
          "Morocco",
          "Kyrgyzstan",
          "Guyana",
          "El Salvador",
          "Tajikistan",
          "Cabo Verde",
          "Guatemala",
          "Nicaragua",
          "India",
          "Namibia",
          "Timor-Leste",
          "Honduras",
          "Kiribati",
          "Bhutan",
          "Bangladesh",
          "Micronesia (Federated States of)",
          "Sao Tome and Principe",
          "Congo",
          "Eswatini (Kingdom of)",
          "Lao People's Democratic Republic",
          "Vanuatu",
          "Ghana",
          "Zambia",
          "Equatorial Guinea",
          "Myanmar",
          "Cambodia",
          "Kenya",
          "Nepal",
          "Angola",
          "Cameroon",
          "Zimbabwe",
          "Pakistan",
          "Solomon Islands",
          "Syrian Arab Republic",
          "Papua New Guinea",
          "Comoros",
          "Rwanda",
          "Nigeria",
          "Tanzania (United Republic of)",
          "Uganda",
          "Mauritania",
          "Madagascar",
          "Benin",
          "Lesotho",
          "Côte d'Ivoire",
          "Senegal",
          "Togo",
          "Sudan",
          "Haiti",
          "Afghanistan",
          "Djibouti",
          "Malawi",
          "Ethiopia",
          "Gambia",
          "Guinea",
          "Liberia",
          "Yemen",
          "Guinea-Bissau",
          "Congo (Democratic Republic of the)",
          "Mozambique",
          "Sierra Leone",
          "Burkina Faso",
          "Eritrea",
          "Mali",
          "Burundi",
          "South Sudan",
          "Chad",
          "Central African Republic",
          "Niger",
          "Korea (Democratic People's Rep. of)",
          "Monaco",
          "Nauru",
          "San Marino",
          "Somalia",
          "Tuvalu"
         ],
         "type": "choropleth",
         "visible": false,
         "z": [
          82.3,
          83.6,
          82.1,
          81.2,
          84.7,
          83.3,
          82.9,
          82.7,
          83.5,
          82.1,
          80.8,
          81.7,
          82.3,
          82.1,
          81.2,
          78.9,
          81.5,
          80.5,
          84.5,
          81.4,
          82.1,
          82.8,
          82.8,
          81.2,
          83.4,
          79.2,
          82.5,
          82.4,
          83.4,
          78.6,
          80.8,
          82.1,
          78.5,
          75.7,
          77.8,
          81.8,
          75,
          77.4,
          75.2,
          81.9,
          80.1,
          80,
          75.7,
          76.7,
          77.2,
          78.3,
          77.6,
          76.5,
          72.4,
          74.6,
          73.2,
          74.9,
          76.8,
          75.9,
          73.7,
          79.1,
          75.4,
          77.8,
          77.4,
          73.8,
          76,
          73.3,
          75.8,
          73.4,
          76.5,
          74.9,
          78.3,
          80.1,
          78.5,
          73.6,
          76.8,
          78.7,
          74.6,
          76.9,
          77.3,
          75,
          76.9,
          72.4,
          75.7,
          77.1,
          74.9,
          76.7,
          75.7,
          76.5,
          76.7,
          76.8,
          72.9,
          72,
          73.9,
          76.1,
          76.5,
          69.7,
          78.9,
          69.3,
          72.4,
          74.4,
          72.1,
          78.1,
          67.3,
          74.1,
          71.6,
          74.4,
          74.5,
          78.6,
          70.8,
          71.1,
          71.8,
          68.1,
          71.6,
          72.7,
          71.5,
          73.2,
          63.9,
          71.2,
          66.2,
          71.8,
          73.9,
          75.3,
          73.9,
          70.5,
          76.5,
          71.3,
          69.8,
          73.1,
          70.9,
          72.8,
          74.1,
          74.3,
          69.4,
          63.4,
          69.3,
          75.1,
          68.1,
          71.5,
          72.3,
          67.8,
          70.2,
          64.3,
          59.4,
          67.6,
          70.3,
          63.8,
          63.5,
          58.4,
          66.9,
          69.6,
          66.3,
          70.5,
          60.8,
          58.9,
          61.2,
          67.1,
          72.8,
          71.8,
          64.3,
          64.1,
          68.7,
          54.3,
          65,
          63,
          64.7,
          66.7,
          61.5,
          53.7,
          57.4,
          67.7,
          60.8,
          65.1,
          63.7,
          64.5,
          66.6,
          63.8,
          66.2,
          61.7,
          61.2,
          63.7,
          66.1,
          58,
          60.4,
          60.2,
          54.3,
          61.2,
          65.9,
          58.9,
          61.2,
          57.6,
          54,
          52.8,
          62,
          72.1,
          null,
          null,
          null,
          57.1,
          null
         ]
        },
        {
         "colorbar": {
          "len": 200,
          "lenmode": "pixels",
          "title": {
           "text": "Mean_sch"
          }
         },
         "colorscale": [
          [
           0,
           "rgb(12,51,131)"
          ],
          [
           0.25,
           "rgb(10,136,186)"
          ],
          [
           0.5,
           "rgb(242,211,56)"
          ],
          [
           0.75,
           "rgb(242,143,56)"
          ],
          [
           1,
           "rgb(217,30,30)"
          ]
         ],
         "locationmode": "country names",
         "locations": [
          "Norway",
          "Switzerland",
          "Ireland",
          "Germany",
          "Hong Kong, China (SAR)",
          "Australia",
          "Iceland",
          "Sweden",
          "Singapore",
          "Netherlands",
          "Denmark",
          "Finland",
          "Canada",
          "New Zealand",
          "United Kingdom",
          "United States",
          "Belgium",
          "Liechtenstein",
          "Japan",
          "Austria",
          "Luxembourg",
          "Israel",
          "Korea (Republic of)",
          "Slovenia",
          "Spain",
          "Czechia",
          "France",
          "Malta",
          "Italy",
          "Estonia",
          "Cyprus",
          "Greece",
          "Poland",
          "Lithuania",
          "United Arab Emirates",
          "Andorra",
          "Saudi Arabia",
          "Slovakia",
          "Latvia",
          "Portugal",
          "Qatar",
          "Chile",
          "Brunei Darussalam",
          "Hungary",
          "Bahrain",
          "Croatia",
          "Oman",
          "Argentina",
          "Russian Federation",
          "Belarus",
          "Kazakhstan",
          "Bulgaria",
          "Montenegro",
          "Romania",
          "Palau",
          "Barbados",
          "Kuwait",
          "Uruguay",
          "Turkey",
          "Bahamas",
          "Malaysia",
          "Seychelles",
          "Serbia",
          "Trinidad and Tobago",
          "Iran (Islamic Republic of)",
          "Mauritius",
          "Panama",
          "Costa Rica",
          "Albania",
          "Georgia",
          "Sri Lanka",
          "Cuba",
          "Saint Kitts and Nevis",
          "Antigua and Barbuda",
          "Bosnia and Herzegovina",
          "Mexico",
          "Thailand",
          "Grenada",
          "Brazil",
          "Colombia",
          "Armenia",
          "Algeria",
          "North Macedonia",
          "Peru",
          "China",
          "Ecuador",
          "Azerbaijan",
          "Ukraine",
          "Dominican Republic",
          "Saint Lucia",
          "Tunisia",
          "Mongolia",
          "Lebanon",
          "Botswana",
          "Saint Vincent and the Grenadines",
          "Jamaica",
          "Venezuela (Bolivarian Republic of)",
          "Dominica",
          "Fiji",
          "Paraguay",
          "Suriname",
          "Jordan",
          "Belize",
          "Maldives",
          "Tonga",
          "Philippines",
          "Moldova (Republic of)",
          "Turkmenistan",
          "Uzbekistan",
          "Libya",
          "Indonesia",
          "Samoa",
          "South Africa",
          "Bolivia (Plurinational State of)",
          "Gabon",
          "Egypt",
          "Marshall Islands",
          "Viet Nam",
          "Palestine, State of",
          "Iraq",
          "Morocco",
          "Kyrgyzstan",
          "Guyana",
          "El Salvador",
          "Tajikistan",
          "Cabo Verde",
          "Guatemala",
          "Nicaragua",
          "India",
          "Namibia",
          "Timor-Leste",
          "Honduras",
          "Kiribati",
          "Bhutan",
          "Bangladesh",
          "Micronesia (Federated States of)",
          "Sao Tome and Principe",
          "Congo",
          "Eswatini (Kingdom of)",
          "Lao People's Democratic Republic",
          "Vanuatu",
          "Ghana",
          "Zambia",
          "Equatorial Guinea",
          "Myanmar",
          "Cambodia",
          "Kenya",
          "Nepal",
          "Angola",
          "Cameroon",
          "Zimbabwe",
          "Pakistan",
          "Solomon Islands",
          "Syrian Arab Republic",
          "Papua New Guinea",
          "Comoros",
          "Rwanda",
          "Nigeria",
          "Tanzania (United Republic of)",
          "Uganda",
          "Mauritania",
          "Madagascar",
          "Benin",
          "Lesotho",
          "Côte d'Ivoire",
          "Senegal",
          "Togo",
          "Sudan",
          "Haiti",
          "Afghanistan",
          "Djibouti",
          "Malawi",
          "Ethiopia",
          "Gambia",
          "Guinea",
          "Liberia",
          "Yemen",
          "Guinea-Bissau",
          "Congo (Democratic Republic of the)",
          "Mozambique",
          "Sierra Leone",
          "Burkina Faso",
          "Eritrea",
          "Mali",
          "Burundi",
          "South Sudan",
          "Chad",
          "Central African Republic",
          "Niger",
          "Korea (Democratic People's Rep. of)",
          "Monaco",
          "Nauru",
          "San Marino",
          "Somalia",
          "Tuvalu"
         ],
         "marker": {
          "line": {
           "color": "darkgray",
           "width": 0.5
          }
         },
         "reversescale": true,
         "text": [
          "Norway",
          "Switzerland",
          "Ireland",
          "Germany",
          "Hong Kong, China (SAR)",
          "Australia",
          "Iceland",
          "Sweden",
          "Singapore",
          "Netherlands",
          "Denmark",
          "Finland",
          "Canada",
          "New Zealand",
          "United Kingdom",
          "United States",
          "Belgium",
          "Liechtenstein",
          "Japan",
          "Austria",
          "Luxembourg",
          "Israel",
          "Korea (Republic of)",
          "Slovenia",
          "Spain",
          "Czechia",
          "France",
          "Malta",
          "Italy",
          "Estonia",
          "Cyprus",
          "Greece",
          "Poland",
          "Lithuania",
          "United Arab Emirates",
          "Andorra",
          "Saudi Arabia",
          "Slovakia",
          "Latvia",
          "Portugal",
          "Qatar",
          "Chile",
          "Brunei Darussalam",
          "Hungary",
          "Bahrain",
          "Croatia",
          "Oman",
          "Argentina",
          "Russian Federation",
          "Belarus",
          "Kazakhstan",
          "Bulgaria",
          "Montenegro",
          "Romania",
          "Palau",
          "Barbados",
          "Kuwait",
          "Uruguay",
          "Turkey",
          "Bahamas",
          "Malaysia",
          "Seychelles",
          "Serbia",
          "Trinidad and Tobago",
          "Iran (Islamic Republic of)",
          "Mauritius",
          "Panama",
          "Costa Rica",
          "Albania",
          "Georgia",
          "Sri Lanka",
          "Cuba",
          "Saint Kitts and Nevis",
          "Antigua and Barbuda",
          "Bosnia and Herzegovina",
          "Mexico",
          "Thailand",
          "Grenada",
          "Brazil",
          "Colombia",
          "Armenia",
          "Algeria",
          "North Macedonia",
          "Peru",
          "China",
          "Ecuador",
          "Azerbaijan",
          "Ukraine",
          "Dominican Republic",
          "Saint Lucia",
          "Tunisia",
          "Mongolia",
          "Lebanon",
          "Botswana",
          "Saint Vincent and the Grenadines",
          "Jamaica",
          "Venezuela (Bolivarian Republic of)",
          "Dominica",
          "Fiji",
          "Paraguay",
          "Suriname",
          "Jordan",
          "Belize",
          "Maldives",
          "Tonga",
          "Philippines",
          "Moldova (Republic of)",
          "Turkmenistan",
          "Uzbekistan",
          "Libya",
          "Indonesia",
          "Samoa",
          "South Africa",
          "Bolivia (Plurinational State of)",
          "Gabon",
          "Egypt",
          "Marshall Islands",
          "Viet Nam",
          "Palestine, State of",
          "Iraq",
          "Morocco",
          "Kyrgyzstan",
          "Guyana",
          "El Salvador",
          "Tajikistan",
          "Cabo Verde",
          "Guatemala",
          "Nicaragua",
          "India",
          "Namibia",
          "Timor-Leste",
          "Honduras",
          "Kiribati",
          "Bhutan",
          "Bangladesh",
          "Micronesia (Federated States of)",
          "Sao Tome and Principe",
          "Congo",
          "Eswatini (Kingdom of)",
          "Lao People's Democratic Republic",
          "Vanuatu",
          "Ghana",
          "Zambia",
          "Equatorial Guinea",
          "Myanmar",
          "Cambodia",
          "Kenya",
          "Nepal",
          "Angola",
          "Cameroon",
          "Zimbabwe",
          "Pakistan",
          "Solomon Islands",
          "Syrian Arab Republic",
          "Papua New Guinea",
          "Comoros",
          "Rwanda",
          "Nigeria",
          "Tanzania (United Republic of)",
          "Uganda",
          "Mauritania",
          "Madagascar",
          "Benin",
          "Lesotho",
          "Côte d'Ivoire",
          "Senegal",
          "Togo",
          "Sudan",
          "Haiti",
          "Afghanistan",
          "Djibouti",
          "Malawi",
          "Ethiopia",
          "Gambia",
          "Guinea",
          "Liberia",
          "Yemen",
          "Guinea-Bissau",
          "Congo (Democratic Republic of the)",
          "Mozambique",
          "Sierra Leone",
          "Burkina Faso",
          "Eritrea",
          "Mali",
          "Burundi",
          "South Sudan",
          "Chad",
          "Central African Republic",
          "Niger",
          "Korea (Democratic People's Rep. of)",
          "Monaco",
          "Nauru",
          "San Marino",
          "Somalia",
          "Tuvalu"
         ],
         "type": "choropleth",
         "visible": false,
         "z": [
          12.6,
          13.4,
          12.5,
          14.1,
          12,
          12.7,
          12.5,
          12.4,
          11.5,
          12.2,
          12.6,
          12.4,
          13.3,
          12.7,
          13,
          13.4,
          11.8,
          12.5,
          12.8,
          12.6,
          12.2,
          13,
          12.2,
          12.3,
          9.8,
          12.7,
          11.4,
          11.3,
          10.2,
          13,
          12.1,
          10.5,
          12.3,
          13,
          11,
          10.2,
          9.7,
          12.6,
          12.8,
          9.2,
          9.7,
          10.4,
          9.1,
          11.9,
          9.4,
          11.4,
          9.7,
          10.6,
          12,
          12.3,
          11.8,
          11.8,
          11.4,
          11,
          12.4,
          10.6,
          7.3,
          8.7,
          7.7,
          11.5,
          10.2,
          9.7,
          11.2,
          11,
          10,
          9.4,
          10.2,
          8.7,
          10.1,
          12.8,
          11.1,
          11.8,
          8.5,
          9.3,
          9.7,
          8.6,
          7.7,
          8.8,
          7.8,
          8.3,
          11.8,
          8,
          9.7,
          9.2,
          7.9,
          9,
          10.5,
          11.3,
          7.9,
          8.5,
          7.2,
          10.2,
          8.7,
          9.3,
          8.6,
          9.8,
          10.3,
          7.8,
          10.9,
          8.5,
          9.1,
          10.5,
          9.8,
          6.8,
          11.2,
          9.4,
          11.6,
          9.8,
          11.5,
          7.6,
          8,
          10.6,
          10.2,
          9,
          8.3,
          7.3,
          10.9,
          8.2,
          9.1,
          7.3,
          5.5,
          10.9,
          8.5,
          6.9,
          10.7,
          6.2,
          6.5,
          6.8,
          6.5,
          6.9,
          4.5,
          6.6,
          7.9,
          3.1,
          6.1,
          7.7,
          6.4,
          6.5,
          6.7,
          5.2,
          6.8,
          7.2,
          7.1,
          5.6,
          5,
          4.8,
          6.6,
          4.9,
          5.1,
          6.3,
          8.3,
          5.2,
          5.5,
          5.1,
          4.6,
          4.9,
          4.4,
          6.5,
          6,
          6.1,
          4.6,
          6.1,
          3.8,
          6.3,
          5.2,
          3.1,
          4.9,
          3.7,
          5.4,
          3.9,
          4,
          4.6,
          2.8,
          3.7,
          2.7,
          4.7,
          3.2,
          3.3,
          6.8,
          3.5,
          3.6,
          1.6,
          3.9,
          2.4,
          3.1,
          4.8,
          2.4,
          4.3,
          2,
          null,
          null,
          null,
          null,
          null,
          null
         ]
        }
       ],
       "layout": {
        "template": {
         "data": {
          "bar": [
           {
            "error_x": {
             "color": "#2a3f5f"
            },
            "error_y": {
             "color": "#2a3f5f"
            },
            "marker": {
             "line": {
              "color": "#E5ECF6",
              "width": 0.5
             }
            },
            "type": "bar"
           }
          ],
          "barpolar": [
           {
            "marker": {
             "line": {
              "color": "#E5ECF6",
              "width": 0.5
             }
            },
            "type": "barpolar"
           }
          ],
          "carpet": [
           {
            "aaxis": {
             "endlinecolor": "#2a3f5f",
             "gridcolor": "white",
             "linecolor": "white",
             "minorgridcolor": "white",
             "startlinecolor": "#2a3f5f"
            },
            "baxis": {
             "endlinecolor": "#2a3f5f",
             "gridcolor": "white",
             "linecolor": "white",
             "minorgridcolor": "white",
             "startlinecolor": "#2a3f5f"
            },
            "type": "carpet"
           }
          ],
          "choropleth": [
           {
            "colorbar": {
             "outlinewidth": 0,
             "ticks": ""
            },
            "type": "choropleth"
           }
          ],
          "contour": [
           {
            "colorbar": {
             "outlinewidth": 0,
             "ticks": ""
            },
            "colorscale": [
             [
              0,
              "#0d0887"
             ],
             [
              0.1111111111111111,
              "#46039f"
             ],
             [
              0.2222222222222222,
              "#7201a8"
             ],
             [
              0.3333333333333333,
              "#9c179e"
             ],
             [
              0.4444444444444444,
              "#bd3786"
             ],
             [
              0.5555555555555556,
              "#d8576b"
             ],
             [
              0.6666666666666666,
              "#ed7953"
             ],
             [
              0.7777777777777778,
              "#fb9f3a"
             ],
             [
              0.8888888888888888,
              "#fdca26"
             ],
             [
              1,
              "#f0f921"
             ]
            ],
            "type": "contour"
           }
          ],
          "contourcarpet": [
           {
            "colorbar": {
             "outlinewidth": 0,
             "ticks": ""
            },
            "type": "contourcarpet"
           }
          ],
          "heatmap": [
           {
            "colorbar": {
             "outlinewidth": 0,
             "ticks": ""
            },
            "colorscale": [
             [
              0,
              "#0d0887"
             ],
             [
              0.1111111111111111,
              "#46039f"
             ],
             [
              0.2222222222222222,
              "#7201a8"
             ],
             [
              0.3333333333333333,
              "#9c179e"
             ],
             [
              0.4444444444444444,
              "#bd3786"
             ],
             [
              0.5555555555555556,
              "#d8576b"
             ],
             [
              0.6666666666666666,
              "#ed7953"
             ],
             [
              0.7777777777777778,
              "#fb9f3a"
             ],
             [
              0.8888888888888888,
              "#fdca26"
             ],
             [
              1,
              "#f0f921"
             ]
            ],
            "type": "heatmap"
           }
          ],
          "heatmapgl": [
           {
            "colorbar": {
             "outlinewidth": 0,
             "ticks": ""
            },
            "colorscale": [
             [
              0,
              "#0d0887"
             ],
             [
              0.1111111111111111,
              "#46039f"
             ],
             [
              0.2222222222222222,
              "#7201a8"
             ],
             [
              0.3333333333333333,
              "#9c179e"
             ],
             [
              0.4444444444444444,
              "#bd3786"
             ],
             [
              0.5555555555555556,
              "#d8576b"
             ],
             [
              0.6666666666666666,
              "#ed7953"
             ],
             [
              0.7777777777777778,
              "#fb9f3a"
             ],
             [
              0.8888888888888888,
              "#fdca26"
             ],
             [
              1,
              "#f0f921"
             ]
            ],
            "type": "heatmapgl"
           }
          ],
          "histogram": [
           {
            "marker": {
             "colorbar": {
              "outlinewidth": 0,
              "ticks": ""
             }
            },
            "type": "histogram"
           }
          ],
          "histogram2d": [
           {
            "colorbar": {
             "outlinewidth": 0,
             "ticks": ""
            },
            "colorscale": [
             [
              0,
              "#0d0887"
             ],
             [
              0.1111111111111111,
              "#46039f"
             ],
             [
              0.2222222222222222,
              "#7201a8"
             ],
             [
              0.3333333333333333,
              "#9c179e"
             ],
             [
              0.4444444444444444,
              "#bd3786"
             ],
             [
              0.5555555555555556,
              "#d8576b"
             ],
             [
              0.6666666666666666,
              "#ed7953"
             ],
             [
              0.7777777777777778,
              "#fb9f3a"
             ],
             [
              0.8888888888888888,
              "#fdca26"
             ],
             [
              1,
              "#f0f921"
             ]
            ],
            "type": "histogram2d"
           }
          ],
          "histogram2dcontour": [
           {
            "colorbar": {
             "outlinewidth": 0,
             "ticks": ""
            },
            "colorscale": [
             [
              0,
              "#0d0887"
             ],
             [
              0.1111111111111111,
              "#46039f"
             ],
             [
              0.2222222222222222,
              "#7201a8"
             ],
             [
              0.3333333333333333,
              "#9c179e"
             ],
             [
              0.4444444444444444,
              "#bd3786"
             ],
             [
              0.5555555555555556,
              "#d8576b"
             ],
             [
              0.6666666666666666,
              "#ed7953"
             ],
             [
              0.7777777777777778,
              "#fb9f3a"
             ],
             [
              0.8888888888888888,
              "#fdca26"
             ],
             [
              1,
              "#f0f921"
             ]
            ],
            "type": "histogram2dcontour"
           }
          ],
          "mesh3d": [
           {
            "colorbar": {
             "outlinewidth": 0,
             "ticks": ""
            },
            "type": "mesh3d"
           }
          ],
          "parcoords": [
           {
            "line": {
             "colorbar": {
              "outlinewidth": 0,
              "ticks": ""
             }
            },
            "type": "parcoords"
           }
          ],
          "pie": [
           {
            "automargin": true,
            "type": "pie"
           }
          ],
          "scatter": [
           {
            "marker": {
             "colorbar": {
              "outlinewidth": 0,
              "ticks": ""
             }
            },
            "type": "scatter"
           }
          ],
          "scatter3d": [
           {
            "line": {
             "colorbar": {
              "outlinewidth": 0,
              "ticks": ""
             }
            },
            "marker": {
             "colorbar": {
              "outlinewidth": 0,
              "ticks": ""
             }
            },
            "type": "scatter3d"
           }
          ],
          "scattercarpet": [
           {
            "marker": {
             "colorbar": {
              "outlinewidth": 0,
              "ticks": ""
             }
            },
            "type": "scattercarpet"
           }
          ],
          "scattergeo": [
           {
            "marker": {
             "colorbar": {
              "outlinewidth": 0,
              "ticks": ""
             }
            },
            "type": "scattergeo"
           }
          ],
          "scattergl": [
           {
            "marker": {
             "colorbar": {
              "outlinewidth": 0,
              "ticks": ""
             }
            },
            "type": "scattergl"
           }
          ],
          "scattermapbox": [
           {
            "marker": {
             "colorbar": {
              "outlinewidth": 0,
              "ticks": ""
             }
            },
            "type": "scattermapbox"
           }
          ],
          "scatterpolar": [
           {
            "marker": {
             "colorbar": {
              "outlinewidth": 0,
              "ticks": ""
             }
            },
            "type": "scatterpolar"
           }
          ],
          "scatterpolargl": [
           {
            "marker": {
             "colorbar": {
              "outlinewidth": 0,
              "ticks": ""
             }
            },
            "type": "scatterpolargl"
           }
          ],
          "scatterternary": [
           {
            "marker": {
             "colorbar": {
              "outlinewidth": 0,
              "ticks": ""
             }
            },
            "type": "scatterternary"
           }
          ],
          "surface": [
           {
            "colorbar": {
             "outlinewidth": 0,
             "ticks": ""
            },
            "colorscale": [
             [
              0,
              "#0d0887"
             ],
             [
              0.1111111111111111,
              "#46039f"
             ],
             [
              0.2222222222222222,
              "#7201a8"
             ],
             [
              0.3333333333333333,
              "#9c179e"
             ],
             [
              0.4444444444444444,
              "#bd3786"
             ],
             [
              0.5555555555555556,
              "#d8576b"
             ],
             [
              0.6666666666666666,
              "#ed7953"
             ],
             [
              0.7777777777777778,
              "#fb9f3a"
             ],
             [
              0.8888888888888888,
              "#fdca26"
             ],
             [
              1,
              "#f0f921"
             ]
            ],
            "type": "surface"
           }
          ],
          "table": [
           {
            "cells": {
             "fill": {
              "color": "#EBF0F8"
             },
             "line": {
              "color": "white"
             }
            },
            "header": {
             "fill": {
              "color": "#C8D4E3"
             },
             "line": {
              "color": "white"
             }
            },
            "type": "table"
           }
          ]
         },
         "layout": {
          "annotationdefaults": {
           "arrowcolor": "#2a3f5f",
           "arrowhead": 0,
           "arrowwidth": 1
          },
          "coloraxis": {
           "colorbar": {
            "outlinewidth": 0,
            "ticks": ""
           }
          },
          "colorscale": {
           "diverging": [
            [
             0,
             "#8e0152"
            ],
            [
             0.1,
             "#c51b7d"
            ],
            [
             0.2,
             "#de77ae"
            ],
            [
             0.3,
             "#f1b6da"
            ],
            [
             0.4,
             "#fde0ef"
            ],
            [
             0.5,
             "#f7f7f7"
            ],
            [
             0.6,
             "#e6f5d0"
            ],
            [
             0.7,
             "#b8e186"
            ],
            [
             0.8,
             "#7fbc41"
            ],
            [
             0.9,
             "#4d9221"
            ],
            [
             1,
             "#276419"
            ]
           ],
           "sequential": [
            [
             0,
             "#0d0887"
            ],
            [
             0.1111111111111111,
             "#46039f"
            ],
            [
             0.2222222222222222,
             "#7201a8"
            ],
            [
             0.3333333333333333,
             "#9c179e"
            ],
            [
             0.4444444444444444,
             "#bd3786"
            ],
            [
             0.5555555555555556,
             "#d8576b"
            ],
            [
             0.6666666666666666,
             "#ed7953"
            ],
            [
             0.7777777777777778,
             "#fb9f3a"
            ],
            [
             0.8888888888888888,
             "#fdca26"
            ],
            [
             1,
             "#f0f921"
            ]
           ],
           "sequentialminus": [
            [
             0,
             "#0d0887"
            ],
            [
             0.1111111111111111,
             "#46039f"
            ],
            [
             0.2222222222222222,
             "#7201a8"
            ],
            [
             0.3333333333333333,
             "#9c179e"
            ],
            [
             0.4444444444444444,
             "#bd3786"
            ],
            [
             0.5555555555555556,
             "#d8576b"
            ],
            [
             0.6666666666666666,
             "#ed7953"
            ],
            [
             0.7777777777777778,
             "#fb9f3a"
            ],
            [
             0.8888888888888888,
             "#fdca26"
            ],
            [
             1,
             "#f0f921"
            ]
           ]
          },
          "colorway": [
           "#636efa",
           "#EF553B",
           "#00cc96",
           "#ab63fa",
           "#FFA15A",
           "#19d3f3",
           "#FF6692",
           "#B6E880",
           "#FF97FF",
           "#FECB52"
          ],
          "font": {
           "color": "#2a3f5f"
          },
          "geo": {
           "bgcolor": "white",
           "lakecolor": "white",
           "landcolor": "#E5ECF6",
           "showlakes": true,
           "showland": true,
           "subunitcolor": "white"
          },
          "hoverlabel": {
           "align": "left"
          },
          "hovermode": "closest",
          "mapbox": {
           "style": "light"
          },
          "paper_bgcolor": "white",
          "plot_bgcolor": "#E5ECF6",
          "polar": {
           "angularaxis": {
            "gridcolor": "white",
            "linecolor": "white",
            "ticks": ""
           },
           "bgcolor": "#E5ECF6",
           "radialaxis": {
            "gridcolor": "white",
            "linecolor": "white",
            "ticks": ""
           }
          },
          "scene": {
           "xaxis": {
            "backgroundcolor": "#E5ECF6",
            "gridcolor": "white",
            "gridwidth": 2,
            "linecolor": "white",
            "showbackground": true,
            "ticks": "",
            "zerolinecolor": "white"
           },
           "yaxis": {
            "backgroundcolor": "#E5ECF6",
            "gridcolor": "white",
            "gridwidth": 2,
            "linecolor": "white",
            "showbackground": true,
            "ticks": "",
            "zerolinecolor": "white"
           },
           "zaxis": {
            "backgroundcolor": "#E5ECF6",
            "gridcolor": "white",
            "gridwidth": 2,
            "linecolor": "white",
            "showbackground": true,
            "ticks": "",
            "zerolinecolor": "white"
           }
          },
          "shapedefaults": {
           "line": {
            "color": "#2a3f5f"
           }
          },
          "ternary": {
           "aaxis": {
            "gridcolor": "white",
            "linecolor": "white",
            "ticks": ""
           },
           "baxis": {
            "gridcolor": "white",
            "linecolor": "white",
            "ticks": ""
           },
           "bgcolor": "#E5ECF6",
           "caxis": {
            "gridcolor": "white",
            "linecolor": "white",
            "ticks": ""
           }
          },
          "title": {
           "x": 0.05
          },
          "xaxis": {
           "automargin": true,
           "gridcolor": "white",
           "linecolor": "white",
           "ticks": "",
           "title": {
            "standoff": 15
           },
           "zerolinecolor": "white",
           "zerolinewidth": 2
          },
          "yaxis": {
           "automargin": true,
           "gridcolor": "white",
           "linecolor": "white",
           "ticks": "",
           "title": {
            "standoff": 15
           },
           "zerolinecolor": "white",
           "zerolinewidth": 2
          }
         }
        },
        "title": {
         "text": "Title"
        },
        "updatemenus": [
         {
          "buttons": [
           {
            "args": [
             {
              "visible": [
               true,
               false,
               false,
               false
              ]
             }
            ],
            "label": "HDI",
            "method": "update"
           },
           {
            "args": [
             {
              "visible": [
               false,
               true,
               false,
               false
              ]
             }
            ],
            "label": "Life_exp",
            "method": "update"
           },
           {
            "args": [
             {
              "visible": [
               false,
               false,
               true,
               false
              ]
             }
            ],
            "label": "Mean_sch",
            "method": "update"
           },
           {
            "args": [
             {
              "visible": [
               false,
               false,
               false,
               true
              ]
             }
            ],
            "label": "GNI_percap",
            "method": "update"
           }
          ],
          "direction": "down",
          "font": {
           "size": 11
          },
          "x": 0.01,
          "xanchor": "left",
          "y": 0.99,
          "yanchor": "bottom"
         }
        ]
       }
      },
      "text/html": [
       "<div>                            <div id=\"f81b9261-2a17-4f3b-a84b-949f50f0ab37\" class=\"plotly-graph-div\" style=\"height:525px; width:100%;\"></div>            <script type=\"text/javascript\">                require([\"plotly\"], function(Plotly) {                    window.PLOTLYENV=window.PLOTLYENV || {};                                    if (document.getElementById(\"f81b9261-2a17-4f3b-a84b-949f50f0ab37\")) {                    Plotly.newPlot(                        \"f81b9261-2a17-4f3b-a84b-949f50f0ab37\",                        [{\"colorbar\": {\"len\": 200, \"lenmode\": \"pixels\", \"title\": {\"text\": \"HDI\"}}, \"colorscale\": [[0.0, \"rgb(12,51,131)\"], [0.25, \"rgb(10,136,186)\"], [0.5, \"rgb(242,211,56)\"], [0.75, \"rgb(242,143,56)\"], [1.0, \"rgb(217,30,30)\"]], \"locationmode\": \"country names\", \"locations\": [\"Norway\", \"Switzerland\", \"Ireland\", \"Germany\", \"Hong Kong, China (SAR)\", \"Australia\", \"Iceland\", \"Sweden\", \"Singapore\", \"Netherlands\", \"Denmark\", \"Finland\", \"Canada\", \"New Zealand\", \"United Kingdom\", \"United States\", \"Belgium\", \"Liechtenstein\", \"Japan\", \"Austria\", \"Luxembourg\", \"Israel\", \"Korea (Republic of)\", \"Slovenia\", \"Spain\", \"Czechia\", \"France\", \"Malta\", \"Italy\", \"Estonia\", \"Cyprus\", \"Greece\", \"Poland\", \"Lithuania\", \"United Arab Emirates\", \"Andorra\", \"Saudi Arabia\", \"Slovakia\", \"Latvia\", \"Portugal\", \"Qatar\", \"Chile\", \"Brunei Darussalam\", \"Hungary\", \"Bahrain\", \"Croatia\", \"Oman\", \"Argentina\", \"Russian Federation\", \"Belarus\", \"Kazakhstan\", \"Bulgaria\", \"Montenegro\", \"Romania\", \"Palau\", \"Barbados\", \"Kuwait\", \"Uruguay\", \"Turkey\", \"Bahamas\", \"Malaysia\", \"Seychelles\", \"Serbia\", \"Trinidad and Tobago\", \"Iran (Islamic Republic of)\", \"Mauritius\", \"Panama\", \"Costa Rica\", \"Albania\", \"Georgia\", \"Sri Lanka\", \"Cuba\", \"Saint Kitts and Nevis\", \"Antigua and Barbuda\", \"Bosnia and Herzegovina\", \"Mexico\", \"Thailand\", \"Grenada\", \"Brazil\", \"Colombia\", \"Armenia\", \"Algeria\", \"North Macedonia\", \"Peru\", \"China\", \"Ecuador\", \"Azerbaijan\", \"Ukraine\", \"Dominican Republic\", \"Saint Lucia\", \"Tunisia\", \"Mongolia\", \"Lebanon\", \"Botswana\", \"Saint Vincent and the Grenadines\", \"Jamaica\", \"Venezuela (Bolivarian Republic of)\", \"Dominica\", \"Fiji\", \"Paraguay\", \"Suriname\", \"Jordan\", \"Belize\", \"Maldives\", \"Tonga\", \"Philippines\", \"Moldova (Republic of)\", \"Turkmenistan\", \"Uzbekistan\", \"Libya\", \"Indonesia\", \"Samoa\", \"South Africa\", \"Bolivia (Plurinational State of)\", \"Gabon\", \"Egypt\", \"Marshall Islands\", \"Viet Nam\", \"Palestine, State of\", \"Iraq\", \"Morocco\", \"Kyrgyzstan\", \"Guyana\", \"El Salvador\", \"Tajikistan\", \"Cabo Verde\", \"Guatemala\", \"Nicaragua\", \"India\", \"Namibia\", \"Timor-Leste\", \"Honduras\", \"Kiribati\", \"Bhutan\", \"Bangladesh\", \"Micronesia (Federated States of)\", \"Sao Tome and Principe\", \"Congo\", \"Eswatini (Kingdom of)\", \"Lao People's Democratic Republic\", \"Vanuatu\", \"Ghana\", \"Zambia\", \"Equatorial Guinea\", \"Myanmar\", \"Cambodia\", \"Kenya\", \"Nepal\", \"Angola\", \"Cameroon\", \"Zimbabwe\", \"Pakistan\", \"Solomon Islands\", \"Syrian Arab Republic\", \"Papua New Guinea\", \"Comoros\", \"Rwanda\", \"Nigeria\", \"Tanzania (United Republic of)\", \"Uganda\", \"Mauritania\", \"Madagascar\", \"Benin\", \"Lesotho\", \"C\\u00f4te d'Ivoire\", \"Senegal\", \"Togo\", \"Sudan\", \"Haiti\", \"Afghanistan\", \"Djibouti\", \"Malawi\", \"Ethiopia\", \"Gambia\", \"Guinea\", \"Liberia\", \"Yemen\", \"Guinea-Bissau\", \"Congo (Democratic Republic of the)\", \"Mozambique\", \"Sierra Leone\", \"Burkina Faso\", \"Eritrea\", \"Mali\", \"Burundi\", \"South Sudan\", \"Chad\", \"Central African Republic\", \"Niger\", \"Korea (Democratic People's Rep. of)\", \"Monaco\", \"Nauru\", \"San Marino\", \"Somalia\", \"Tuvalu\"], \"marker\": {\"line\": {\"color\": \"darkgray\", \"width\": 0.5}}, \"reversescale\": true, \"text\": [\"Norway\", \"Switzerland\", \"Ireland\", \"Germany\", \"Hong Kong, China (SAR)\", \"Australia\", \"Iceland\", \"Sweden\", \"Singapore\", \"Netherlands\", \"Denmark\", \"Finland\", \"Canada\", \"New Zealand\", \"United Kingdom\", \"United States\", \"Belgium\", \"Liechtenstein\", \"Japan\", \"Austria\", \"Luxembourg\", \"Israel\", \"Korea (Republic of)\", \"Slovenia\", \"Spain\", \"Czechia\", \"France\", \"Malta\", \"Italy\", \"Estonia\", \"Cyprus\", \"Greece\", \"Poland\", \"Lithuania\", \"United Arab Emirates\", \"Andorra\", \"Saudi Arabia\", \"Slovakia\", \"Latvia\", \"Portugal\", \"Qatar\", \"Chile\", \"Brunei Darussalam\", \"Hungary\", \"Bahrain\", \"Croatia\", \"Oman\", \"Argentina\", \"Russian Federation\", \"Belarus\", \"Kazakhstan\", \"Bulgaria\", \"Montenegro\", \"Romania\", \"Palau\", \"Barbados\", \"Kuwait\", \"Uruguay\", \"Turkey\", \"Bahamas\", \"Malaysia\", \"Seychelles\", \"Serbia\", \"Trinidad and Tobago\", \"Iran (Islamic Republic of)\", \"Mauritius\", \"Panama\", \"Costa Rica\", \"Albania\", \"Georgia\", \"Sri Lanka\", \"Cuba\", \"Saint Kitts and Nevis\", \"Antigua and Barbuda\", \"Bosnia and Herzegovina\", \"Mexico\", \"Thailand\", \"Grenada\", \"Brazil\", \"Colombia\", \"Armenia\", \"Algeria\", \"North Macedonia\", \"Peru\", \"China\", \"Ecuador\", \"Azerbaijan\", \"Ukraine\", \"Dominican Republic\", \"Saint Lucia\", \"Tunisia\", \"Mongolia\", \"Lebanon\", \"Botswana\", \"Saint Vincent and the Grenadines\", \"Jamaica\", \"Venezuela (Bolivarian Republic of)\", \"Dominica\", \"Fiji\", \"Paraguay\", \"Suriname\", \"Jordan\", \"Belize\", \"Maldives\", \"Tonga\", \"Philippines\", \"Moldova (Republic of)\", \"Turkmenistan\", \"Uzbekistan\", \"Libya\", \"Indonesia\", \"Samoa\", \"South Africa\", \"Bolivia (Plurinational State of)\", \"Gabon\", \"Egypt\", \"Marshall Islands\", \"Viet Nam\", \"Palestine, State of\", \"Iraq\", \"Morocco\", \"Kyrgyzstan\", \"Guyana\", \"El Salvador\", \"Tajikistan\", \"Cabo Verde\", \"Guatemala\", \"Nicaragua\", \"India\", \"Namibia\", \"Timor-Leste\", \"Honduras\", \"Kiribati\", \"Bhutan\", \"Bangladesh\", \"Micronesia (Federated States of)\", \"Sao Tome and Principe\", \"Congo\", \"Eswatini (Kingdom of)\", \"Lao People's Democratic Republic\", \"Vanuatu\", \"Ghana\", \"Zambia\", \"Equatorial Guinea\", \"Myanmar\", \"Cambodia\", \"Kenya\", \"Nepal\", \"Angola\", \"Cameroon\", \"Zimbabwe\", \"Pakistan\", \"Solomon Islands\", \"Syrian Arab Republic\", \"Papua New Guinea\", \"Comoros\", \"Rwanda\", \"Nigeria\", \"Tanzania (United Republic of)\", \"Uganda\", \"Mauritania\", \"Madagascar\", \"Benin\", \"Lesotho\", \"C\\u00f4te d'Ivoire\", \"Senegal\", \"Togo\", \"Sudan\", \"Haiti\", \"Afghanistan\", \"Djibouti\", \"Malawi\", \"Ethiopia\", \"Gambia\", \"Guinea\", \"Liberia\", \"Yemen\", \"Guinea-Bissau\", \"Congo (Democratic Republic of the)\", \"Mozambique\", \"Sierra Leone\", \"Burkina Faso\", \"Eritrea\", \"Mali\", \"Burundi\", \"South Sudan\", \"Chad\", \"Central African Republic\", \"Niger\", \"Korea (Democratic People's Rep. of)\", \"Monaco\", \"Nauru\", \"San Marino\", \"Somalia\", \"Tuvalu\"], \"type\": \"choropleth\", \"visible\": true, \"z\": [0.9540000000000001, 0.946, 0.9420000000000001, 0.9390000000000001, 0.9390000000000001, 0.938, 0.938, 0.937, 0.935, 0.9329999999999999, 0.93, 0.925, 0.922, 0.9209999999999999, 0.92, 0.92, 0.919, 0.917, 0.915, 0.914, 0.909, 0.9059999999999999, 0.9059999999999999, 0.902, 0.893, 0.8909999999999999, 0.8909999999999999, 0.885, 0.883, 0.882, 0.873, 0.872, 0.872, 0.8690000000000001, 0.866, 0.857, 0.857, 0.857, 0.8540000000000001, 0.85, 0.848, 0.847, 0.845, 0.845, 0.838, 0.8370000000000001, 0.8340000000000001, 0.83, 0.8240000000000001, 0.8170000000000001, 0.8170000000000001, 0.816, 0.816, 0.816, 0.8140000000000001, 0.813, 0.8079999999999999, 0.8079999999999999, 0.8059999999999999, 0.805, 0.804, 0.8009999999999999, 0.799, 0.799, 0.797, 0.7959999999999999, 0.795, 0.794, 0.7909999999999999, 0.7859999999999999, 0.78, 0.778, 0.777, 0.7759999999999999, 0.769, 0.767, 0.765, 0.763, 0.7609999999999999, 0.7609999999999999, 0.76, 0.759, 0.759, 0.759, 0.758, 0.758, 0.754, 0.75, 0.745, 0.745, 0.7390000000000001, 0.735, 0.73, 0.728, 0.728, 0.726, 0.726, 0.7240000000000001, 0.7240000000000001, 0.7240000000000001, 0.7240000000000001, 0.723, 0.72, 0.7190000000000001, 0.7170000000000001, 0.7120000000000001, 0.711, 0.71, 0.71, 0.708, 0.7070000000000001, 0.7070000000000001, 0.705, 0.703, 0.7020000000000001, 0.7, 0.698, 0.693, 0.69, 0.6890000000000001, 0.6759999999999999, 0.674, 0.67, 0.667, 0.6559999999999999, 0.6509999999999999, 0.6509999999999999, 0.6509999999999999, 0.647, 0.645, 0.626, 0.623, 0.623, 0.617, 0.614, 0.614, 0.609, 0.608, 0.608, 0.604, 0.597, 0.596, 0.591, 0.588, 0.584, 0.581, 0.579, 0.579, 0.574, 0.563, 0.563, 0.56, 0.557, 0.5489999999999999, 0.5429999999999999, 0.5379999999999999, 0.536, 0.534, 0.528, 0.528, 0.527, 0.521, 0.52, 0.518, 0.516, 0.514, 0.513, 0.507, 0.503, 0.496, 0.495, 0.485, 0.47, 0.466, 0.466, 0.465, 0.46299999999999997, 0.461, 0.45899999999999996, 0.446, 0.43799999999999994, 0.434, 0.434, 0.42700000000000005, 0.423, 0.413, 0.401, 0.381, 0.377, null, null, null, null, null, null]}, {\"colorbar\": {\"len\": 200, \"lenmode\": \"pixels\", \"title\": {\"text\": \"Life_exp\"}}, \"colorscale\": [[0.0, \"rgb(12,51,131)\"], [0.25, \"rgb(10,136,186)\"], [0.5, \"rgb(242,211,56)\"], [0.75, \"rgb(242,143,56)\"], [1.0, \"rgb(217,30,30)\"]], \"locationmode\": \"country names\", \"locations\": [\"Norway\", \"Switzerland\", \"Ireland\", \"Germany\", \"Hong Kong, China (SAR)\", \"Australia\", \"Iceland\", \"Sweden\", \"Singapore\", \"Netherlands\", \"Denmark\", \"Finland\", \"Canada\", \"New Zealand\", \"United Kingdom\", \"United States\", \"Belgium\", \"Liechtenstein\", \"Japan\", \"Austria\", \"Luxembourg\", \"Israel\", \"Korea (Republic of)\", \"Slovenia\", \"Spain\", \"Czechia\", \"France\", \"Malta\", \"Italy\", \"Estonia\", \"Cyprus\", \"Greece\", \"Poland\", \"Lithuania\", \"United Arab Emirates\", \"Andorra\", \"Saudi Arabia\", \"Slovakia\", \"Latvia\", \"Portugal\", \"Qatar\", \"Chile\", \"Brunei Darussalam\", \"Hungary\", \"Bahrain\", \"Croatia\", \"Oman\", \"Argentina\", \"Russian Federation\", \"Belarus\", \"Kazakhstan\", \"Bulgaria\", \"Montenegro\", \"Romania\", \"Palau\", \"Barbados\", \"Kuwait\", \"Uruguay\", \"Turkey\", \"Bahamas\", \"Malaysia\", \"Seychelles\", \"Serbia\", \"Trinidad and Tobago\", \"Iran (Islamic Republic of)\", \"Mauritius\", \"Panama\", \"Costa Rica\", \"Albania\", \"Georgia\", \"Sri Lanka\", \"Cuba\", \"Saint Kitts and Nevis\", \"Antigua and Barbuda\", \"Bosnia and Herzegovina\", \"Mexico\", \"Thailand\", \"Grenada\", \"Brazil\", \"Colombia\", \"Armenia\", \"Algeria\", \"North Macedonia\", \"Peru\", \"China\", \"Ecuador\", \"Azerbaijan\", \"Ukraine\", \"Dominican Republic\", \"Saint Lucia\", \"Tunisia\", \"Mongolia\", \"Lebanon\", \"Botswana\", \"Saint Vincent and the Grenadines\", \"Jamaica\", \"Venezuela (Bolivarian Republic of)\", \"Dominica\", \"Fiji\", \"Paraguay\", \"Suriname\", \"Jordan\", \"Belize\", \"Maldives\", \"Tonga\", \"Philippines\", \"Moldova (Republic of)\", \"Turkmenistan\", \"Uzbekistan\", \"Libya\", \"Indonesia\", \"Samoa\", \"South Africa\", \"Bolivia (Plurinational State of)\", \"Gabon\", \"Egypt\", \"Marshall Islands\", \"Viet Nam\", \"Palestine, State of\", \"Iraq\", \"Morocco\", \"Kyrgyzstan\", \"Guyana\", \"El Salvador\", \"Tajikistan\", \"Cabo Verde\", \"Guatemala\", \"Nicaragua\", \"India\", \"Namibia\", \"Timor-Leste\", \"Honduras\", \"Kiribati\", \"Bhutan\", \"Bangladesh\", \"Micronesia (Federated States of)\", \"Sao Tome and Principe\", \"Congo\", \"Eswatini (Kingdom of)\", \"Lao People's Democratic Republic\", \"Vanuatu\", \"Ghana\", \"Zambia\", \"Equatorial Guinea\", \"Myanmar\", \"Cambodia\", \"Kenya\", \"Nepal\", \"Angola\", \"Cameroon\", \"Zimbabwe\", \"Pakistan\", \"Solomon Islands\", \"Syrian Arab Republic\", \"Papua New Guinea\", \"Comoros\", \"Rwanda\", \"Nigeria\", \"Tanzania (United Republic of)\", \"Uganda\", \"Mauritania\", \"Madagascar\", \"Benin\", \"Lesotho\", \"C\\u00f4te d'Ivoire\", \"Senegal\", \"Togo\", \"Sudan\", \"Haiti\", \"Afghanistan\", \"Djibouti\", \"Malawi\", \"Ethiopia\", \"Gambia\", \"Guinea\", \"Liberia\", \"Yemen\", \"Guinea-Bissau\", \"Congo (Democratic Republic of the)\", \"Mozambique\", \"Sierra Leone\", \"Burkina Faso\", \"Eritrea\", \"Mali\", \"Burundi\", \"South Sudan\", \"Chad\", \"Central African Republic\", \"Niger\", \"Korea (Democratic People's Rep. of)\", \"Monaco\", \"Nauru\", \"San Marino\", \"Somalia\", \"Tuvalu\"], \"marker\": {\"line\": {\"color\": \"darkgray\", \"width\": 0.5}}, \"reversescale\": true, \"text\": [\"Norway\", \"Switzerland\", \"Ireland\", \"Germany\", \"Hong Kong, China (SAR)\", \"Australia\", \"Iceland\", \"Sweden\", \"Singapore\", \"Netherlands\", \"Denmark\", \"Finland\", \"Canada\", \"New Zealand\", \"United Kingdom\", \"United States\", \"Belgium\", \"Liechtenstein\", \"Japan\", \"Austria\", \"Luxembourg\", \"Israel\", \"Korea (Republic of)\", \"Slovenia\", \"Spain\", \"Czechia\", \"France\", \"Malta\", \"Italy\", \"Estonia\", \"Cyprus\", \"Greece\", \"Poland\", \"Lithuania\", \"United Arab Emirates\", \"Andorra\", \"Saudi Arabia\", \"Slovakia\", \"Latvia\", \"Portugal\", \"Qatar\", \"Chile\", \"Brunei Darussalam\", \"Hungary\", \"Bahrain\", \"Croatia\", \"Oman\", \"Argentina\", \"Russian Federation\", \"Belarus\", \"Kazakhstan\", \"Bulgaria\", \"Montenegro\", \"Romania\", \"Palau\", \"Barbados\", \"Kuwait\", \"Uruguay\", \"Turkey\", \"Bahamas\", \"Malaysia\", \"Seychelles\", \"Serbia\", \"Trinidad and Tobago\", \"Iran (Islamic Republic of)\", \"Mauritius\", \"Panama\", \"Costa Rica\", \"Albania\", \"Georgia\", \"Sri Lanka\", \"Cuba\", \"Saint Kitts and Nevis\", \"Antigua and Barbuda\", \"Bosnia and Herzegovina\", \"Mexico\", \"Thailand\", \"Grenada\", \"Brazil\", \"Colombia\", \"Armenia\", \"Algeria\", \"North Macedonia\", \"Peru\", \"China\", \"Ecuador\", \"Azerbaijan\", \"Ukraine\", \"Dominican Republic\", \"Saint Lucia\", \"Tunisia\", \"Mongolia\", \"Lebanon\", \"Botswana\", \"Saint Vincent and the Grenadines\", \"Jamaica\", \"Venezuela (Bolivarian Republic of)\", \"Dominica\", \"Fiji\", \"Paraguay\", \"Suriname\", \"Jordan\", \"Belize\", \"Maldives\", \"Tonga\", \"Philippines\", \"Moldova (Republic of)\", \"Turkmenistan\", \"Uzbekistan\", \"Libya\", \"Indonesia\", \"Samoa\", \"South Africa\", \"Bolivia (Plurinational State of)\", \"Gabon\", \"Egypt\", \"Marshall Islands\", \"Viet Nam\", \"Palestine, State of\", \"Iraq\", \"Morocco\", \"Kyrgyzstan\", \"Guyana\", \"El Salvador\", \"Tajikistan\", \"Cabo Verde\", \"Guatemala\", \"Nicaragua\", \"India\", \"Namibia\", \"Timor-Leste\", \"Honduras\", \"Kiribati\", \"Bhutan\", \"Bangladesh\", \"Micronesia (Federated States of)\", \"Sao Tome and Principe\", \"Congo\", \"Eswatini (Kingdom of)\", \"Lao People's Democratic Republic\", \"Vanuatu\", \"Ghana\", \"Zambia\", \"Equatorial Guinea\", \"Myanmar\", \"Cambodia\", \"Kenya\", \"Nepal\", \"Angola\", \"Cameroon\", \"Zimbabwe\", \"Pakistan\", \"Solomon Islands\", \"Syrian Arab Republic\", \"Papua New Guinea\", \"Comoros\", \"Rwanda\", \"Nigeria\", \"Tanzania (United Republic of)\", \"Uganda\", \"Mauritania\", \"Madagascar\", \"Benin\", \"Lesotho\", \"C\\u00f4te d'Ivoire\", \"Senegal\", \"Togo\", \"Sudan\", \"Haiti\", \"Afghanistan\", \"Djibouti\", \"Malawi\", \"Ethiopia\", \"Gambia\", \"Guinea\", \"Liberia\", \"Yemen\", \"Guinea-Bissau\", \"Congo (Democratic Republic of the)\", \"Mozambique\", \"Sierra Leone\", \"Burkina Faso\", \"Eritrea\", \"Mali\", \"Burundi\", \"South Sudan\", \"Chad\", \"Central African Republic\", \"Niger\", \"Korea (Democratic People's Rep. of)\", \"Monaco\", \"Nauru\", \"San Marino\", \"Somalia\", \"Tuvalu\"], \"type\": \"choropleth\", \"visible\": false, \"z\": [82.3, 83.6, 82.1, 81.2, 84.7, 83.3, 82.9, 82.7, 83.5, 82.1, 80.8, 81.7, 82.3, 82.1, 81.2, 78.9, 81.5, 80.5, 84.5, 81.4, 82.1, 82.8, 82.8, 81.2, 83.4, 79.2, 82.5, 82.4, 83.4, 78.6, 80.8, 82.1, 78.5, 75.7, 77.8, 81.8, 75.0, 77.4, 75.2, 81.9, 80.1, 80.0, 75.7, 76.7, 77.2, 78.3, 77.6, 76.5, 72.4, 74.6, 73.2, 74.9, 76.8, 75.9, 73.7, 79.1, 75.4, 77.8, 77.4, 73.8, 76.0, 73.3, 75.8, 73.4, 76.5, 74.9, 78.3, 80.1, 78.5, 73.6, 76.8, 78.7, 74.6, 76.9, 77.3, 75.0, 76.9, 72.4, 75.7, 77.1, 74.9, 76.7, 75.7, 76.5, 76.7, 76.8, 72.9, 72.0, 73.9, 76.1, 76.5, 69.7, 78.9, 69.3, 72.4, 74.4, 72.1, 78.1, 67.3, 74.1, 71.6, 74.4, 74.5, 78.6, 70.8, 71.1, 71.8, 68.1, 71.6, 72.7, 71.5, 73.2, 63.9, 71.2, 66.2, 71.8, 73.9, 75.3, 73.9, 70.5, 76.5, 71.3, 69.8, 73.1, 70.9, 72.8, 74.1, 74.3, 69.4, 63.4, 69.3, 75.1, 68.1, 71.5, 72.3, 67.8, 70.2, 64.3, 59.4, 67.6, 70.3, 63.8, 63.5, 58.4, 66.9, 69.6, 66.3, 70.5, 60.8, 58.9, 61.2, 67.1, 72.8, 71.8, 64.3, 64.1, 68.7, 54.3, 65.0, 63.0, 64.7, 66.7, 61.5, 53.7, 57.4, 67.7, 60.8, 65.1, 63.7, 64.5, 66.6, 63.8, 66.2, 61.7, 61.2, 63.7, 66.1, 58.0, 60.4, 60.2, 54.3, 61.2, 65.9, 58.9, 61.2, 57.6, 54.0, 52.8, 62.0, 72.1, null, null, null, 57.1, null]}, {\"colorbar\": {\"len\": 200, \"lenmode\": \"pixels\", \"title\": {\"text\": \"Mean_sch\"}}, \"colorscale\": [[0.0, \"rgb(12,51,131)\"], [0.25, \"rgb(10,136,186)\"], [0.5, \"rgb(242,211,56)\"], [0.75, \"rgb(242,143,56)\"], [1.0, \"rgb(217,30,30)\"]], \"locationmode\": \"country names\", \"locations\": [\"Norway\", \"Switzerland\", \"Ireland\", \"Germany\", \"Hong Kong, China (SAR)\", \"Australia\", \"Iceland\", \"Sweden\", \"Singapore\", \"Netherlands\", \"Denmark\", \"Finland\", \"Canada\", \"New Zealand\", \"United Kingdom\", \"United States\", \"Belgium\", \"Liechtenstein\", \"Japan\", \"Austria\", \"Luxembourg\", \"Israel\", \"Korea (Republic of)\", \"Slovenia\", \"Spain\", \"Czechia\", \"France\", \"Malta\", \"Italy\", \"Estonia\", \"Cyprus\", \"Greece\", \"Poland\", \"Lithuania\", \"United Arab Emirates\", \"Andorra\", \"Saudi Arabia\", \"Slovakia\", \"Latvia\", \"Portugal\", \"Qatar\", \"Chile\", \"Brunei Darussalam\", \"Hungary\", \"Bahrain\", \"Croatia\", \"Oman\", \"Argentina\", \"Russian Federation\", \"Belarus\", \"Kazakhstan\", \"Bulgaria\", \"Montenegro\", \"Romania\", \"Palau\", \"Barbados\", \"Kuwait\", \"Uruguay\", \"Turkey\", \"Bahamas\", \"Malaysia\", \"Seychelles\", \"Serbia\", \"Trinidad and Tobago\", \"Iran (Islamic Republic of)\", \"Mauritius\", \"Panama\", \"Costa Rica\", \"Albania\", \"Georgia\", \"Sri Lanka\", \"Cuba\", \"Saint Kitts and Nevis\", \"Antigua and Barbuda\", \"Bosnia and Herzegovina\", \"Mexico\", \"Thailand\", \"Grenada\", \"Brazil\", \"Colombia\", \"Armenia\", \"Algeria\", \"North Macedonia\", \"Peru\", \"China\", \"Ecuador\", \"Azerbaijan\", \"Ukraine\", \"Dominican Republic\", \"Saint Lucia\", \"Tunisia\", \"Mongolia\", \"Lebanon\", \"Botswana\", \"Saint Vincent and the Grenadines\", \"Jamaica\", \"Venezuela (Bolivarian Republic of)\", \"Dominica\", \"Fiji\", \"Paraguay\", \"Suriname\", \"Jordan\", \"Belize\", \"Maldives\", \"Tonga\", \"Philippines\", \"Moldova (Republic of)\", \"Turkmenistan\", \"Uzbekistan\", \"Libya\", \"Indonesia\", \"Samoa\", \"South Africa\", \"Bolivia (Plurinational State of)\", \"Gabon\", \"Egypt\", \"Marshall Islands\", \"Viet Nam\", \"Palestine, State of\", \"Iraq\", \"Morocco\", \"Kyrgyzstan\", \"Guyana\", \"El Salvador\", \"Tajikistan\", \"Cabo Verde\", \"Guatemala\", \"Nicaragua\", \"India\", \"Namibia\", \"Timor-Leste\", \"Honduras\", \"Kiribati\", \"Bhutan\", \"Bangladesh\", \"Micronesia (Federated States of)\", \"Sao Tome and Principe\", \"Congo\", \"Eswatini (Kingdom of)\", \"Lao People's Democratic Republic\", \"Vanuatu\", \"Ghana\", \"Zambia\", \"Equatorial Guinea\", \"Myanmar\", \"Cambodia\", \"Kenya\", \"Nepal\", \"Angola\", \"Cameroon\", \"Zimbabwe\", \"Pakistan\", \"Solomon Islands\", \"Syrian Arab Republic\", \"Papua New Guinea\", \"Comoros\", \"Rwanda\", \"Nigeria\", \"Tanzania (United Republic of)\", \"Uganda\", \"Mauritania\", \"Madagascar\", \"Benin\", \"Lesotho\", \"C\\u00f4te d'Ivoire\", \"Senegal\", \"Togo\", \"Sudan\", \"Haiti\", \"Afghanistan\", \"Djibouti\", \"Malawi\", \"Ethiopia\", \"Gambia\", \"Guinea\", \"Liberia\", \"Yemen\", \"Guinea-Bissau\", \"Congo (Democratic Republic of the)\", \"Mozambique\", \"Sierra Leone\", \"Burkina Faso\", \"Eritrea\", \"Mali\", \"Burundi\", \"South Sudan\", \"Chad\", \"Central African Republic\", \"Niger\", \"Korea (Democratic People's Rep. of)\", \"Monaco\", \"Nauru\", \"San Marino\", \"Somalia\", \"Tuvalu\"], \"marker\": {\"line\": {\"color\": \"darkgray\", \"width\": 0.5}}, \"reversescale\": true, \"text\": [\"Norway\", \"Switzerland\", \"Ireland\", \"Germany\", \"Hong Kong, China (SAR)\", \"Australia\", \"Iceland\", \"Sweden\", \"Singapore\", \"Netherlands\", \"Denmark\", \"Finland\", \"Canada\", \"New Zealand\", \"United Kingdom\", \"United States\", \"Belgium\", \"Liechtenstein\", \"Japan\", \"Austria\", \"Luxembourg\", \"Israel\", \"Korea (Republic of)\", \"Slovenia\", \"Spain\", \"Czechia\", \"France\", \"Malta\", \"Italy\", \"Estonia\", \"Cyprus\", \"Greece\", \"Poland\", \"Lithuania\", \"United Arab Emirates\", \"Andorra\", \"Saudi Arabia\", \"Slovakia\", \"Latvia\", \"Portugal\", \"Qatar\", \"Chile\", \"Brunei Darussalam\", \"Hungary\", \"Bahrain\", \"Croatia\", \"Oman\", \"Argentina\", \"Russian Federation\", \"Belarus\", \"Kazakhstan\", \"Bulgaria\", \"Montenegro\", \"Romania\", \"Palau\", \"Barbados\", \"Kuwait\", \"Uruguay\", \"Turkey\", \"Bahamas\", \"Malaysia\", \"Seychelles\", \"Serbia\", \"Trinidad and Tobago\", \"Iran (Islamic Republic of)\", \"Mauritius\", \"Panama\", \"Costa Rica\", \"Albania\", \"Georgia\", \"Sri Lanka\", \"Cuba\", \"Saint Kitts and Nevis\", \"Antigua and Barbuda\", \"Bosnia and Herzegovina\", \"Mexico\", \"Thailand\", \"Grenada\", \"Brazil\", \"Colombia\", \"Armenia\", \"Algeria\", \"North Macedonia\", \"Peru\", \"China\", \"Ecuador\", \"Azerbaijan\", \"Ukraine\", \"Dominican Republic\", \"Saint Lucia\", \"Tunisia\", \"Mongolia\", \"Lebanon\", \"Botswana\", \"Saint Vincent and the Grenadines\", \"Jamaica\", \"Venezuela (Bolivarian Republic of)\", \"Dominica\", \"Fiji\", \"Paraguay\", \"Suriname\", \"Jordan\", \"Belize\", \"Maldives\", \"Tonga\", \"Philippines\", \"Moldova (Republic of)\", \"Turkmenistan\", \"Uzbekistan\", \"Libya\", \"Indonesia\", \"Samoa\", \"South Africa\", \"Bolivia (Plurinational State of)\", \"Gabon\", \"Egypt\", \"Marshall Islands\", \"Viet Nam\", \"Palestine, State of\", \"Iraq\", \"Morocco\", \"Kyrgyzstan\", \"Guyana\", \"El Salvador\", \"Tajikistan\", \"Cabo Verde\", \"Guatemala\", \"Nicaragua\", \"India\", \"Namibia\", \"Timor-Leste\", \"Honduras\", \"Kiribati\", \"Bhutan\", \"Bangladesh\", \"Micronesia (Federated States of)\", \"Sao Tome and Principe\", \"Congo\", \"Eswatini (Kingdom of)\", \"Lao People's Democratic Republic\", \"Vanuatu\", \"Ghana\", \"Zambia\", \"Equatorial Guinea\", \"Myanmar\", \"Cambodia\", \"Kenya\", \"Nepal\", \"Angola\", \"Cameroon\", \"Zimbabwe\", \"Pakistan\", \"Solomon Islands\", \"Syrian Arab Republic\", \"Papua New Guinea\", \"Comoros\", \"Rwanda\", \"Nigeria\", \"Tanzania (United Republic of)\", \"Uganda\", \"Mauritania\", \"Madagascar\", \"Benin\", \"Lesotho\", \"C\\u00f4te d'Ivoire\", \"Senegal\", \"Togo\", \"Sudan\", \"Haiti\", \"Afghanistan\", \"Djibouti\", \"Malawi\", \"Ethiopia\", \"Gambia\", \"Guinea\", \"Liberia\", \"Yemen\", \"Guinea-Bissau\", \"Congo (Democratic Republic of the)\", \"Mozambique\", \"Sierra Leone\", \"Burkina Faso\", \"Eritrea\", \"Mali\", \"Burundi\", \"South Sudan\", \"Chad\", \"Central African Republic\", \"Niger\", \"Korea (Democratic People's Rep. of)\", \"Monaco\", \"Nauru\", \"San Marino\", \"Somalia\", \"Tuvalu\"], \"type\": \"choropleth\", \"visible\": false, \"z\": [12.6, 13.4, 12.5, 14.1, 12.0, 12.7, 12.5, 12.4, 11.5, 12.2, 12.6, 12.4, 13.3, 12.7, 13.0, 13.4, 11.8, 12.5, 12.8, 12.6, 12.2, 13.0, 12.2, 12.3, 9.8, 12.7, 11.4, 11.3, 10.2, 13.0, 12.1, 10.5, 12.3, 13.0, 11.0, 10.2, 9.7, 12.6, 12.8, 9.2, 9.7, 10.4, 9.1, 11.9, 9.4, 11.4, 9.7, 10.6, 12.0, 12.3, 11.8, 11.8, 11.4, 11.0, 12.4, 10.6, 7.3, 8.7, 7.7, 11.5, 10.2, 9.7, 11.2, 11.0, 10.0, 9.4, 10.2, 8.7, 10.1, 12.8, 11.1, 11.8, 8.5, 9.3, 9.7, 8.6, 7.7, 8.8, 7.8, 8.3, 11.8, 8.0, 9.7, 9.2, 7.9, 9.0, 10.5, 11.3, 7.9, 8.5, 7.2, 10.2, 8.7, 9.3, 8.6, 9.8, 10.3, 7.8, 10.9, 8.5, 9.1, 10.5, 9.8, 6.8, 11.2, 9.4, 11.6, 9.8, 11.5, 7.6, 8.0, 10.6, 10.2, 9.0, 8.3, 7.3, 10.9, 8.2, 9.1, 7.3, 5.5, 10.9, 8.5, 6.9, 10.7, 6.2, 6.5, 6.8, 6.5, 6.9, 4.5, 6.6, 7.9, 3.1, 6.1, 7.7, 6.4, 6.5, 6.7, 5.2, 6.8, 7.2, 7.1, 5.6, 5.0, 4.8, 6.6, 4.9, 5.1, 6.3, 8.3, 5.2, 5.5, 5.1, 4.6, 4.9, 4.4, 6.5, 6.0, 6.1, 4.6, 6.1, 3.8, 6.3, 5.2, 3.1, 4.9, 3.7, 5.4, 3.9, 4.0, 4.6, 2.8, 3.7, 2.7, 4.7, 3.2, 3.3, 6.8, 3.5, 3.6, 1.6, 3.9, 2.4, 3.1, 4.8, 2.4, 4.3, 2.0, null, null, null, null, null, null]}],                        {\"template\": {\"data\": {\"bar\": [{\"error_x\": {\"color\": \"#2a3f5f\"}, \"error_y\": {\"color\": \"#2a3f5f\"}, \"marker\": {\"line\": {\"color\": \"#E5ECF6\", \"width\": 0.5}}, \"type\": \"bar\"}], \"barpolar\": [{\"marker\": {\"line\": {\"color\": \"#E5ECF6\", \"width\": 0.5}}, \"type\": \"barpolar\"}], \"carpet\": [{\"aaxis\": {\"endlinecolor\": \"#2a3f5f\", \"gridcolor\": \"white\", \"linecolor\": \"white\", \"minorgridcolor\": \"white\", \"startlinecolor\": \"#2a3f5f\"}, \"baxis\": {\"endlinecolor\": \"#2a3f5f\", \"gridcolor\": \"white\", \"linecolor\": \"white\", \"minorgridcolor\": \"white\", \"startlinecolor\": \"#2a3f5f\"}, \"type\": \"carpet\"}], \"choropleth\": [{\"colorbar\": {\"outlinewidth\": 0, \"ticks\": \"\"}, \"type\": \"choropleth\"}], \"contour\": [{\"colorbar\": {\"outlinewidth\": 0, \"ticks\": \"\"}, \"colorscale\": [[0.0, \"#0d0887\"], [0.1111111111111111, \"#46039f\"], [0.2222222222222222, \"#7201a8\"], [0.3333333333333333, \"#9c179e\"], [0.4444444444444444, \"#bd3786\"], [0.5555555555555556, \"#d8576b\"], [0.6666666666666666, \"#ed7953\"], [0.7777777777777778, \"#fb9f3a\"], [0.8888888888888888, \"#fdca26\"], [1.0, \"#f0f921\"]], \"type\": \"contour\"}], \"contourcarpet\": [{\"colorbar\": {\"outlinewidth\": 0, \"ticks\": \"\"}, \"type\": \"contourcarpet\"}], \"heatmap\": [{\"colorbar\": {\"outlinewidth\": 0, \"ticks\": \"\"}, \"colorscale\": [[0.0, \"#0d0887\"], [0.1111111111111111, \"#46039f\"], [0.2222222222222222, \"#7201a8\"], [0.3333333333333333, \"#9c179e\"], [0.4444444444444444, \"#bd3786\"], [0.5555555555555556, \"#d8576b\"], [0.6666666666666666, \"#ed7953\"], [0.7777777777777778, \"#fb9f3a\"], [0.8888888888888888, \"#fdca26\"], [1.0, \"#f0f921\"]], \"type\": \"heatmap\"}], \"heatmapgl\": [{\"colorbar\": {\"outlinewidth\": 0, \"ticks\": \"\"}, \"colorscale\": [[0.0, \"#0d0887\"], [0.1111111111111111, \"#46039f\"], [0.2222222222222222, \"#7201a8\"], [0.3333333333333333, \"#9c179e\"], [0.4444444444444444, \"#bd3786\"], [0.5555555555555556, \"#d8576b\"], [0.6666666666666666, \"#ed7953\"], [0.7777777777777778, \"#fb9f3a\"], [0.8888888888888888, \"#fdca26\"], [1.0, \"#f0f921\"]], \"type\": \"heatmapgl\"}], \"histogram\": [{\"marker\": {\"colorbar\": {\"outlinewidth\": 0, \"ticks\": \"\"}}, \"type\": \"histogram\"}], \"histogram2d\": [{\"colorbar\": {\"outlinewidth\": 0, \"ticks\": \"\"}, \"colorscale\": [[0.0, \"#0d0887\"], [0.1111111111111111, \"#46039f\"], [0.2222222222222222, \"#7201a8\"], [0.3333333333333333, \"#9c179e\"], [0.4444444444444444, \"#bd3786\"], [0.5555555555555556, \"#d8576b\"], [0.6666666666666666, \"#ed7953\"], [0.7777777777777778, \"#fb9f3a\"], [0.8888888888888888, \"#fdca26\"], [1.0, \"#f0f921\"]], \"type\": \"histogram2d\"}], \"histogram2dcontour\": [{\"colorbar\": {\"outlinewidth\": 0, \"ticks\": \"\"}, \"colorscale\": [[0.0, \"#0d0887\"], [0.1111111111111111, \"#46039f\"], [0.2222222222222222, \"#7201a8\"], [0.3333333333333333, \"#9c179e\"], [0.4444444444444444, \"#bd3786\"], [0.5555555555555556, \"#d8576b\"], [0.6666666666666666, \"#ed7953\"], [0.7777777777777778, \"#fb9f3a\"], [0.8888888888888888, \"#fdca26\"], [1.0, \"#f0f921\"]], \"type\": \"histogram2dcontour\"}], \"mesh3d\": [{\"colorbar\": {\"outlinewidth\": 0, \"ticks\": \"\"}, \"type\": \"mesh3d\"}], \"parcoords\": [{\"line\": {\"colorbar\": {\"outlinewidth\": 0, \"ticks\": \"\"}}, \"type\": \"parcoords\"}], \"pie\": [{\"automargin\": true, \"type\": \"pie\"}], \"scatter\": [{\"marker\": {\"colorbar\": {\"outlinewidth\": 0, \"ticks\": \"\"}}, \"type\": \"scatter\"}], \"scatter3d\": [{\"line\": {\"colorbar\": {\"outlinewidth\": 0, \"ticks\": \"\"}}, \"marker\": {\"colorbar\": {\"outlinewidth\": 0, \"ticks\": \"\"}}, \"type\": \"scatter3d\"}], \"scattercarpet\": [{\"marker\": {\"colorbar\": {\"outlinewidth\": 0, \"ticks\": \"\"}}, \"type\": \"scattercarpet\"}], \"scattergeo\": [{\"marker\": {\"colorbar\": {\"outlinewidth\": 0, \"ticks\": \"\"}}, \"type\": \"scattergeo\"}], \"scattergl\": [{\"marker\": {\"colorbar\": {\"outlinewidth\": 0, \"ticks\": \"\"}}, \"type\": \"scattergl\"}], \"scattermapbox\": [{\"marker\": {\"colorbar\": {\"outlinewidth\": 0, \"ticks\": \"\"}}, \"type\": \"scattermapbox\"}], \"scatterpolar\": [{\"marker\": {\"colorbar\": {\"outlinewidth\": 0, \"ticks\": \"\"}}, \"type\": \"scatterpolar\"}], \"scatterpolargl\": [{\"marker\": {\"colorbar\": {\"outlinewidth\": 0, \"ticks\": \"\"}}, \"type\": \"scatterpolargl\"}], \"scatterternary\": [{\"marker\": {\"colorbar\": {\"outlinewidth\": 0, \"ticks\": \"\"}}, \"type\": \"scatterternary\"}], \"surface\": [{\"colorbar\": {\"outlinewidth\": 0, \"ticks\": \"\"}, \"colorscale\": [[0.0, \"#0d0887\"], [0.1111111111111111, \"#46039f\"], [0.2222222222222222, \"#7201a8\"], [0.3333333333333333, \"#9c179e\"], [0.4444444444444444, \"#bd3786\"], [0.5555555555555556, \"#d8576b\"], [0.6666666666666666, \"#ed7953\"], [0.7777777777777778, \"#fb9f3a\"], [0.8888888888888888, \"#fdca26\"], [1.0, \"#f0f921\"]], \"type\": \"surface\"}], \"table\": [{\"cells\": {\"fill\": {\"color\": \"#EBF0F8\"}, \"line\": {\"color\": \"white\"}}, \"header\": {\"fill\": {\"color\": \"#C8D4E3\"}, \"line\": {\"color\": \"white\"}}, \"type\": \"table\"}]}, \"layout\": {\"annotationdefaults\": {\"arrowcolor\": \"#2a3f5f\", \"arrowhead\": 0, \"arrowwidth\": 1}, \"coloraxis\": {\"colorbar\": {\"outlinewidth\": 0, \"ticks\": \"\"}}, \"colorscale\": {\"diverging\": [[0, \"#8e0152\"], [0.1, \"#c51b7d\"], [0.2, \"#de77ae\"], [0.3, \"#f1b6da\"], [0.4, \"#fde0ef\"], [0.5, \"#f7f7f7\"], [0.6, \"#e6f5d0\"], [0.7, \"#b8e186\"], [0.8, \"#7fbc41\"], [0.9, \"#4d9221\"], [1, \"#276419\"]], \"sequential\": [[0.0, \"#0d0887\"], [0.1111111111111111, \"#46039f\"], [0.2222222222222222, \"#7201a8\"], [0.3333333333333333, \"#9c179e\"], [0.4444444444444444, \"#bd3786\"], [0.5555555555555556, \"#d8576b\"], [0.6666666666666666, \"#ed7953\"], [0.7777777777777778, \"#fb9f3a\"], [0.8888888888888888, \"#fdca26\"], [1.0, \"#f0f921\"]], \"sequentialminus\": [[0.0, \"#0d0887\"], [0.1111111111111111, \"#46039f\"], [0.2222222222222222, \"#7201a8\"], [0.3333333333333333, \"#9c179e\"], [0.4444444444444444, \"#bd3786\"], [0.5555555555555556, \"#d8576b\"], [0.6666666666666666, \"#ed7953\"], [0.7777777777777778, \"#fb9f3a\"], [0.8888888888888888, \"#fdca26\"], [1.0, \"#f0f921\"]]}, \"colorway\": [\"#636efa\", \"#EF553B\", \"#00cc96\", \"#ab63fa\", \"#FFA15A\", \"#19d3f3\", \"#FF6692\", \"#B6E880\", \"#FF97FF\", \"#FECB52\"], \"font\": {\"color\": \"#2a3f5f\"}, \"geo\": {\"bgcolor\": \"white\", \"lakecolor\": \"white\", \"landcolor\": \"#E5ECF6\", \"showlakes\": true, \"showland\": true, \"subunitcolor\": \"white\"}, \"hoverlabel\": {\"align\": \"left\"}, \"hovermode\": \"closest\", \"mapbox\": {\"style\": \"light\"}, \"paper_bgcolor\": \"white\", \"plot_bgcolor\": \"#E5ECF6\", \"polar\": {\"angularaxis\": {\"gridcolor\": \"white\", \"linecolor\": \"white\", \"ticks\": \"\"}, \"bgcolor\": \"#E5ECF6\", \"radialaxis\": {\"gridcolor\": \"white\", \"linecolor\": \"white\", \"ticks\": \"\"}}, \"scene\": {\"xaxis\": {\"backgroundcolor\": \"#E5ECF6\", \"gridcolor\": \"white\", \"gridwidth\": 2, \"linecolor\": \"white\", \"showbackground\": true, \"ticks\": \"\", \"zerolinecolor\": \"white\"}, \"yaxis\": {\"backgroundcolor\": \"#E5ECF6\", \"gridcolor\": \"white\", \"gridwidth\": 2, \"linecolor\": \"white\", \"showbackground\": true, \"ticks\": \"\", \"zerolinecolor\": \"white\"}, \"zaxis\": {\"backgroundcolor\": \"#E5ECF6\", \"gridcolor\": \"white\", \"gridwidth\": 2, \"linecolor\": \"white\", \"showbackground\": true, \"ticks\": \"\", \"zerolinecolor\": \"white\"}}, \"shapedefaults\": {\"line\": {\"color\": \"#2a3f5f\"}}, \"ternary\": {\"aaxis\": {\"gridcolor\": \"white\", \"linecolor\": \"white\", \"ticks\": \"\"}, \"baxis\": {\"gridcolor\": \"white\", \"linecolor\": \"white\", \"ticks\": \"\"}, \"bgcolor\": \"#E5ECF6\", \"caxis\": {\"gridcolor\": \"white\", \"linecolor\": \"white\", \"ticks\": \"\"}}, \"title\": {\"x\": 0.05}, \"xaxis\": {\"automargin\": true, \"gridcolor\": \"white\", \"linecolor\": \"white\", \"ticks\": \"\", \"title\": {\"standoff\": 15}, \"zerolinecolor\": \"white\", \"zerolinewidth\": 2}, \"yaxis\": {\"automargin\": true, \"gridcolor\": \"white\", \"linecolor\": \"white\", \"ticks\": \"\", \"title\": {\"standoff\": 15}, \"zerolinecolor\": \"white\", \"zerolinewidth\": 2}}}, \"title\": {\"text\": \"Title\"}, \"updatemenus\": [{\"buttons\": [{\"args\": [{\"visible\": [true, false, false, false]}], \"label\": \"HDI\", \"method\": \"update\"}, {\"args\": [{\"visible\": [false, true, false, false]}], \"label\": \"Life_exp\", \"method\": \"update\"}, {\"args\": [{\"visible\": [false, false, true, false]}], \"label\": \"Mean_sch\", \"method\": \"update\"}, {\"args\": [{\"visible\": [false, false, false, true]}], \"label\": \"GNI_percap\", \"method\": \"update\"}], \"direction\": \"down\", \"font\": {\"size\": 11}, \"x\": 0.01, \"xanchor\": \"left\", \"y\": 0.99, \"yanchor\": \"bottom\"}]},                        {\"responsive\": true}                    ).then(function(){\n",
       "                            \n",
       "var gd = document.getElementById('f81b9261-2a17-4f3b-a84b-949f50f0ab37');\n",
       "var x = new MutationObserver(function (mutations, observer) {{\n",
       "        var display = window.getComputedStyle(gd).display;\n",
       "        if (!display || display === 'none') {{\n",
       "            console.log([gd, 'removed!']);\n",
       "            Plotly.purge(gd);\n",
       "            observer.disconnect();\n",
       "        }}\n",
       "}});\n",
       "\n",
       "// Listen for the removal of the full notebook cells\n",
       "var notebookContainer = gd.closest('#notebook-container');\n",
       "if (notebookContainer) {{\n",
       "    x.observe(notebookContainer, {childList: true});\n",
       "}}\n",
       "\n",
       "// Listen for the clearing of the current output cell\n",
       "var outputEl = gd.closest('.output');\n",
       "if (outputEl) {{\n",
       "    x.observe(outputEl, {childList: true});\n",
       "}}\n",
       "\n",
       "                        })                };                });            </script>        </div>"
      ]
     },
     "metadata": {},
     "output_type": "display_data"
    }
   ],
   "source": [
    "import numpy as np\n",
    "\n",
    "# Create initial map first\n",
    "# How to put all the data in the map, with only one visible?\n",
    "# Maybe make a fig, then add chloropeths to it?\n",
    "traces=[]\n",
    "metrics = np.array(['HDI','Life_exp','Mean_sch'])\n",
    "for metric in metrics:\n",
    "    traces.append(go.Choropleth(locations=hdi['Country'].tolist(),\n",
    "                                locationmode='country names',\n",
    "                                z=hdi[metric],\n",
    "                                colorscale='Portland',\n",
    "                                marker_line_color='darkgray',\n",
    "                                marker_line_width=0.5,\n",
    "                                text= hdi.Country.tolist(),\n",
    "                                reversescale=True,\n",
    "                                colorbar = {'title':metric, 'len':200,'lenmode':'pixels' },\n",
    "                                visible=True if metric=='HDI' else False)\n",
    "                 )\n",
    "    \n",
    "data = dict(type = 'choropleth',\n",
    "            locations = hdi.Country.tolist(),\n",
    "            locationmode = 'country names',\n",
    "            colorscale= 'Portland',\n",
    "            marker_line_color='darkgray',\n",
    "            marker_line_width=0.5,\n",
    "            reversescale=True,\n",
    "            z=hdi.HDI.tolist(),\n",
    "            colorbar = {'title':metric, 'len':200,'lenmode':'pixels' })\n",
    "\n",
    "\n",
    "updatemenus = []\n",
    "metrics = np.array(['HDI','Life_exp','Mean_sch','GNI_percap'])\n",
    "\n",
    "buttons=[]\n",
    "for metric in metrics:\n",
    "    # May also need colorbox title?\n",
    "    buttons.append(dict(method='update',\n",
    "                        label=metric,\n",
    "                        args=[{'visible': metrics==metric}])\n",
    "                  )\n",
    "    \n",
    "dropdown = dict(buttons=buttons, direction='down',x = 0.01,xanchor = 'left',\n",
    "                y = 0.99,yanchor = 'bottom',font = dict(size=11))\n",
    "updatemenus=[dropdown] # If we want multiple dropdowns, add em to the list!\n",
    "layout = dict(updatemenus=updatemenus,\n",
    "              title='Title')\n",
    "    \n",
    "col_map = go.Figure(data = traces,layout = layout)\n",
    "iplot(col_map)"
   ]
  },
  {
   "cell_type": "code",
   "execution_count": null,
   "metadata": {},
   "outputs": [],
   "source": [
    "data = dict(type = 'choropleth',\n",
    "            locations = hdi.Country.tolist(),\n",
    "            locationmode = 'country names',\n",
    "            colorscale= 'Portland',\n",
    "            text= hdi.Country.tolist(),\n",
    "            z=hdi.HDI.tolist(),\n",
    "            colorbar = {'title':'HDI', 'len':200,'lenmode':'pixels' })\n",
    "\n",
    "layout = dict(geo = {'scope':'world'}, title = 'Human Development Index')\n",
    "col_map = go.Figure(data = [data],layout = layout)\n",
    "iplot(col_map)"
   ]
  }
 ],
 "metadata": {
  "kernelspec": {
   "display_name": "Python 3",
   "language": "python",
   "name": "python3"
  },
  "language_info": {
   "codemirror_mode": {
    "name": "ipython",
    "version": 3
   },
   "file_extension": ".py",
   "mimetype": "text/x-python",
   "name": "python",
   "nbconvert_exporter": "python",
   "pygments_lexer": "ipython3",
   "version": "3.7.4"
  }
 },
 "nbformat": 4,
 "nbformat_minor": 4
}
