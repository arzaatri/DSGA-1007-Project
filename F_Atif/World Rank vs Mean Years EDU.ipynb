{
 "cells": [
  {
   "cell_type": "code",
   "execution_count": null,
   "metadata": {},
   "outputs": [],
   "source": [
    "import pandas as pd\n",
    "import numpy as np\n",
    "import json\n",
    "import plotly.express as px\n",
    "\n",
    "import plotly.io as pio\n",
    "from plotly import graph_objects"
   ]
  },
  {
   "cell_type": "code",
   "execution_count": null,
   "metadata": {},
   "outputs": [],
   "source": [
    "\n",
    "data = pd.read_csv('economic_freedom_index2019_data.csv', encoding='latin-1')\n",
    "null_c = data[data['World Rank'].isnull()] ## countries w nan values, need to be removed\n",
    "data = data[data['World Rank'].notna()] #### remove those countries\n",
    "no = data.columns[data.isna().any()].tolist() ### columns w nan values, need to be removed\n",
    "data = data.drop(no,axis=1) #### remove those columns\n",
    "data = data.drop(['Country'],axis=1) ### Drop column b/c it messes w loop\n",
    "\n",
    "columns = list(data.columns.values) \n",
    "\n",
    "# ##############################################################\n",
    "\n",
    "data = data.replace(',','', regex=True)\n",
    "data[columns[22]] = data[columns[22]].str.replace('$', '')\n",
    "data[columns[24]] = data[columns[24]].str.replace('$', '')\n",
    "data.loc[88,[columns[22]]] = 40 ###hardcode\n",
    "data.loc[88,[columns[24]]] = 1700 ##hardcode\n",
    "\n",
    "dataECON = data\n",
    "dataHD = pd.read_csv('human_development.csv', encoding='latin-1')\n",
    "dataHD = dataHD.iloc[:188,[i for i in range(8) ] ]\n",
    "null_data = dataHD[dataHD.isnull().any(axis=1)]\n",
    "dataEDU = dataHD.loc[:,['Country','Mean Years of Education']]\n",
    "#dataEDU = dataHD.iloc[:188,[i for i in range(8) ] ]\n",
    "dataEDU=  dataEDU.set_index(['Country'])\n",
    "dataECON = dataECON.set_index(['Country Name'])\n",
    "dataECON = dataECON['World Rank']\n",
    "df = pd.merge(dataECON,dataEDU,left_index=True, right_index=True)\n"
   ]
  },
  {
   "cell_type": "code",
   "execution_count": null,
   "metadata": {},
   "outputs": [],
   "source": [
    "map3 = json.load(open('countries.geojson','r'))\n",
    "for i in range(255):\n",
    "    (map3['features'][i]['id']) = i\n",
    "\n",
    "id_map = {}\n",
    "for feature in map3[\"features\"]:\n",
    "\n",
    "    id_map[feature[\"properties\"][\"ADMIN\"]] = feature[\"id\"]\n",
    "\n",
    "\n",
    "\n",
    "\n",
    "df  = df.reset_index() \n",
    "#df.at[151,'index']='United States of America'\n",
    "s = df['index'].tolist()\n",
    "\n",
    "store1 =[]\n",
    "\n",
    "for key in id_map:  ## check to see if in original df\n",
    "    b = key in s\n",
    "    if b == False:\n",
    "        store1.append(key)\n",
    "\n",
    "s = df['index'].tolist()\n",
    "for s in store1: \n",
    "    del id_map[s]\n",
    "\n",
    "s = df['index'].tolist()   \n",
    "for i in s:\n",
    "    if i not in id_map:\n",
    "        df = df[df['index'] != i]\n",
    "      \n",
    "df[\"id\"] = df[\"index\"].apply(lambda x: id_map[x])\n"
   ]
  },
  {
   "cell_type": "code",
   "execution_count": null,
   "metadata": {},
   "outputs": [],
   "source": [
    "import plotly.graph_objects as go\n",
    "\n",
    "g  = ['World Rank','Mean Years of Education']\n",
    "for i in range(2):\n",
    "    fig = go.Figure(go.Choroplethmapbox(geojson=map3, locations=df.id, z=df[g[i]],\n",
    "                                        colorscale=\"Viridis\", zmin=0, zmax= np.max((df['World Rank'].to_numpy())),\n",
    "                                        marker_opacity=0.5, marker_line_width=0))\n",
    "    fig.update_layout(mapbox_style=\"carto-positron\",\n",
    "                      mapbox_zoom=3, mapbox_center = {\"lat\": 37.0902, \"lon\": -95.7129})\n",
    "    fig.update_layout(margin={\"r\":0,\"t\":0,\"l\":0,\"b\":0})\n",
    "    fig.show()\n",
    "    \n",
    "    updatemenus = list([dict(buttons=list()), \n",
    "                        dict(direction='down',\n",
    "                             showactive=True)])\n"
   ]
  },
  {
   "cell_type": "code",
   "execution_count": null,
   "metadata": {},
   "outputs": [],
   "source": []
  }
 ],
 "metadata": {
  "kernelspec": {
   "display_name": "Python 3",
   "language": "python",
   "name": "python3"
  },
  "language_info": {
   "codemirror_mode": {
    "name": "ipython",
    "version": 3
   },
   "file_extension": ".py",
   "mimetype": "text/x-python",
   "name": "python",
   "nbconvert_exporter": "python",
   "pygments_lexer": "ipython3",
   "version": "3.8.3"
  }
 },
 "nbformat": 4,
 "nbformat_minor": 4
}
